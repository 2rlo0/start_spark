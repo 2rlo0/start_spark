{
 "cells": [
  {
   "cell_type": "code",
   "execution_count": 1,
   "id": "f727d15a-b1b5-44a1-8af4-1e75f9da0eab",
   "metadata": {},
   "outputs": [],
   "source": [
    "from pyspark.sql import SparkSession\n",
    "spark = SparkSession.builder.appName(\"taxi-fare-prediction\").getOrCreate()"
   ]
  },
  {
   "cell_type": "code",
   "execution_count": 2,
   "id": "9e725760-0e63-40fa-b6bb-a2d0e6b0529a",
   "metadata": {},
   "outputs": [
    {
     "data": {
      "text/plain": [
       "'/home/jovyan/work/learning_spark_data/trips/*.csv'"
      ]
     },
     "execution_count": 2,
     "metadata": {},
     "output_type": "execute_result"
    }
   ],
   "source": [
    "import os\n",
    "cwd = os.getcwd()\n",
    "trip_data_path = os.path.join(cwd, 'learning_spark_data', 'trips','*.csv')\n",
    "trip_data_path"
   ]
  },
  {
   "cell_type": "code",
   "execution_count": 3,
   "id": "bf3c86d8-21ec-4a38-b921-878bad6d25b9",
   "metadata": {},
   "outputs": [
    {
     "data": {
      "text/plain": [
       "'file:////home/jovyan/work/learning_spark_data/trips/*.csv'"
      ]
     },
     "execution_count": 3,
     "metadata": {},
     "output_type": "execute_result"
    }
   ],
   "source": [
    "file_path = f\"file:///{trip_data_path.replace(os.sep, '/') }\"\n",
    "file_path"
   ]
  },
  {
   "cell_type": "code",
   "execution_count": 21,
   "id": "430fc631-2d2b-4198-a24e-bbcaff0d1ba6",
   "metadata": {},
   "outputs": [
    {
     "name": "stdout",
     "output_type": "stream",
     "text": [
      "root\n",
      " |-- VendorID: integer (nullable = true)\n",
      " |-- tpep_pickup_datetime: timestamp (nullable = true)\n",
      " |-- tpep_dropoff_datetime: timestamp (nullable = true)\n",
      " |-- passenger_count: integer (nullable = true)\n",
      " |-- trip_distance: double (nullable = true)\n",
      " |-- RatecodeID: integer (nullable = true)\n",
      " |-- store_and_fwd_flag: string (nullable = true)\n",
      " |-- PULocationID: integer (nullable = true)\n",
      " |-- DOLocationID: integer (nullable = true)\n",
      " |-- payment_type: integer (nullable = true)\n",
      " |-- fare_amount: double (nullable = true)\n",
      " |-- extra: double (nullable = true)\n",
      " |-- mta_tax: double (nullable = true)\n",
      " |-- tip_amount: double (nullable = true)\n",
      " |-- tolls_amount: double (nullable = true)\n",
      " |-- improvement_surcharge: double (nullable = true)\n",
      " |-- total_amount: double (nullable = true)\n",
      " |-- congestion_surcharge: double (nullable = true)\n",
      "\n"
     ]
    }
   ],
   "source": [
    "trip_df = spark.read.csv(file_path, inferSchema=True, header=True)\n",
    "trip_df.printSchema()"
   ]
  },
  {
   "cell_type": "code",
   "execution_count": 5,
   "id": "2c64346d-ccc2-43a7-a548-d2c9319e4dd8",
   "metadata": {},
   "outputs": [],
   "source": [
    "# 운행거리에 따른 요금 예측"
   ]
  },
  {
   "cell_type": "code",
   "execution_count": 22,
   "id": "b65fb253-1ffa-4cdb-b618-f4ca9bb4be37",
   "metadata": {},
   "outputs": [],
   "source": [
    "trip_df.createOrReplaceTempView('trips')"
   ]
  },
  {
   "cell_type": "code",
   "execution_count": 23,
   "id": "4b8d9213-ca33-4d86-abd2-d93d71b2f512",
   "metadata": {},
   "outputs": [],
   "source": [
    "query = \"\"\"\n",
    "SELECT\n",
    "    trip_distance,\n",
    "    total_amount\n",
    "FROM trips\n",
    "\n",
    "WHERE total_amount < 5000\n",
    "  AND total_amount > 0\n",
    "  AND trip_distance > 0\n",
    "  AND trip_distance < 500\n",
    "  AND passenger_count < 4\n",
    "  AND TO_DATE(tpep_pickup_datetime) >= \"2021-01-01\"\n",
    "  AND TO_DATE(tpep_pickup_datetime) < \"2021-08-01\"\n",
    "\"\"\""
   ]
  },
  {
   "cell_type": "code",
   "execution_count": 24,
   "id": "84fe0521-c3fe-4ed5-a057-d16e1fd04d4a",
   "metadata": {},
   "outputs": [],
   "source": [
    "trip_df = spark.sql(query)\n",
    "trip_df.createOrReplaceTempView('data')"
   ]
  },
  {
   "cell_type": "code",
   "execution_count": 17,
   "id": "fdff7a2f-52a6-4db5-8142-f9321d285b8f",
   "metadata": {},
   "outputs": [
    {
     "name": "stdout",
     "output_type": "stream",
     "text": [
      "+-------------+------------+\n",
      "|trip_distance|total_amount|\n",
      "+-------------+------------+\n",
      "|         16.5|       70.07|\n",
      "|         1.13|       11.16|\n",
      "|         2.68|       18.59|\n",
      "|         12.4|        43.8|\n",
      "|          9.7|        32.3|\n",
      "+-------------+------------+\n",
      "\n"
     ]
    }
   ],
   "source": [
    "# data table 결과 확인하기\n",
    "spark.sql('select * from data limit 5').show()"
   ]
  },
  {
   "cell_type": "code",
   "execution_count": null,
   "id": "22344538-8284-4d01-8e51-d803d6a5dec0",
   "metadata": {},
   "outputs": [],
   "source": []
  },
  {
   "cell_type": "code",
   "execution_count": null,
   "id": "bdc2e626-6b1b-4503-9e30-0b4ed63c21e6",
   "metadata": {},
   "outputs": [],
   "source": [
    "# train, test split 8:2, seed=1"
   ]
  },
  {
   "cell_type": "code",
   "execution_count": 30,
   "id": "e49df17e-f962-4556-8314-f34e651efa31",
   "metadata": {},
   "outputs": [],
   "source": [
    "train_df, test_df = trip_df.randomSplit([0.8,0.2], seed=1)"
   ]
  },
  {
   "cell_type": "code",
   "execution_count": 27,
   "id": "7492d677-3ae4-420b-aac8-0ed21028a55d",
   "metadata": {},
   "outputs": [
    {
     "data": {
      "text/plain": [
       "10500253"
      ]
     },
     "execution_count": 27,
     "metadata": {},
     "output_type": "execute_result"
    }
   ],
   "source": [
    "train_data.count()"
   ]
  },
  {
   "cell_type": "code",
   "execution_count": null,
   "id": "88f94029-9562-4ff1-a289-ba0d3722e35e",
   "metadata": {},
   "outputs": [],
   "source": []
  },
  {
   "cell_type": "code",
   "execution_count": null,
   "id": "5d13052e-ab21-4a9b-a4f2-5a76217c9c78",
   "metadata": {},
   "outputs": [],
   "source": [
    "# vectorassembler > feature : trip_distance, target: total_amount"
   ]
  },
  {
   "cell_type": "code",
   "execution_count": 31,
   "id": "2d9a94fd-e03f-4c5a-9c68-f97a063422c5",
   "metadata": {},
   "outputs": [
    {
     "name": "stdout",
     "output_type": "stream",
     "text": [
      "+-------------+------------+--------+\n",
      "|trip_distance|total_amount|features|\n",
      "+-------------+------------+--------+\n",
      "|         0.01|        3.05|  [0.01]|\n",
      "|         0.01|         3.3|  [0.01]|\n",
      "|         0.01|         3.3|  [0.01]|\n",
      "|         0.01|         3.3|  [0.01]|\n",
      "|         0.01|         3.3|  [0.01]|\n",
      "+-------------+------------+--------+\n",
      "only showing top 5 rows\n",
      "\n"
     ]
    }
   ],
   "source": [
    "from pyspark.ml.feature import VectorAssembler\n",
    "from pyspark.ml.regression import LinearRegression\n",
    "\n",
    "# vectorassembler > features : trip_distance, target: total_amount\n",
    "vassembler = VectorAssembler(inputCols=['trip_distance'], outputCol='features')\n",
    "vtrain_df = vassembler.transform(train_df)\n",
    "vtrain_df.show(5)"
   ]
  },
  {
   "cell_type": "code",
   "execution_count": null,
   "id": "1ba57737-f10e-4cc0-8881-5fa77a878fe6",
   "metadata": {},
   "outputs": [],
   "source": [
    "# linearRegression 생성 maxIter=50, labelCol='total_amount', featuresCol='features'\n",
    "# fit\n",
    "# vassembler.transform(test)\n",
    "# model.transform()"
   ]
  },
  {
   "cell_type": "code",
   "execution_count": 35,
   "id": "b7966ff8-16a4-46f9-968e-4bfc5034bf3b",
   "metadata": {},
   "outputs": [],
   "source": [
    "from pyspark.ml.regression import LinearRegression\n",
    "lr = LinearRegression( maxIter=50, labelCol='total_amount', featuresCol='features')\n",
    "lr_model = lr.fit(vtrain_df) # 천만건데이터 학습\n",
    "\n",
    "vtest_df = vassembler.transform(test_df)\n",
    "pred = lr_model.transform(vtest_df) # 2백만건 데이터 예측\n"
   ]
  },
  {
   "cell_type": "code",
   "execution_count": 38,
   "id": "3d575218-31a6-41a7-9399-1689b7ae3744",
   "metadata": {},
   "outputs": [
    {
     "name": "stdout",
     "output_type": "stream",
     "text": [
      "+-------------+------------+-----------------+\n",
      "|trip_distance|total_amount|       prediction|\n",
      "+-------------+------------+-----------------+\n",
      "|         0.01|         3.3|9.430440745312902|\n",
      "|         0.01|         3.3|9.430440745312902|\n",
      "|         0.01|         3.3|9.430440745312902|\n",
      "|         0.01|         3.3|9.430440745312902|\n",
      "|         0.01|         3.3|9.430440745312902|\n",
      "|         0.01|         3.3|9.430440745312902|\n",
      "|         0.01|         3.3|9.430440745312902|\n",
      "|         0.01|         3.3|9.430440745312902|\n",
      "|         0.01|         3.3|9.430440745312902|\n",
      "|         0.01|         3.3|9.430440745312902|\n",
      "+-------------+------------+-----------------+\n",
      "only showing top 10 rows\n",
      "\n"
     ]
    }
   ],
   "source": [
    "pred.select('trip_distance', 'total_amount', 'prediction').show(10)"
   ]
  },
  {
   "cell_type": "code",
   "execution_count": 36,
   "id": "7c596338-c35d-4f27-972b-95e0057890a5",
   "metadata": {},
   "outputs": [
    {
     "data": {
      "text/plain": [
       "6.30781413196623"
      ]
     },
     "execution_count": 36,
     "metadata": {},
     "output_type": "execute_result"
    }
   ],
   "source": [
    "lr_model.summary.rootMeanSquaredError #RMSE"
   ]
  },
  {
   "cell_type": "code",
   "execution_count": 37,
   "id": "d91aed50-e1cd-4da0-a513-16ee3d1a9dd7",
   "metadata": {},
   "outputs": [
    {
     "data": {
      "text/plain": [
       "0.7648633777017714"
      ]
     },
     "execution_count": 37,
     "metadata": {},
     "output_type": "execute_result"
    }
   ],
   "source": [
    "lr_model.summary.r2"
   ]
  },
  {
   "cell_type": "code",
   "execution_count": null,
   "id": "9e3b5103-6a31-43aa-95d9-6cbceab8dd85",
   "metadata": {},
   "outputs": [],
   "source": []
  },
  {
   "cell_type": "code",
   "execution_count": null,
   "id": "38ec1db2-73b3-4937-b399-87b91b2240aa",
   "metadata": {},
   "outputs": [],
   "source": [
    "# 새로운 데이터로 예측하기"
   ]
  },
  {
   "cell_type": "code",
   "execution_count": 45,
   "id": "7edbe0de-f3d6-4003-95d0-271cd7f6ec77",
   "metadata": {},
   "outputs": [
    {
     "name": "stdout",
     "output_type": "stream",
     "text": [
      "+-------------+\n",
      "|trip_distance|\n",
      "+-------------+\n",
      "|          1.1|\n",
      "|          5.4|\n",
      "|         10.2|\n",
      "|         30.0|\n",
      "+-------------+\n",
      "\n"
     ]
    }
   ],
   "source": [
    "from pyspark.sql.types import DoubleType\n",
    "\n",
    "new_distance_list = [1.1, 5.4, 10.2, 30.0]\n",
    "distance_df = spark.createDataFrame(new_distance_list, DoubleType()).toDF('trip_distance')\n",
    "distance_df.show()"
   ]
  },
  {
   "cell_type": "code",
   "execution_count": 46,
   "id": "66645f7d-00ce-4d00-b6c7-191b05d9b845",
   "metadata": {},
   "outputs": [
    {
     "name": "stdout",
     "output_type": "stream",
     "text": [
      "+-------------+--------+------------------+\n",
      "|trip_distance|features|        prediction|\n",
      "+-------------+--------+------------------+\n",
      "|          1.1|   [1.1]|12.672809485363317|\n",
      "|          5.4|   [5.4]|25.463805432351194|\n",
      "|         10.2|  [10.2]| 39.74212648945393|\n",
      "|         30.0|  [30.0]| 98.64020085000274|\n",
      "+-------------+--------+------------------+\n",
      "\n"
     ]
    }
   ],
   "source": [
    "vdistance_df = vassembler.transform(distance_df)\n",
    "lr_model.transform(vdistance_df).show()"
   ]
  },
  {
   "cell_type": "code",
   "execution_count": 47,
   "id": "fc556afe-8208-4bea-b5ed-1c512e650b5c",
   "metadata": {},
   "outputs": [],
   "source": [
    "spark.stop()"
   ]
  }
 ],
 "metadata": {
  "kernelspec": {
   "display_name": "Python 3 (ipykernel)",
   "language": "python",
   "name": "python3"
  },
  "language_info": {
   "codemirror_mode": {
    "name": "ipython",
    "version": 3
   },
   "file_extension": ".py",
   "mimetype": "text/x-python",
   "name": "python",
   "nbconvert_exporter": "python",
   "pygments_lexer": "ipython3",
   "version": "3.11.6"
  }
 },
 "nbformat": 4,
 "nbformat_minor": 5
}
