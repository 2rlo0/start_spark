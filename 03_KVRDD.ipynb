{
 "cells": [
  {
   "cell_type": "code",
   "execution_count": 66,
   "id": "a05aab91-d8fc-400b-a586-87e19b6722c8",
   "metadata": {},
   "outputs": [],
   "source": [
    "from pyspark.sql import SparkSession\n",
    "\n",
    "spark = SparkSession.builder \\\n",
    "    .appName(\"restaurant-review-average\") \\\n",
    "    .master(\"local[*]\") \\\n",
    "    .getOrCreate()"
   ]
  },
  {
   "cell_type": "code",
   "execution_count": 67,
   "id": "4ef0d1d1-ddac-48b5-9f4d-9b15ab4995c2",
   "metadata": {},
   "outputs": [],
   "source": [
    "sc = spark.sparkContext  # 필요 시 RDD API를 위해 사용"
   ]
  },
  {
   "cell_type": "code",
   "execution_count": 68,
   "id": "330c44a2-4826-4e63-ae8f-eb1195b34209",
   "metadata": {},
   "outputs": [
    {
     "data": {
      "text/plain": [
       "2"
      ]
     },
     "execution_count": 68,
     "metadata": {},
     "output_type": "execute_result"
    }
   ],
   "source": [
    "sc.defaultParallelism # 병렬 처리 수준 확인"
   ]
  },
  {
   "cell_type": "code",
   "execution_count": 4,
   "id": "e16f526f-10ce-40dc-bbad-d9b97950cd80",
   "metadata": {},
   "outputs": [],
   "source": [
    "sc.setLogLevel('INFO') # 로그레벨 설정"
   ]
  },
  {
   "cell_type": "code",
   "execution_count": 5,
   "id": "75783e9d-4f6e-4512-8b3e-c85cb5ba7fc9",
   "metadata": {},
   "outputs": [
    {
     "data": {
      "text/plain": [
       "[('spark.app.submitTime', '1754273757847'),\n",
       " ('spark.app.name', 'restaurant-review-average'),\n",
       " ('spark.executor.id', 'driver'),\n",
       " ('spark.app.id', 'local-1754273758453'),\n",
       " ('spark.driver.host', '5a5b2d76aca0'),\n",
       " ('spark.driver.extraJavaOptions',\n",
       "  '-Djava.net.preferIPv6Addresses=false -XX:+IgnoreUnrecognizedVMOptions --add-opens=java.base/java.lang=ALL-UNNAMED --add-opens=java.base/java.lang.invoke=ALL-UNNAMED --add-opens=java.base/java.lang.reflect=ALL-UNNAMED --add-opens=java.base/java.io=ALL-UNNAMED --add-opens=java.base/java.net=ALL-UNNAMED --add-opens=java.base/java.nio=ALL-UNNAMED --add-opens=java.base/java.util=ALL-UNNAMED --add-opens=java.base/java.util.concurrent=ALL-UNNAMED --add-opens=java.base/java.util.concurrent.atomic=ALL-UNNAMED --add-opens=java.base/sun.nio.ch=ALL-UNNAMED --add-opens=java.base/sun.nio.cs=ALL-UNNAMED --add-opens=java.base/sun.security.action=ALL-UNNAMED --add-opens=java.base/sun.util.calendar=ALL-UNNAMED --add-opens=java.security.jgss/sun.security.krb5=ALL-UNNAMED -Djdk.reflect.useDirectMethodHandle=false'),\n",
       " ('spark.rdd.compress', 'True'),\n",
       " ('spark.driver.port', '35323'),\n",
       " ('spark.app.startTime', '1754273757936'),\n",
       " ('spark.serializer.objectStreamReset', '100'),\n",
       " ('spark.master', 'local[*]'),\n",
       " ('spark.submit.pyFiles', ''),\n",
       " ('spark.submit.deployMode', 'client'),\n",
       " ('spark.ui.showConsoleProgress', 'true'),\n",
       " ('spark.executor.extraJavaOptions',\n",
       "  '-Djava.net.preferIPv6Addresses=false -XX:+IgnoreUnrecognizedVMOptions --add-opens=java.base/java.lang=ALL-UNNAMED --add-opens=java.base/java.lang.invoke=ALL-UNNAMED --add-opens=java.base/java.lang.reflect=ALL-UNNAMED --add-opens=java.base/java.io=ALL-UNNAMED --add-opens=java.base/java.net=ALL-UNNAMED --add-opens=java.base/java.nio=ALL-UNNAMED --add-opens=java.base/java.util=ALL-UNNAMED --add-opens=java.base/java.util.concurrent=ALL-UNNAMED --add-opens=java.base/java.util.concurrent.atomic=ALL-UNNAMED --add-opens=java.base/sun.nio.ch=ALL-UNNAMED --add-opens=java.base/sun.nio.cs=ALL-UNNAMED --add-opens=java.base/sun.security.action=ALL-UNNAMED --add-opens=java.base/sun.util.calendar=ALL-UNNAMED --add-opens=java.security.jgss/sun.security.krb5=ALL-UNNAMED -Djdk.reflect.useDirectMethodHandle=false')]"
      ]
     },
     "execution_count": 5,
     "metadata": {},
     "output_type": "execute_result"
    }
   ],
   "source": [
    "sc.getConf().getAll() # 현재 설정 확인"
   ]
  },
  {
   "cell_type": "code",
   "execution_count": 6,
   "id": "a36c8cfa-15fb-433e-93c7-cec5bf6c3f1c",
   "metadata": {},
   "outputs": [],
   "source": [
    "data = [\n",
    "    (0, \"짜장면\", \"중식\", 125),\n",
    "    (1, \"짬뽕\", \"중식\", 235),\n",
    "    (2, \"김밥\", \"분식\", 32),\n",
    "    (3, \"떡볶이\", \"분식\", 534),\n",
    "    (4, \"라멘\", \"일식\", 223),\n",
    "    (5, \"돈가스\", \"일식\", 52),\n",
    "    (6, \"우동\", \"일식\", 12),\n",
    "    (7, \"쌀국수\", \"아시안\", 312),\n",
    "    (8, \"햄버거\", \"패스트푸드\", 12),\n",
    "    (9, \"치킨\", \"패스트푸드\", 23),\n",
    "]"
   ]
  },
  {
   "cell_type": "code",
   "execution_count": 7,
   "id": "7ce103ca-bb84-4eac-aafd-4b7ae365b11b",
   "metadata": {},
   "outputs": [],
   "source": [
    "rdd1 = sc.parallelize(data)"
   ]
  },
  {
   "cell_type": "code",
   "execution_count": 8,
   "id": "4eb301ec-fa09-4f4d-b112-945646240620",
   "metadata": {},
   "outputs": [
    {
     "data": {
      "text/plain": [
       "[(0, '짜장면', '중식', 125), (1, '짬뽕', '중식', 235), (2, '김밥', '분식', 32)]"
      ]
     },
     "execution_count": 8,
     "metadata": {},
     "output_type": "execute_result"
    }
   ],
   "source": [
    "rdd1.take(3)"
   ]
  },
  {
   "cell_type": "code",
   "execution_count": 69,
   "id": "b39bb1d1-1d25-43db-b8c4-f12e1cb596f2",
   "metadata": {},
   "outputs": [
    {
     "data": {
      "text/plain": [
       "['id,item,cateogry,reviews,',\n",
       " '0,짜장면,중식,125,',\n",
       " '1,짬뽕,중식,235,',\n",
       " '2,김밥,분식,32,',\n",
       " '3,떡볶이,분식,534,']"
      ]
     },
     "execution_count": 69,
     "metadata": {},
     "output_type": "execute_result"
    }
   ],
   "source": [
    "lines = sc.textFile(\"file:///home/jovyan/work/learning_spark_data/restaurant_reviews.csv\")\n",
    "\n",
    "lines.take(5)"
   ]
  },
  {
   "cell_type": "code",
   "execution_count": 16,
   "id": "6bcbce12-918e-40aa-b73f-fba6c2cf92aa",
   "metadata": {},
   "outputs": [],
   "source": [
    "# 총건수 확인\n",
    "# 첫줄, 데이터 분할\n",
    "# map으로 split"
   ]
  },
  {
   "cell_type": "code",
   "execution_count": 17,
   "id": "6f849e07-3e75-47fa-91fa-05b362c03834",
   "metadata": {},
   "outputs": [
    {
     "data": {
      "text/plain": [
       "11"
      ]
     },
     "execution_count": 17,
     "metadata": {},
     "output_type": "execute_result"
    }
   ],
   "source": [
    "lines.count()"
   ]
  },
  {
   "cell_type": "code",
   "execution_count": 70,
   "id": "f6973fb4-c938-4445-8884-e97a6a57d154",
   "metadata": {},
   "outputs": [],
   "source": [
    "header  = lines.first()\n",
    "data = lines.filter(lambda line: line!=header) \\\n",
    "           # .map(lambda line: line.split(','))"
   ]
  },
  {
   "cell_type": "code",
   "execution_count": 71,
   "id": "783bec6d-47f9-4c4b-8a28-97dfc12d6906",
   "metadata": {},
   "outputs": [
    {
     "data": {
      "text/plain": [
       "['0,짜장면,중식,125,', '1,짬뽕,중식,235,', '2,김밥,분식,32,']"
      ]
     },
     "execution_count": 71,
     "metadata": {},
     "output_type": "execute_result"
    }
   ],
   "source": [
    "data.take(3)"
   ]
  },
  {
   "cell_type": "code",
   "execution_count": 72,
   "id": "5c160dae-24a1-4ab8-8d20-f581c77d5d8d",
   "metadata": {},
   "outputs": [],
   "source": [
    "def parse(row):\n",
    "    fields = row.split(\",\")\n",
    "    \n",
    "    category = fields[2] #카테고리\n",
    "    \n",
    "    # reviews는 정수로 parse\n",
    "    reviews = fields[3] # 리뷰수\n",
    "    reviews = int(reviews)\n",
    "    \n",
    "    return category, reviews"
   ]
  },
  {
   "cell_type": "code",
   "execution_count": 57,
   "id": "3b9a16c5-2936-4fd2-92ac-7cc448854f30",
   "metadata": {},
   "outputs": [
    {
     "data": {
      "text/plain": [
       "('중식', 125)"
      ]
     },
     "execution_count": 57,
     "metadata": {},
     "output_type": "execute_result"
    }
   ],
   "source": [
    "parse('0,짜장면,중식,125,')"
   ]
  },
  {
   "cell_type": "code",
   "execution_count": 58,
   "id": "525a9373-e459-41bf-bffe-c8decd53dd38",
   "metadata": {},
   "outputs": [
    {
     "data": {
      "text/plain": [
       "PythonRDD[39] at RDD at PythonRDD.scala:53"
      ]
     },
     "execution_count": 58,
     "metadata": {},
     "output_type": "execute_result"
    }
   ],
   "source": [
    "category_reviews = data.map(parse)\n",
    "category_reviews"
   ]
  },
  {
   "cell_type": "code",
   "execution_count": 60,
   "id": "7ff39284-a98b-4f2b-995c-f16327268aa3",
   "metadata": {},
   "outputs": [
    {
     "data": {
      "text/plain": [
       "[('중식', 125),\n",
       " ('중식', 235),\n",
       " ('분식', 32),\n",
       " ('분식', 534),\n",
       " ('일식', 223),\n",
       " ('일식', 52),\n",
       " ('일식', 12),\n",
       " ('아시안', 312),\n",
       " ('패스트푸드', 12),\n",
       " ('패스트푸드', 23)]"
      ]
     },
     "execution_count": 60,
     "metadata": {},
     "output_type": "execute_result"
    }
   ],
   "source": [
    "category_reviews.collect()"
   ]
  },
  {
   "cell_type": "markdown",
   "id": "db400fd7-bf81-4b8d-b4c9-b3799060b947",
   "metadata": {},
   "source": [
    "map(key, value) -> key, value 전체에 적용\n",
    "mapValues(key, value) -> value 에만 적용"
   ]
  },
  {
   "cell_type": "code",
   "execution_count": 61,
   "id": "23ddcb33-0eb8-4636-bf96-cb18811ce931",
   "metadata": {},
   "outputs": [
    {
     "data": {
      "text/plain": [
       "[('중식', (125, 1)),\n",
       " ('중식', (235, 1)),\n",
       " ('분식', (32, 1)),\n",
       " ('분식', (534, 1)),\n",
       " ('일식', (223, 1)),\n",
       " ('일식', (52, 1)),\n",
       " ('일식', (12, 1)),\n",
       " ('아시안', (312, 1)),\n",
       " ('패스트푸드', (12, 1)),\n",
       " ('패스트푸드', (23, 1))]"
      ]
     },
     "execution_count": 61,
     "metadata": {},
     "output_type": "execute_result"
    }
   ],
   "source": [
    "category_review_count = category_reviews.mapValues(lambda x : (x, 1)) # x는 review 개수\n",
    "category_review_count.collect()"
   ]
  },
  {
   "cell_type": "code",
   "execution_count": 63,
   "id": "e65cdf40-738a-43e7-823d-e5e3c661fc19",
   "metadata": {},
   "outputs": [
    {
     "data": {
      "text/plain": [
       "[('중식', (360, 2)),\n",
       " ('분식', (566, 2)),\n",
       " ('일식', (287, 3)),\n",
       " ('아시안', (312, 1)),\n",
       " ('패스트푸드', (35, 2))]"
      ]
     },
     "execution_count": 63,
     "metadata": {},
     "output_type": "execute_result"
    }
   ],
   "source": [
    "#같은 key(카테고리)끼리 x와 y의 (리뷰 수 합계, 개수 합계)를 누적\n",
    "#첫번째 중식 x, 두번째 중식 y , [0] 은 리뷰수, [1] 은 개수 -> 같은 키끼리 행을 바꿔가며 계속 누적해 나간다.\n",
    "reduced = category_review_count.reduceByKey(lambda x, y : (x[0] + y[0], x[1] + y[1]))\n",
    "reduced.collect()"
   ]
  },
  {
   "cell_type": "code",
   "execution_count": 64,
   "id": "cb50f397-8c27-4a2c-881f-8f8cd0f00864",
   "metadata": {},
   "outputs": [
    {
     "data": {
      "text/plain": [
       "[('중식', 180.0),\n",
       " ('분식', 283.0),\n",
       " ('일식', 95.66666666666667),\n",
       " ('아시안', 312.0),\n",
       " ('패스트푸드', 17.5)]"
      ]
     },
     "execution_count": 64,
     "metadata": {},
     "output_type": "execute_result"
    }
   ],
   "source": [
    "average = reduced.mapValues(lambda x : x[0] / x[1])\n",
    "average.collect()"
   ]
  },
  {
   "cell_type": "code",
   "execution_count": null,
   "id": "ed7431d2-e1b3-47ed-9ddf-7242625529f3",
   "metadata": {},
   "outputs": [],
   "source": []
  },
  {
   "cell_type": "code",
   "execution_count": 65,
   "id": "ad217aee-4242-4c91-ac7f-ea3d07263b8f",
   "metadata": {},
   "outputs": [],
   "source": [
    "sc.stop()\n",
    "spark.stop()"
   ]
  },
  {
   "cell_type": "code",
   "execution_count": null,
   "id": "a0f71a02-62bc-4ceb-96fd-1998fc83fe58",
   "metadata": {},
   "outputs": [],
   "source": []
  },
  {
   "cell_type": "code",
   "execution_count": null,
   "id": "760bdd71-bd05-4310-85e1-348f4a255acd",
   "metadata": {},
   "outputs": [],
   "source": [
    "# Persist 를 사용하지 않을 때"
   ]
  },
  {
   "cell_type": "code",
   "execution_count": 73,
   "id": "935eaf8b-9fbc-4034-b5cf-a596e688f9ca",
   "metadata": {},
   "outputs": [
    {
     "data": {
      "text/plain": [
       "['0,짜장면,중식,125,',\n",
       " '1,짬뽕,중식,235,',\n",
       " '2,김밥,분식,32,',\n",
       " '3,떡볶이,분식,534,',\n",
       " '4,라멘,일식,223,',\n",
       " '5,돈가스,일식,52,',\n",
       " '6,우동,일식,12,',\n",
       " '7,쌀국수,아시안,312,',\n",
       " '8,햄버거,패스트푸드,12,',\n",
       " '9,치킨,패스트푸드,23']"
      ]
     },
     "execution_count": 73,
     "metadata": {},
     "output_type": "execute_result"
    }
   ],
   "source": [
    "header = lines.first()\n",
    "filtered_lines = lines.filter(lambda row : row != header)\n",
    "filtered_lines.collect()"
   ]
  },
  {
   "cell_type": "code",
   "execution_count": 74,
   "id": "2841a1f8-f580-466e-bce3-06f578cdb7f2",
   "metadata": {},
   "outputs": [
    {
     "data": {
      "text/plain": [
       "[('중식', 125),\n",
       " ('중식', 235),\n",
       " ('분식', 32),\n",
       " ('분식', 534),\n",
       " ('일식', 223),\n",
       " ('일식', 52),\n",
       " ('일식', 12),\n",
       " ('아시안', 312),\n",
       " ('패스트푸드', 12),\n",
       " ('패스트푸드', 23)]"
      ]
     },
     "execution_count": 74,
     "metadata": {},
     "output_type": "execute_result"
    }
   ],
   "source": [
    "# transformations를 수행할 RDD 생성\n",
    "categoryReviews = filtered_lines.map(parse)\n",
    "categoryReviews.collect()"
   ]
  },
  {
   "cell_type": "code",
   "execution_count": 75,
   "id": "2a614bb0-2e14-4045-a906-ea8c4fb31027",
   "metadata": {},
   "outputs": [],
   "source": [
    "result1 = categoryReviews.take(10) # action을 곧바로 실행"
   ]
  },
  {
   "cell_type": "code",
   "execution_count": 76,
   "id": "0cd8a225-ff6b-4cc7-9d27-62302446c82c",
   "metadata": {},
   "outputs": [],
   "source": [
    "result2 = categoryReviews.mapValues(lambda x : (x, 1)).collect()"
   ]
  },
  {
   "cell_type": "code",
   "execution_count": null,
   "id": "52c0a51b-259f-48c8-a182-1df23cac2e00",
   "metadata": {},
   "outputs": [],
   "source": []
  },
  {
   "cell_type": "code",
   "execution_count": null,
   "id": "422f14b9-8e40-4798-b933-9b34634c5e1f",
   "metadata": {},
   "outputs": [],
   "source": [
    "# persist를 사용하는 경우"
   ]
  },
  {
   "cell_type": "code",
   "execution_count": 77,
   "id": "10ff4694-b206-4e25-9100-b3251e68389b",
   "metadata": {},
   "outputs": [
    {
     "data": {
      "text/plain": [
       "PythonRDD[11] at RDD at PythonRDD.scala:53"
      ]
     },
     "execution_count": 77,
     "metadata": {},
     "output_type": "execute_result"
    }
   ],
   "source": [
    "#job x\n",
    "categoryReviews = filtered_lines.map(parse).persist() # categoryReviews RDD는 하나만 존재하는 RDD\n",
    "categoryReviews"
   ]
  },
  {
   "cell_type": "code",
   "execution_count": 78,
   "id": "299d8fa0-6088-48f0-9427-ce5546e17d6a",
   "metadata": {},
   "outputs": [
    {
     "data": {
      "text/plain": [
       "[('중식', 125),\n",
       " ('중식', 235),\n",
       " ('분식', 32),\n",
       " ('분식', 534),\n",
       " ('일식', 223),\n",
       " ('일식', 52),\n",
       " ('일식', 12),\n",
       " ('아시안', 312),\n",
       " ('패스트푸드', 12),\n",
       " ('패스트푸드', 23)]"
      ]
     },
     "execution_count": 78,
     "metadata": {},
     "output_type": "execute_result"
    }
   ],
   "source": [
    "result3 = categoryReviews.take(10)\n",
    "result3"
   ]
  },
  {
   "cell_type": "code",
   "execution_count": 79,
   "id": "42d5495c-daf9-4fc1-a6ba-394e7ea6c3a2",
   "metadata": {},
   "outputs": [
    {
     "data": {
      "text/plain": [
       "[('중식', (125, 1)),\n",
       " ('중식', (235, 1)),\n",
       " ('분식', (32, 1)),\n",
       " ('분식', (534, 1)),\n",
       " ('일식', (223, 1)),\n",
       " ('일식', (52, 1)),\n",
       " ('일식', (12, 1)),\n",
       " ('아시안', (312, 1)),\n",
       " ('패스트푸드', (12, 1)),\n",
       " ('패스트푸드', (23, 1))]"
      ]
     },
     "execution_count": 79,
     "metadata": {},
     "output_type": "execute_result"
    }
   ],
   "source": [
    "result4 = categoryReviews.mapValues(lambda x : (x, 1)).collect()\n",
    "result4"
   ]
  },
  {
   "cell_type": "code",
   "execution_count": 80,
   "id": "ff692e46-49ab-4ab1-83bd-5399da776b3d",
   "metadata": {},
   "outputs": [
    {
     "data": {
      "text/plain": [
       "[('중식', 360), ('분식', 566), ('일식', 287), ('아시안', 312), ('패스트푸드', 35)]"
      ]
     },
     "execution_count": 80,
     "metadata": {},
     "output_type": "execute_result"
    }
   ],
   "source": [
    "# 카테고리별 값1 합계 계산 (첫 번째 연산)\n",
    "result_sum = categoryReviews \\\n",
    "    .reduceByKey(lambda a, b: a + b) \\\n",
    "    .collect()\n",
    "result_sum"
   ]
  },
  {
   "cell_type": "code",
   "execution_count": 81,
   "id": "9ee2ff46-c1db-4a8f-a33e-20cff0b76ef2",
   "metadata": {},
   "outputs": [
    {
     "data": {
      "text/plain": [
       "[('중식', (125, 1)), ('중식', (235, 1)), ('분식', (32, 1))]"
      ]
     },
     "execution_count": 81,
     "metadata": {},
     "output_type": "execute_result"
    }
   ],
   "source": [
    "# (카테고리, (점수, 1)) 형태로 변환\n",
    "rdd_with_count = categoryReviews.map(lambda x: (x[0], (x[1], 1)))\n",
    "rdd_with_count.take(3)"
   ]
  },
  {
   "cell_type": "code",
   "execution_count": 82,
   "id": "abcab661-59c8-4b92-bb6a-02cb1be2c49a",
   "metadata": {},
   "outputs": [
    {
     "data": {
      "text/plain": [
       "[('중식', (360, 2)), ('분식', (566, 2)), ('일식', (287, 3))]"
      ]
     },
     "execution_count": 82,
     "metadata": {},
     "output_type": "execute_result"
    }
   ],
   "source": [
    "# reduceByKey로 (점수 총합, 개수 총합) 집계\n",
    "rdd_sums = rdd_with_count.reduceByKey(lambda a, b: (a[0] + b[0], a[1] + b[1]))\n",
    "rdd_sums.take(3)"
   ]
  },
  {
   "cell_type": "code",
   "execution_count": 83,
   "id": "a8f336c6-391a-40fb-8813-090f675908a8",
   "metadata": {},
   "outputs": [
    {
     "data": {
      "text/plain": [
       "[('중식', 180.0), ('분식', 283.0), ('일식', 95.67), ('아시안', 312.0), ('패스트푸드', 17.5)]"
      ]
     },
     "execution_count": 83,
     "metadata": {},
     "output_type": "execute_result"
    }
   ],
   "source": [
    "# 평균 계산\n",
    "rdd_avg = rdd_sums.mapValues(lambda x: round(x[0] / x[1], 2))\n",
    "\n",
    "# 결과 출력\n",
    "rdd_avg.collect()"
   ]
  },
  {
   "cell_type": "code",
   "execution_count": 84,
   "id": "759d9662-04f2-4d9e-b4ba-0da58b0606a9",
   "metadata": {},
   "outputs": [
    {
     "data": {
      "text/plain": [
       "PythonRDD[11] at RDD at PythonRDD.scala:53"
      ]
     },
     "execution_count": 84,
     "metadata": {},
     "output_type": "execute_result"
    }
   ],
   "source": [
    "# 기존 저장 레벨 해제\n",
    "categoryReviews.unpersist()"
   ]
  },
  {
   "cell_type": "code",
   "execution_count": 85,
   "id": "5f6c1be3-cc63-4282-bf83-af73fdebd989",
   "metadata": {},
   "outputs": [],
   "source": [
    "result11 = categoryReviews.filter(lambda x: x[1] > 100).count()\n",
    "result12 = categoryReviews.filter(lambda x: x[1] <= 100).count()"
   ]
  },
  {
   "cell_type": "code",
   "execution_count": null,
   "id": "0a56a76e-d825-4dde-8514-a1e157037562",
   "metadata": {},
   "outputs": [],
   "source": []
  },
  {
   "cell_type": "markdown",
   "id": "29d7ebfc-26ce-4066-93aa-aefd959a30b4",
   "metadata": {},
   "source": [
    "Narrow Transformations\n",
    "1:1 변환 → 하나의 열을 다룰 때 다른 데이터가 필요 없는 경우\n",
    "filter(), map(), flatMap(), sample(), union()\n",
    "\n",
    "wide Transformations"
   ]
  },
  {
   "cell_type": "code",
   "execution_count": null,
   "id": "4e42a07f-8c26-4ce7-ad40-31a047b03f2d",
   "metadata": {},
   "outputs": [],
   "source": []
  },
  {
   "cell_type": "markdown",
   "id": "30508637-62ce-4509-b2c1-264c74bbb466",
   "metadata": {},
   "source": [
    "# flatMap()"
   ]
  },
  {
   "cell_type": "code",
   "execution_count": 86,
   "id": "82165f94-24d7-480b-a921-72bb3454f6bd",
   "metadata": {},
   "outputs": [
    {
     "data": {
      "text/plain": [
       "[[1, 2], [2, 3], [3, 4]]"
      ]
     },
     "execution_count": 86,
     "metadata": {},
     "output_type": "execute_result"
    }
   ],
   "source": [
    "rdd = sc.parallelize([1, 2, 3])\n",
    "rdd_map = rdd.map(lambda x: [x, x + 1])  # => [[1, 2], [2, 3], [3, 4]]\n",
    "rdd_map.collect()"
   ]
  },
  {
   "cell_type": "code",
   "execution_count": 87,
   "id": "785e66e0-0058-4d1c-a7d3-52d286e5c005",
   "metadata": {},
   "outputs": [
    {
     "data": {
      "text/plain": [
       "[1, 2, 2, 3, 3, 4]"
      ]
     },
     "execution_count": 87,
     "metadata": {},
     "output_type": "execute_result"
    }
   ],
   "source": [
    "rdd_flatmap = rdd.flatMap(lambda x: [x, x + 1])  # => [1, 2, 2, 3, 3, 4]\n",
    "rdd_flatmap.collect()"
   ]
  },
  {
   "cell_type": "code",
   "execution_count": null,
   "id": "18fefa3c-5c84-4d7f-8ad3-adc19feb4126",
   "metadata": {},
   "outputs": [],
   "source": [
    "# 텍스트를 단어로 쪼개서 flatMap()"
   ]
  },
  {
   "cell_type": "code",
   "execution_count": 88,
   "id": "6275f167-bf7d-4f45-8c44-9a4c9ca55055",
   "metadata": {},
   "outputs": [],
   "source": [
    "movies = [\n",
    "    \"그린 북\",\n",
    "    \"매트릭스\",\n",
    "    \"토이 스토리\",\n",
    "    \"캐스트 어웨이\",\n",
    "    \"포드 V 페라리\",\n",
    "    \"보헤미안 랩소디\",\n",
    "    \"빽 투 더 퓨처\",\n",
    "    \"반지의 제왕\",\n",
    "    \"죽은 시인의 사회\"\n",
    "]"
   ]
  },
  {
   "cell_type": "code",
   "execution_count": 89,
   "id": "b949a22f-7cae-4caa-9342-9014e712ff32",
   "metadata": {},
   "outputs": [
    {
     "data": {
      "text/plain": [
       "ParallelCollectionRDD[33] at readRDDFromFile at PythonRDD.scala:289"
      ]
     },
     "execution_count": 89,
     "metadata": {},
     "output_type": "execute_result"
    }
   ],
   "source": [
    "moviesRDD = sc.parallelize(movies)\n",
    "moviesRDD"
   ]
  },
  {
   "cell_type": "code",
   "execution_count": 90,
   "id": "2a1469cf-1ec8-4d3b-800c-6bae77cea6ad",
   "metadata": {},
   "outputs": [
    {
     "data": {
      "text/plain": [
       "['그린',\n",
       " '북',\n",
       " '매트릭스',\n",
       " '토이',\n",
       " '스토리',\n",
       " '캐스트',\n",
       " '어웨이',\n",
       " '포드',\n",
       " 'V',\n",
       " '페라리',\n",
       " '보헤미안',\n",
       " '랩소디',\n",
       " '빽',\n",
       " '투',\n",
       " '더',\n",
       " '퓨처',\n",
       " '반지의',\n",
       " '제왕',\n",
       " '죽은',\n",
       " '시인의',\n",
       " '사회']"
      ]
     },
     "execution_count": 90,
     "metadata": {},
     "output_type": "execute_result"
    }
   ],
   "source": [
    "#job 추가 x\n",
    "flatMovies = moviesRDD.flatMap(lambda x : x.split(\" \"))\n",
    "flatMovies.collect()"
   ]
  },
  {
   "cell_type": "code",
   "execution_count": null,
   "id": "49a36ff3-b8dd-404f-bb4f-275e30ba6e27",
   "metadata": {},
   "outputs": [],
   "source": []
  },
  {
   "cell_type": "code",
   "execution_count": 91,
   "id": "2e736004-45d7-41d9-8b25-6a452a5b97bc",
   "metadata": {},
   "outputs": [],
   "source": [
    "# 집합 Transformation"
   ]
  },
  {
   "cell_type": "code",
   "execution_count": 92,
   "id": "d9f35be3-24d8-463a-8ca2-61b51ccec309",
   "metadata": {},
   "outputs": [],
   "source": [
    "num1 = sc.parallelize([1, 2, 3, 4, 5])\n",
    "num2 = sc.parallelize([4, 5, 6, 7, 8, 9, 10])"
   ]
  },
  {
   "cell_type": "code",
   "execution_count": 93,
   "id": "ba691441-d1c2-4628-8802-e967ca754f24",
   "metadata": {},
   "outputs": [
    {
     "data": {
      "text/plain": [
       "[4, 5]"
      ]
     },
     "execution_count": 93,
     "metadata": {},
     "output_type": "execute_result"
    }
   ],
   "source": [
    "num1.intersection(num2).collect()"
   ]
  },
  {
   "cell_type": "code",
   "execution_count": null,
   "id": "74cef090-de49-431d-8ec3-7cf3e53f4e4f",
   "metadata": {},
   "outputs": [],
   "source": []
  },
  {
   "cell_type": "code",
   "execution_count": null,
   "id": "5e0e8489-f4d4-4cea-abd8-e92d1c9aa116",
   "metadata": {},
   "outputs": [],
   "source": [
    "# 합집합 구하기 - union"
   ]
  },
  {
   "cell_type": "code",
   "execution_count": 97,
   "id": "3a9b2b88-aa28-4710-b6e4-5d228b04b12b",
   "metadata": {},
   "outputs": [
    {
     "data": {
      "text/plain": [
       "UnionRDD[53] at union at NativeMethodAccessorImpl.java:0"
      ]
     },
     "execution_count": 97,
     "metadata": {},
     "output_type": "execute_result"
    }
   ],
   "source": [
    "num_union = num1.union(num2)\n",
    "num_union"
   ]
  },
  {
   "cell_type": "code",
   "execution_count": 98,
   "id": "7d9c5ec3-a448-4198-8052-f9d3509f532c",
   "metadata": {},
   "outputs": [
    {
     "data": {
      "text/plain": [
       "[1, 2, 3, 4, 5, 4, 5, 6, 7, 8, 9, 10]"
      ]
     },
     "execution_count": 98,
     "metadata": {},
     "output_type": "execute_result"
    }
   ],
   "source": [
    "num_union.collect()"
   ]
  },
  {
   "cell_type": "code",
   "execution_count": null,
   "id": "3dcd4e44-ce80-447e-aef4-d128a7ae7c84",
   "metadata": {},
   "outputs": [],
   "source": []
  },
  {
   "cell_type": "code",
   "execution_count": null,
   "id": "91a62c32-f314-4293-a9b8-8ae04ba947bf",
   "metadata": {},
   "outputs": [],
   "source": [
    "# 차집합 구하기 - subtract"
   ]
  },
  {
   "cell_type": "code",
   "execution_count": 99,
   "id": "feb4a463-206a-49c2-8445-3a3b27cd8106",
   "metadata": {},
   "outputs": [
    {
     "data": {
      "text/plain": [
       "[1, 2, 3]"
      ]
     },
     "execution_count": 99,
     "metadata": {},
     "output_type": "execute_result"
    }
   ],
   "source": [
    "num1.subtract(num2).collect()"
   ]
  },
  {
   "cell_type": "code",
   "execution_count": null,
   "id": "1f21d3c8-0b52-4673-8e12-d4a54661e1b6",
   "metadata": {},
   "outputs": [],
   "source": []
  },
  {
   "cell_type": "code",
   "execution_count": 102,
   "id": "5d162b33-f496-473e-b664-36a2cdbe7160",
   "metadata": {},
   "outputs": [],
   "source": [
    "# Wide Transformations"
   ]
  },
  {
   "cell_type": "code",
   "execution_count": 103,
   "id": "afb13e62-cde7-4326-9785-b9708d74c905",
   "metadata": {},
   "outputs": [
    {
     "data": {
      "text/plain": [
       "ParallelCollectionRDD[62] at readRDDFromFile at PythonRDD.scala:289"
      ]
     },
     "execution_count": 103,
     "metadata": {},
     "output_type": "execute_result"
    }
   ],
   "source": [
    "foods = sc.parallelize([\n",
    "    \"짜장면\", \"마라탕\", \"짬뽕\", \"떡볶이\", \"쌀국수\", \"짬뽕\", \"짜장면\", \"짜장면\", \"짜장면\", \"라면\", \"우동\", \"라면\"\n",
    "])\n",
    "foods"
   ]
  },
  {
   "cell_type": "code",
   "execution_count": 108,
   "id": "a079e1a5-068b-4435-b264-e6e98b5fd09c",
   "metadata": {},
   "outputs": [
    {
     "data": {
      "text/plain": [
       "PythonRDD[72] at RDD at PythonRDD.scala:53"
      ]
     },
     "execution_count": 108,
     "metadata": {},
     "output_type": "execute_result"
    }
   ],
   "source": [
    "# 그룹핑의 기준을 문자열의 첫 번째 글자로 설정\n",
    "foodsGroup = foods.groupBy(lambda x : x[0])\n",
    "foodsGroup"
   ]
  },
  {
   "cell_type": "code",
   "execution_count": 110,
   "id": "040c3c71-dfa3-4847-a6f5-398962191d68",
   "metadata": {},
   "outputs": [],
   "source": [
    "res = foodsGroup.collect()"
   ]
  },
  {
   "cell_type": "code",
   "execution_count": 111,
   "id": "bd36c875-8b9e-4c49-a506-f9397adf942d",
   "metadata": {},
   "outputs": [
    {
     "name": "stdout",
     "output_type": "stream",
     "text": [
      "짜 ['짜장면', '짜장면', '짜장면', '짜장면']\n",
      "짬 ['짬뽕', '짬뽕']\n",
      "쌀 ['쌀국수']\n",
      "라 ['라면', '라면']\n",
      "우 ['우동']\n",
      "마 ['마라탕']\n",
      "떡 ['떡볶이']\n"
     ]
    }
   ],
   "source": [
    "for (k, v) in res:\n",
    "    print(k, list(v))"
   ]
  },
  {
   "cell_type": "code",
   "execution_count": null,
   "id": "f4793da0-8377-4422-b71a-7950a0e73cf5",
   "metadata": {},
   "outputs": [],
   "source": []
  },
  {
   "cell_type": "code",
   "execution_count": 112,
   "id": "0c7e7ed9-d495-4715-b1a4-392b0fda76cc",
   "metadata": {},
   "outputs": [],
   "source": [
    "# 내로우 narrow  트랜스포메이션"
   ]
  },
  {
   "cell_type": "code",
   "execution_count": 115,
   "id": "427c1f8f-32bc-4eb9-9166-635f5bd39dea",
   "metadata": {},
   "outputs": [
    {
     "data": {
      "text/plain": [
       "[2, 4, 5]"
      ]
     },
     "execution_count": 115,
     "metadata": {},
     "output_type": "execute_result"
    }
   ],
   "source": [
    "### 2. Narrow 트랜스포메이션 예제\n",
    "numbers = sc.parallelize([1, 2, 3, 4, 5])\n",
    "\n",
    "# 1:1 변환 (Narrow Transformation)\n",
    "sample_rdd = numbers.sample(False, 0.5)\n",
    "sample_rdd.take(3)"
   ]
  },
  {
   "cell_type": "code",
   "execution_count": 118,
   "id": "77e81d9f-0955-44d6-9856-dec4885fc25b",
   "metadata": {},
   "outputs": [
    {
     "data": {
      "text/plain": [
       "[1, 2, 3, 4, 5, 6, 7, 8]"
      ]
     },
     "execution_count": 118,
     "metadata": {},
     "output_type": "execute_result"
    }
   ],
   "source": [
    "union_rdd = numbers.union(sc.parallelize([6,7,8]))\n",
    "union_rdd.collect()"
   ]
  },
  {
   "cell_type": "code",
   "execution_count": 120,
   "id": "5bf672f7-9407-4cf0-a576-fc0b8a6b985b",
   "metadata": {},
   "outputs": [],
   "source": [
    "# wide 연산 \n",
    "kv_rdd = sc.parallelize([(\"apple\",1), (\"banana\",2),(\"cherry\",3)])"
   ]
  },
  {
   "cell_type": "code",
   "execution_count": 121,
   "id": "7c1dde6f-3b75-4b32-a248-a6b16a654138",
   "metadata": {},
   "outputs": [
    {
     "data": {
      "text/plain": [
       "[('apple', 10), ('banana', 20), ('cherry', 30)]"
      ]
     },
     "execution_count": 121,
     "metadata": {},
     "output_type": "execute_result"
    }
   ],
   "source": [
    "map_values = kv_rdd.mapValues(lambda x:x*10)\n",
    "map_values.collect()"
   ]
  },
  {
   "cell_type": "code",
   "execution_count": 122,
   "id": "617ed239-626d-4ce7-9f8b-6adcc3402f53",
   "metadata": {},
   "outputs": [
    {
     "data": {
      "text/plain": [
       "[('apple', <pyspark.resultiterable.ResultIterable at 0x7fc9de3cf750>),\n",
       " ('banana', <pyspark.resultiterable.ResultIterable at 0x7fc9de3cf2d0>),\n",
       " ('cherry', <pyspark.resultiterable.ResultIterable at 0x7fc9de3cc390>)]"
      ]
     },
     "execution_count": 122,
     "metadata": {},
     "output_type": "execute_result"
    }
   ],
   "source": [
    "# wide 연산\n",
    "grouped_rdd = kv_rdd.groupByKey()\n",
    "grouped_rdd.collect()"
   ]
  },
  {
   "cell_type": "code",
   "execution_count": 124,
   "id": "64ef412d-3afa-45dc-8a1c-207e4d7b2521",
   "metadata": {},
   "outputs": [
    {
     "data": {
      "text/plain": [
       "[('apple', 1), ('banana', 2), ('cherry', 3)]"
      ]
     },
     "execution_count": 124,
     "metadata": {},
     "output_type": "execute_result"
    }
   ],
   "source": [
    "reduced_rdd = kv_rdd.reduceByKey(lambda x,y: x+y)\n",
    "reduced_rdd.collect()"
   ]
  },
  {
   "cell_type": "code",
   "execution_count": null,
   "id": "d3d28988-6e18-402c-8d0b-da04b3069cef",
   "metadata": {},
   "outputs": [],
   "source": []
  },
  {
   "cell_type": "code",
   "execution_count": 125,
   "id": "0ee49906-7ae7-47a8-9aa8-f31df756125e",
   "metadata": {},
   "outputs": [],
   "source": [
    "# 조인"
   ]
  },
  {
   "cell_type": "code",
   "execution_count": 127,
   "id": "958ea477-23d3-4f16-9003-aa1ead5582f7",
   "metadata": {},
   "outputs": [],
   "source": [
    "# 두 RDD 조인하기\n",
    "rdd1 = sc.parallelize([(\"apple\", 2), (\"banana\", 1)])\n",
    "rdd2 = sc.parallelize([(\"apple\", \"fruit\"), (\"banana\", \"fruit\"), (\"carrot\", \"vegetable\")])"
   ]
  },
  {
   "cell_type": "code",
   "execution_count": 129,
   "id": "b6c0d84b-97f0-4757-b361-fa39a871ce02",
   "metadata": {},
   "outputs": [
    {
     "name": "stdout",
     "output_type": "stream",
     "text": [
      "[('apple', (2, 'fruit')), ('banana', (1, 'fruit'))]\n",
      "[('apple', (2, 'fruit')), ('banana', (1, 'fruit')), ('carrot', (None, 'vegetable'))]\n",
      "[('banana', 1)]\n"
     ]
    }
   ],
   "source": [
    "# 왼쪽 외부 조인 (leftOuterJoin)\n",
    "left_joined = rdd1.leftOuterJoin(rdd2)\n",
    "print(left_joined.collect())\n",
    "# 출력 결과: [('apple', (2, 'fruit')), ('banana', (1, 'fruit'))]\n",
    "\n",
    "# 오른쪽 외부 조인 (rightOuterJoin)\n",
    "right_joined = rdd1.rightOuterJoin(rdd2)\n",
    "print(right_joined.collect())\n",
    "# 출력 결과: [('apple', (2, 'fruit')), ('banana', (1, 'fruit')), ('carrot', (None, 'vegetable'))]\n",
    "\n",
    "# subtractByKey 연산\n",
    "subtract_result = rdd1.subtractByKey(sc.parallelize([(\"apple\", \"any\")]))\n",
    "print(subtract_result.collect())\n",
    "# 출력 결과: [('banana', 1)]"
   ]
  },
  {
   "cell_type": "code",
   "execution_count": 131,
   "id": "bbbd75af-c6cf-4921-9180-d31663d4fe60",
   "metadata": {},
   "outputs": [],
   "source": [
    "sc.stop()\n",
    "spark.stop()"
   ]
  },
  {
   "cell_type": "code",
   "execution_count": null,
   "id": "a852fc1e-dd29-4708-95d0-a4f0ca40319a",
   "metadata": {},
   "outputs": [],
   "source": []
  },
  {
   "cell_type": "code",
   "execution_count": null,
   "id": "0d003461-18c8-457b-96ec-774c5f6f144e",
   "metadata": {},
   "outputs": [],
   "source": []
  }
 ],
 "metadata": {
  "kernelspec": {
   "display_name": "Python 3 (ipykernel)",
   "language": "python",
   "name": "python3"
  },
  "language_info": {
   "codemirror_mode": {
    "name": "ipython",
    "version": 3
   },
   "file_extension": ".py",
   "mimetype": "text/x-python",
   "name": "python",
   "nbconvert_exporter": "python",
   "pygments_lexer": "ipython3",
   "version": "3.11.6"
  }
 },
 "nbformat": 4,
 "nbformat_minor": 5
}
