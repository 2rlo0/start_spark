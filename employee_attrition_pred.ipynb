{
 "cells": [
  {
   "cell_type": "code",
   "execution_count": 4,
   "id": "5d595435-16b3-4113-91c5-11f6ee6cd236",
   "metadata": {},
   "outputs": [
    {
     "name": "stdout",
     "output_type": "stream",
     "text": [
      "root\n",
      " |-- Age: integer (nullable = true)\n",
      " |-- Attrition: string (nullable = true)\n",
      " |-- BusinessTravel: string (nullable = true)\n",
      " |-- DailyRate: integer (nullable = true)\n",
      " |-- Department: string (nullable = true)\n",
      " |-- DistanceFromHome: integer (nullable = true)\n",
      " |-- Education: integer (nullable = true)\n",
      " |-- EducationField: string (nullable = true)\n",
      " |-- EmployeeCount: integer (nullable = true)\n",
      " |-- EmployeeNumber: integer (nullable = true)\n",
      " |-- EnvironmentSatisfaction: integer (nullable = true)\n",
      " |-- Gender: string (nullable = true)\n",
      " |-- HourlyRate: integer (nullable = true)\n",
      " |-- JobInvolvement: integer (nullable = true)\n",
      " |-- JobLevel: integer (nullable = true)\n",
      " |-- JobRole: string (nullable = true)\n",
      " |-- JobSatisfaction: integer (nullable = true)\n",
      " |-- MaritalStatus: string (nullable = true)\n",
      " |-- MonthlyIncome: integer (nullable = true)\n",
      " |-- MonthlyRate: integer (nullable = true)\n",
      " |-- NumCompaniesWorked: integer (nullable = true)\n",
      " |-- Over18: string (nullable = true)\n",
      " |-- OverTime: string (nullable = true)\n",
      " |-- PercentSalaryHike: integer (nullable = true)\n",
      " |-- PerformanceRating: integer (nullable = true)\n",
      " |-- RelationshipSatisfaction: integer (nullable = true)\n",
      " |-- StandardHours: integer (nullable = true)\n",
      " |-- StockOptionLevel: integer (nullable = true)\n",
      " |-- TotalWorkingYears: integer (nullable = true)\n",
      " |-- TrainingTimesLastYear: integer (nullable = true)\n",
      " |-- WorkLifeBalance: integer (nullable = true)\n",
      " |-- YearsAtCompany: integer (nullable = true)\n",
      " |-- YearsInCurrentRole: integer (nullable = true)\n",
      " |-- YearsSinceLastPromotion: integer (nullable = true)\n",
      " |-- YearsWithCurrManager: integer (nullable = true)\n",
      "\n"
     ]
    }
   ],
   "source": [
    "from pyspark.sql import SparkSession\n",
    "spark = SparkSession.builder.appName(\"employee-attrition\").getOrCreate()\n",
    "\n",
    "# csv 파일 로드\n",
    "df = spark.read.csv('learning_spark_data/WA_Fn-UseC_-HR-Employee-Attrition.csv', header=True, inferSchema=True)\n",
    "df.printSchema()"
   ]
  },
  {
   "cell_type": "markdown",
   "id": "3ab9dd36-31d3-41a4-a53d-1758f6f8eb12",
   "metadata": {
    "jp-MarkdownHeadingCollapsed": true
   },
   "source": [
    "- age: 직원나이\n",
    "- attrition: 이직여부 (target)\n",
    "- BusinessTravel: 출장 빈도 (Travel_Frequently/Non-Travel/Travel_Rarely)\n",
    "- Department: 소속 부서 (Sales/Research & Development/Human Resources)\n",
    "- DistanceFromHome: 집과 직장의 거리\n",
    "- Education: 교육 수준 (1~5)\n",
    "- EducationField: 전공 분야 (Technical Degree/Other/Marketing/Life Sciences/Human Resources)\n",
    "- EmployeeCount: 1\n",
    "- \n",
    "- "
   ]
  },
  {
   "cell_type": "code",
   "execution_count": null,
   "id": "f1c155a3-cf1d-4833-83bd-a84f9fefa53d",
   "metadata": {},
   "outputs": [],
   "source": [
    "# DistanceFromHome, EnvironmentSatisfaction, JobSatisfaction, OverTime, WorkLifeBalance"
   ]
  },
  {
   "cell_type": "code",
   "execution_count": null,
   "id": "5054b227-e7fd-4d88-bb38-f51828e5ccec",
   "metadata": {},
   "outputs": [],
   "source": [
    "# Age, JobLevel, "
   ]
  },
  {
   "cell_type": "code",
   "execution_count": 5,
   "id": "5ca3bab6-3779-458e-a5da-2e16fa6fe1fa",
   "metadata": {},
   "outputs": [
    {
     "name": "stdout",
     "output_type": "stream",
     "text": [
      "+---------+-----+\n",
      "|Attrition|count|\n",
      "+---------+-----+\n",
      "|       No| 1233|\n",
      "|      Yes|  237|\n",
      "+---------+-----+\n",
      "\n"
     ]
    }
   ],
   "source": [
    "# 데이터 확인\n",
    "df.groupBy(\"Attrition\").count().show()"
   ]
  },
  {
   "cell_type": "code",
   "execution_count": 6,
   "id": "9cb55ec5-b415-470b-96fa-4ee17488437a",
   "metadata": {},
   "outputs": [
    {
     "name": "stdout",
     "output_type": "stream",
     "text": [
      "+-----------------+-----+\n",
      "|   BusinessTravel|count|\n",
      "+-----------------+-----+\n",
      "|Travel_Frequently|  277|\n",
      "|       Non-Travel|  150|\n",
      "|    Travel_Rarely| 1043|\n",
      "+-----------------+-----+\n",
      "\n"
     ]
    }
   ],
   "source": [
    "df.groupBy('BusinessTravel').count().show()"
   ]
  },
  {
   "cell_type": "code",
   "execution_count": 7,
   "id": "7f5ca217-9c1a-46b5-b56d-30630bd8cff9",
   "metadata": {},
   "outputs": [
    {
     "name": "stdout",
     "output_type": "stream",
     "text": [
      "+--------------------+-----+\n",
      "|          Department|count|\n",
      "+--------------------+-----+\n",
      "|               Sales|  446|\n",
      "|Research & Develo...|  961|\n",
      "|     Human Resources|   63|\n",
      "+--------------------+-----+\n",
      "\n"
     ]
    }
   ],
   "source": [
    "df.groupBy('Department').count().show()"
   ]
  },
  {
   "cell_type": "code",
   "execution_count": 8,
   "id": "030445dc-9ff8-4141-b998-08b104f42892",
   "metadata": {},
   "outputs": [
    {
     "name": "stdout",
     "output_type": "stream",
     "text": [
      "+---------+-----+\n",
      "|Education|count|\n",
      "+---------+-----+\n",
      "|        1|  170|\n",
      "|        3|  572|\n",
      "|        5|   48|\n",
      "|        4|  398|\n",
      "|        2|  282|\n",
      "+---------+-----+\n",
      "\n"
     ]
    }
   ],
   "source": [
    "df.groupBy('Education').count().show()"
   ]
  },
  {
   "cell_type": "code",
   "execution_count": 9,
   "id": "e9398062-fda2-4a6e-abe9-901ae1cd82f3",
   "metadata": {},
   "outputs": [
    {
     "name": "stdout",
     "output_type": "stream",
     "text": [
      "+----------------+-----+\n",
      "|  EducationField|count|\n",
      "+----------------+-----+\n",
      "|Technical Degree|  132|\n",
      "|           Other|   82|\n",
      "|       Marketing|  159|\n",
      "|         Medical|  464|\n",
      "|   Life Sciences|  606|\n",
      "| Human Resources|   27|\n",
      "+----------------+-----+\n",
      "\n"
     ]
    }
   ],
   "source": [
    "df.groupBy('EducationField').count().show()"
   ]
  }
 ],
 "metadata": {
  "kernelspec": {
   "display_name": "Python 3 (ipykernel)",
   "language": "python",
   "name": "python3"
  },
  "language_info": {
   "codemirror_mode": {
    "name": "ipython",
    "version": 3
   },
   "file_extension": ".py",
   "mimetype": "text/x-python",
   "name": "python",
   "nbconvert_exporter": "python",
   "pygments_lexer": "ipython3",
   "version": "3.11.6"
  }
 },
 "nbformat": 4,
 "nbformat_minor": 5
}
