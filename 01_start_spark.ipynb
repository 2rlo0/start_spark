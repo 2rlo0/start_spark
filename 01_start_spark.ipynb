{
 "cells": [
  {
   "cell_type": "code",
   "execution_count": 2,
   "id": "5fd212f8-c9d2-4e5b-9cf8-6d0761370d31",
   "metadata": {},
   "outputs": [
    {
     "name": "stdout",
     "output_type": "stream",
     "text": [
      "hello\n"
     ]
    }
   ],
   "source": [
    "print('hello')"
   ]
  },
  {
   "cell_type": "code",
   "execution_count": 4,
   "id": "6fd32233-f7f2-48ec-9ba7-47dbcdf1cb12",
   "metadata": {},
   "outputs": [
    {
     "name": "stdout",
     "output_type": "stream",
     "text": [
      "/opt/conda/bin/python\n"
     ]
    }
   ],
   "source": [
    "!which python # ! 하면 환경 알 수 있음"
   ]
  },
  {
   "cell_type": "code",
   "execution_count": 9,
   "id": "ad71461f-29be-4076-8614-c3f48b60a2a7",
   "metadata": {},
   "outputs": [
    {
     "name": "stdout",
     "output_type": "stream",
     "text": [
      "Python 3.11.6\n"
     ]
    }
   ],
   "source": [
    "!python --version # python 버전 확인"
   ]
  },
  {
   "cell_type": "code",
   "execution_count": 10,
   "id": "8d53c765-4149-4d70-929f-c0fae2fd3f2b",
   "metadata": {},
   "outputs": [
    {
     "name": "stdout",
     "output_type": "stream",
     "text": [
      "openjdk version \"17.0.8.1\" 2023-08-24\n",
      "OpenJDK Runtime Environment (build 17.0.8.1+1-Ubuntu-0ubuntu122.04)\n",
      "OpenJDK 64-Bit Server VM (build 17.0.8.1+1-Ubuntu-0ubuntu122.04, mixed mode, sharing)\n"
     ]
    }
   ],
   "source": [
    "!java -version # java 버전 확인"
   ]
  },
  {
   "cell_type": "code",
   "execution_count": 11,
   "id": "e495d963-69fe-4f59-a69a-1d14ce2f76a8",
   "metadata": {},
   "outputs": [
    {
     "name": "stdout",
     "output_type": "stream",
     "text": [
      "/usr/bin/java\n"
     ]
    }
   ],
   "source": [
    "!which java"
   ]
  },
  {
   "cell_type": "code",
   "execution_count": 13,
   "id": "620f1c70-550c-40d5-a35a-5f7ba24cbe9a",
   "metadata": {},
   "outputs": [
    {
     "name": "stdout",
     "output_type": "stream",
     "text": [
      "Name: pyspark\n",
      "Version: 3.5.0\n",
      "Summary: Apache Spark Python API\n",
      "Home-page: https://github.com/apache/spark/tree/master/python\n",
      "Author: Spark Developers\n",
      "Author-email: dev@spark.apache.org\n",
      "License: http://www.apache.org/licenses/LICENSE-2.0\n",
      "Location: /usr/local/spark/python\n",
      "Requires: py4j\n",
      "Required-by: \n",
      "Note: you may need to restart the kernel to use updated packages.\n"
     ]
    }
   ],
   "source": [
    "pip show pyspark # pyspark 설명 확인(버전 문제 확인하기)"
   ]
  },
  {
   "cell_type": "code",
   "execution_count": 15,
   "id": "843bd692-1077-40d6-816a-c1e933c39360",
   "metadata": {},
   "outputs": [
    {
     "data": {
      "text/plain": [
       "'/usr/local/spark'"
      ]
     },
     "execution_count": 15,
     "metadata": {},
     "output_type": "execute_result"
    }
   ],
   "source": [
    "#SPARK_HOME\n",
    "import os\n",
    "os.environ.get('SPARK_HOME')"
   ]
  },
  {
   "cell_type": "code",
   "execution_count": 18,
   "id": "15989615-e911-4c42-a938-e6e1d8fc07e0",
   "metadata": {},
   "outputs": [],
   "source": [
    "# JAVA_HOME\n",
    "import os\n",
    "os.environ.get('JAVA_HOME')"
   ]
  },
  {
   "cell_type": "code",
   "execution_count": 21,
   "id": "c71c891f-c678-44e0-aa8a-9770e5433516",
   "metadata": {},
   "outputs": [
    {
     "data": {
      "text/plain": [
       "'/usr/local/spark/python/lib/py4j-0.10.9.7-src.zip:/usr/local/spark/python:'"
      ]
     },
     "execution_count": 21,
     "metadata": {},
     "output_type": "execute_result"
    }
   ],
   "source": [
    "# PYTHONPATH\n",
    "import os\n",
    "os.environ.get('PYTHONPATH')"
   ]
  },
  {
   "cell_type": "code",
   "execution_count": 23,
   "id": "b25a69f9-6a2d-4130-9f46-595c5466cf06",
   "metadata": {},
   "outputs": [],
   "source": [
    "import pyspark #spark을 python으로 만들어놓은 라이브러리 "
   ]
  },
  {
   "cell_type": "code",
   "execution_count": 24,
   "id": "f6d395cb-8cc4-4282-b963-d68d905af587",
   "metadata": {},
   "outputs": [],
   "source": [
    "from pyspark.sql import SparkSession\n",
    "spark = SparkSession.builder.appName('pyspark example1').getOrCreate() # context를 만들어 주는 애 builder. chaining\n",
    "# SparkContext.SparkSession"
   ]
  },
  {
   "cell_type": "code",
   "execution_count": 25,
   "id": "b3a33590-7b2f-42b8-b387-1c8b4fec8401",
   "metadata": {},
   "outputs": [
    {
     "data": {
      "text/html": [
       "\n",
       "            <div>\n",
       "                <p><b>SparkSession - in-memory</b></p>\n",
       "                \n",
       "        <div>\n",
       "            <p><b>SparkContext</b></p>\n",
       "\n",
       "            <p><a href=\"http://4630a2fe8a98:4041\">Spark UI</a></p>\n",
       "\n",
       "            <dl>\n",
       "              <dt>Version</dt>\n",
       "                <dd><code>v3.5.0</code></dd>\n",
       "              <dt>Master</dt>\n",
       "                <dd><code>local[*]</code></dd>\n",
       "              <dt>AppName</dt>\n",
       "                <dd><code>pyspark example1</code></dd>\n",
       "            </dl>\n",
       "        </div>\n",
       "        \n",
       "            </div>\n",
       "        "
      ],
      "text/plain": [
       "<pyspark.sql.session.SparkSession at 0x7fc14c495490>"
      ]
     },
     "execution_count": 25,
     "metadata": {},
     "output_type": "execute_result"
    }
   ],
   "source": [
    "spark"
   ]
  },
  {
   "cell_type": "code",
   "execution_count": 26,
   "id": "7b7871cb-0f95-471c-a044-ff6ae29ec813",
   "metadata": {},
   "outputs": [],
   "source": [
    "spark.stop()"
   ]
  },
  {
   "cell_type": "code",
   "execution_count": 27,
   "id": "797bcf27-e514-4f5c-b111-7fe72342c001",
   "metadata": {},
   "outputs": [],
   "source": [
    "spark = SparkSession.builder.appName('pyspark example1').getOrCreate()"
   ]
  },
  {
   "cell_type": "code",
   "execution_count": 28,
   "id": "f136d19b-99f4-4091-b398-b7ea0d3fd1e7",
   "metadata": {},
   "outputs": [
    {
     "data": {
      "text/html": [
       "\n",
       "            <div>\n",
       "                <p><b>SparkSession - in-memory</b></p>\n",
       "                \n",
       "        <div>\n",
       "            <p><b>SparkContext</b></p>\n",
       "\n",
       "            <p><a href=\"http://4630a2fe8a98:4040\">Spark UI</a></p>\n",
       "\n",
       "            <dl>\n",
       "              <dt>Version</dt>\n",
       "                <dd><code>v3.5.0</code></dd>\n",
       "              <dt>Master</dt>\n",
       "                <dd><code>local[*]</code></dd>\n",
       "              <dt>AppName</dt>\n",
       "                <dd><code>pyspark example1</code></dd>\n",
       "            </dl>\n",
       "        </div>\n",
       "        \n",
       "            </div>\n",
       "        "
      ],
      "text/plain": [
       "<pyspark.sql.session.SparkSession at 0x7fc14c46d990>"
      ]
     },
     "execution_count": 28,
     "metadata": {},
     "output_type": "execute_result"
    }
   ],
   "source": [
    "spark"
   ]
  },
  {
   "cell_type": "code",
   "execution_count": 32,
   "id": "af2e08af-09d3-49a6-a06a-3f219131d1c4",
   "metadata": {},
   "outputs": [
    {
     "data": {
      "text/plain": [
       "list"
      ]
     },
     "execution_count": 32,
     "metadata": {},
     "output_type": "execute_result"
    }
   ],
   "source": [
    "data = [('Alice',1), ('Bob',2), ('Charlie',3)]\n",
    "type(data) # 파이썬 데이터 타입-리스트"
   ]
  },
  {
   "cell_type": "code",
   "execution_count": 38,
   "id": "6ae63c7e-8b1e-4554-82a1-2d608c414647",
   "metadata": {},
   "outputs": [
    {
     "data": {
      "text/plain": [
       "DataFrame[Name: string, Value: bigint]"
      ]
     },
     "execution_count": 38,
     "metadata": {},
     "output_type": "execute_result"
    }
   ],
   "source": [
    "# spark이 알고 있는 데이터타입으로 변환\n",
    "# DataFrame 객체(분산객체)를 생성 <> 판다스의 데이터프레임이 아님.\n",
    "data1 = spark.createDataFrame(data, ['Name','Value']) # spark의 객체 dataframe\n",
    "data1"
   ]
  },
  {
   "cell_type": "code",
   "execution_count": 45,
   "id": "e0aad96c-6852-43b8-b528-df4cd9593246",
   "metadata": {},
   "outputs": [
    {
     "data": {
      "text/plain": [
       "Column<'Value[1]'>"
      ]
     },
     "execution_count": 45,
     "metadata": {},
     "output_type": "execute_result"
    }
   ],
   "source": [
    "data1[1][1]"
   ]
  },
  {
   "cell_type": "code",
   "execution_count": 44,
   "id": "ff5f81ce-5f9a-41e5-a291-2aae40028255",
   "metadata": {},
   "outputs": [
    {
     "name": "stdout",
     "output_type": "stream",
     "text": [
      "+-------+-----+\n",
      "|   Name|Value|\n",
      "+-------+-----+\n",
      "|  Alice|    1|\n",
      "|    Bob|    2|\n",
      "|Charlie|    3|\n",
      "+-------+-----+\n",
      "\n"
     ]
    }
   ],
   "source": [
    "data1.show()"
   ]
  },
  {
   "cell_type": "markdown",
   "id": "9c930185-8b4b-4a7a-9e84-27d4e2678fb9",
   "metadata": {},
   "source": [
    "# RDD 객체 생성"
   ]
  },
  {
   "cell_type": "code",
   "execution_count": 47,
   "id": "6be6a463-dfd6-4875-8d32-31ae9036dad8",
   "metadata": {},
   "outputs": [],
   "source": [
    "spark = SparkSession.builder.appName('pyspark example1').getOrCreate() # 기존에 있으면 그냥 줌. 없으면 생성"
   ]
  },
  {
   "cell_type": "code",
   "execution_count": 48,
   "id": "c9e6e7f2-d6e3-4cdf-a744-ac6faa6d0327",
   "metadata": {},
   "outputs": [
    {
     "data": {
      "text/plain": [
       "ParallelCollectionRDD[36] at readRDDFromFile at PythonRDD.scala:289"
      ]
     },
     "execution_count": 48,
     "metadata": {},
     "output_type": "execute_result"
    }
   ],
   "source": [
    "rdd = spark.sparkContext.parallelize([1,2,3,4,5]) # 병렬로 관리됨 parallelize.데이터를 직접적으로 명시적으로 주고 있음\n",
    "rdd"
   ]
  },
  {
   "cell_type": "code",
   "execution_count": 49,
   "id": "c26cb93a-ea9e-465e-a470-f2f580203350",
   "metadata": {},
   "outputs": [
    {
     "data": {
      "text/plain": [
       "DataFrame[Name: string, Value: bigint]"
      ]
     },
     "execution_count": 49,
     "metadata": {},
     "output_type": "execute_result"
    }
   ],
   "source": [
    "data1"
   ]
  },
  {
   "cell_type": "code",
   "execution_count": 50,
   "id": "8682b7c3-75ab-4662-b514-8eec4cdeba20",
   "metadata": {},
   "outputs": [
    {
     "ename": "AttributeError",
     "evalue": "'RDD' object has no attribute 'show'",
     "output_type": "error",
     "traceback": [
      "\u001b[0;31m---------------------------------------------------------------------------\u001b[0m",
      "\u001b[0;31mAttributeError\u001b[0m                            Traceback (most recent call last)",
      "Cell \u001b[0;32mIn[50], line 1\u001b[0m\n\u001b[0;32m----> 1\u001b[0m \u001b[43mrdd\u001b[49m\u001b[38;5;241;43m.\u001b[39;49m\u001b[43mshow\u001b[49m()\n",
      "\u001b[0;31mAttributeError\u001b[0m: 'RDD' object has no attribute 'show'"
     ]
    }
   ],
   "source": [
    "rdd.show() # show는 데이터프레임의 함수!!"
   ]
  },
  {
   "cell_type": "code",
   "execution_count": 54,
   "id": "b0c489e1-736a-4569-ac38-365cda627aac",
   "metadata": {},
   "outputs": [
    {
     "data": {
      "text/plain": [
       "[1, 2, 3, 4, 5]"
      ]
     },
     "execution_count": 54,
     "metadata": {},
     "output_type": "execute_result"
    }
   ],
   "source": [
    "rdd.take(5) # rdd의 객체를 출력하는 함수. n개를 무조건 지정해야함!!!!!"
   ]
  },
  {
   "cell_type": "code",
   "execution_count": 52,
   "id": "970ec9b0-b72d-4208-babe-bdce30c8c0b5",
   "metadata": {},
   "outputs": [
    {
     "data": {
      "text/plain": [
       "PythonRDD[39] at RDD at PythonRDD.scala:53"
      ]
     },
     "execution_count": 52,
     "metadata": {},
     "output_type": "execute_result"
    }
   ],
   "source": [
    "# map 연산: rdd값으로 연산\n",
    "squared_rdd = rdd.map(lambda x:x*x,)\n",
    "squared_rdd # 연산 결과는 spark context에서  보이지 않음"
   ]
  },
  {
   "cell_type": "code",
   "execution_count": 53,
   "id": "46e4735d-6f29-4aa2-9499-aa69b4538069",
   "metadata": {},
   "outputs": [
    {
     "data": {
      "text/plain": [
       "[1, 4, 9]"
      ]
     },
     "execution_count": 53,
     "metadata": {},
     "output_type": "execute_result"
    }
   ],
   "source": [
    "squared_rdd.take(3) # 연산결과를 새로운 rdd로 생성. 기존의 rdd는 그대로 있음"
   ]
  },
  {
   "cell_type": "code",
   "execution_count": 55,
   "id": "1ae45e1b-6ca3-4bbc-8d75-41c9a9ad0971",
   "metadata": {},
   "outputs": [
    {
     "data": {
      "text/plain": [
       "[1, 4, 9, 16, 25]"
      ]
     },
     "execution_count": 55,
     "metadata": {},
     "output_type": "execute_result"
    }
   ],
   "source": [
    "squared_rdd.collect() # 전체값을 출력"
   ]
  },
  {
   "cell_type": "code",
   "execution_count": 59,
   "id": "73970ad3-9f0a-42e1-a674-c5631fd54424",
   "metadata": {},
   "outputs": [
    {
     "name": "stdout",
     "output_type": "stream",
     "text": [
      "+----+-----+\n",
      "|Name|Value|\n",
      "+----+-----+\n",
      "| Bob|    2|\n",
      "+----+-----+\n",
      "\n"
     ]
    }
   ],
   "source": [
    "data1.filter(data1.Name == \"Bob\").show()"
   ]
  },
  {
   "cell_type": "code",
   "execution_count": 60,
   "id": "68f4d115-84e4-43e9-a380-486432a034e5",
   "metadata": {},
   "outputs": [
    {
     "name": "stdout",
     "output_type": "stream",
     "text": [
      "+-------+-----+\n",
      "|   Name|Value|\n",
      "+-------+-----+\n",
      "|Charlie|    3|\n",
      "+-------+-----+\n",
      "\n"
     ]
    }
   ],
   "source": [
    "data1.filter(data1.Value > 2).show()"
   ]
  },
  {
   "cell_type": "code",
   "execution_count": 61,
   "id": "83247324-424c-4de2-b5b0-a3010df946bd",
   "metadata": {},
   "outputs": [],
   "source": [
    "data1.createOrReplaceTempView('people') # 임시 뷰"
   ]
  },
  {
   "cell_type": "code",
   "execution_count": 63,
   "id": "7b5b32fe-2889-477b-a022-b72dc4097783",
   "metadata": {},
   "outputs": [
    {
     "name": "stdout",
     "output_type": "stream",
     "text": [
      "+-------+-----+\n",
      "|   Name|Value|\n",
      "+-------+-----+\n",
      "|  Alice|    1|\n",
      "|    Bob|    2|\n",
      "|Charlie|    3|\n",
      "+-------+-----+\n",
      "\n"
     ]
    }
   ],
   "source": [
    "spark.sql('select * from people').show()"
   ]
  },
  {
   "cell_type": "code",
   "execution_count": 65,
   "id": "83fe7d7a-897c-4493-99c6-dacb8232d40f",
   "metadata": {},
   "outputs": [
    {
     "name": "stdout",
     "output_type": "stream",
     "text": [
      "+----+-----+\n",
      "|Name|Value|\n",
      "+----+-----+\n",
      "| Bob|    2|\n",
      "+----+-----+\n",
      "\n"
     ]
    }
   ],
   "source": [
    "spark.sql('select * from people where Name == \"Bob\" ').show()"
   ]
  },
  {
   "cell_type": "code",
   "execution_count": 64,
   "id": "f8794822-63a8-4fd7-9ff4-fcf921b470bf",
   "metadata": {},
   "outputs": [
    {
     "name": "stdout",
     "output_type": "stream",
     "text": [
      "+-------+-----+\n",
      "|   Name|Value|\n",
      "+-------+-----+\n",
      "|Charlie|    3|\n",
      "+-------+-----+\n",
      "\n"
     ]
    }
   ],
   "source": [
    "spark.sql('select * from people where Value > 2').show()"
   ]
  },
  {
   "cell_type": "code",
   "execution_count": null,
   "id": "2a26c25b-91c8-46a5-bb8f-a2df69653200",
   "metadata": {},
   "outputs": [],
   "source": []
  },
  {
   "cell_type": "markdown",
   "id": "6630e283-ac2b-4c16-b708-8a63ebc672f5",
   "metadata": {},
   "source": [
    "# MLlib"
   ]
  },
  {
   "cell_type": "code",
   "execution_count": 67,
   "id": "147b6802-501b-49d3-bc3d-4af5b771ffb7",
   "metadata": {},
   "outputs": [],
   "source": [
    "from pyspark.ml.regression import LinearRegression"
   ]
  },
  {
   "cell_type": "code",
   "execution_count": 68,
   "id": "6320ab4d-2668-4575-9d48-ac4bfba6cfd0",
   "metadata": {},
   "outputs": [],
   "source": [
    "# array 형태로 만든 feature, target의 데이터를 사용하기 위해\n",
    "import numpy as np"
   ]
  },
  {
   "cell_type": "code",
   "execution_count": 69,
   "id": "dc1aad49-b94b-4fff-ab79-756d2ab5fb4a",
   "metadata": {},
   "outputs": [],
   "source": [
    "from pyspark.ml.feature import VectorAssembler"
   ]
  },
  {
   "cell_type": "code",
   "execution_count": 71,
   "id": "69454ff0-9213-4519-8969-0f9ac3e0d1e2",
   "metadata": {},
   "outputs": [
    {
     "data": {
      "text/plain": [
       "DataFrame[Name: string, Age: bigint]"
      ]
     },
     "execution_count": 71,
     "metadata": {},
     "output_type": "execute_result"
    }
   ],
   "source": [
    "data_age = [('Alice',25), ('Bob',30), ('Charlie',33)]\n",
    "data2 = spark.createDataFrame(data_age, ['Name','Age'])\n",
    "data2 # 데이터 속성 2개 name, age"
   ]
  },
  {
   "cell_type": "code",
   "execution_count": 72,
   "id": "5f81efc9-324b-486f-be43-f6a00b3a981a",
   "metadata": {},
   "outputs": [
    {
     "data": {
      "text/plain": [
       "DataFrame[Name: string, Age: bigint, features: vector]"
      ]
     },
     "execution_count": 72,
     "metadata": {},
     "output_type": "execute_result"
    }
   ],
   "source": [
    "assemblear = VectorAssembler(inputCols = ['Age'], outputCol='features') # 하나로 묶어주는 어셈블러\n",
    "vector_df = assemblear.transform(data2)\n",
    "vector_df"
   ]
  },
  {
   "cell_type": "code",
   "execution_count": 73,
   "id": "bed002da-7753-472b-98ff-7efecb8f196c",
   "metadata": {},
   "outputs": [],
   "source": [
    "lr = LinearRegression(featuresCol='features', labelCol = 'Age') # linearregression 객체\n",
    "model = lr.fit(vector_df)"
   ]
  },
  {
   "cell_type": "code",
   "execution_count": 74,
   "id": "3b25a08a-c08c-4c88-973d-8995f1676b16",
   "metadata": {},
   "outputs": [
    {
     "data": {
      "text/plain": [
       "DataFrame[Name: string, Age: bigint, features: vector, prediction: double]"
      ]
     },
     "execution_count": 74,
     "metadata": {},
     "output_type": "execute_result"
    }
   ],
   "source": [
    "pred = model.transform(vector_df) # 예측\n",
    "pred"
   ]
  },
  {
   "cell_type": "code",
   "execution_count": 75,
   "id": "ec94ec4d-fc60-4e3a-a6f7-44cce2f9807b",
   "metadata": {},
   "outputs": [
    {
     "name": "stdout",
     "output_type": "stream",
     "text": [
      "+-------+---+--------+-----------------+\n",
      "|   Name|Age|features|       prediction|\n",
      "+-------+---+--------+-----------------+\n",
      "|  Alice| 25|  [25.0]|24.99999999999993|\n",
      "|    Bob| 30|  [30.0]|30.00000000000001|\n",
      "|Charlie| 33|  [33.0]|33.00000000000006|\n",
      "+-------+---+--------+-----------------+\n",
      "\n"
     ]
    }
   ],
   "source": [
    "pred.show()"
   ]
  },
  {
   "cell_type": "code",
   "execution_count": 78,
   "id": "45dd504b-fd18-4ebc-a61d-cd599b5d0e4c",
   "metadata": {},
   "outputs": [],
   "source": [
    "spark.stop()"
   ]
  },
  {
   "cell_type": "code",
   "execution_count": null,
   "id": "2101bec9-0b6d-43cf-89a8-c804a48b639d",
   "metadata": {},
   "outputs": [],
   "source": []
  },
  {
   "cell_type": "markdown",
   "id": "0a5b401b-54a0-4293-be87-cfba2ea6a67a",
   "metadata": {},
   "source": [
    "# Streaming"
   ]
  },
  {
   "cell_type": "code",
   "execution_count": 77,
   "id": "8971712e-defa-4f59-b884-6555de40143d",
   "metadata": {},
   "outputs": [],
   "source": [
    "from pyspark.sql.functions import explode\n",
    "from pyspark.sql.functions import split"
   ]
  },
  {
   "cell_type": "code",
   "execution_count": 79,
   "id": "90299186-f5b7-4b49-9e21-6b23d71162a6",
   "metadata": {},
   "outputs": [],
   "source": [
    "spark = SparkSession.builder.appName('pyspark example1').getOrCreate() # chaining"
   ]
  },
  {
   "cell_type": "code",
   "execution_count": null,
   "id": "6a947ec4-ca26-4c0e-a1a5-52ba43187568",
   "metadata": {},
   "outputs": [],
   "source": [
    "lines = spark.readStream.format('socket')\\\n",
    "    .option('host', 'localhost')\\\n",
    "    .option('port',9999)\\\n",
    "    .load() # STREAMMING DATA"
   ]
  },
  {
   "cell_type": "code",
   "execution_count": null,
   "id": "bbd5703e-a64e-496b-875c-b5f7d61d1d31",
   "metadata": {},
   "outputs": [],
   "source": [
    "words = lines.select(explode(split(lines.value, ' ')).alias('word')\n",
    "# 스트리밍에 있는 데이터를 공백을 기준으로 자르고 'word'라는 이름의 데이터 프레임으로 만들기(aaaa bbbb cccc hello)"
   ]
  },
  {
   "cell_type": "code",
   "execution_count": 80,
   "id": "8483d52b-e827-4760-98d1-8471fe297095",
   "metadata": {},
   "outputs": [],
   "source": [
    "spark.stop()"
   ]
  }
 ],
 "metadata": {
  "kernelspec": {
   "display_name": "Python 3 (ipykernel)",
   "language": "python",
   "name": "python3"
  },
  "language_info": {
   "codemirror_mode": {
    "name": "ipython",
    "version": 3
   },
   "file_extension": ".py",
   "mimetype": "text/x-python",
   "name": "python",
   "nbconvert_exporter": "python",
   "pygments_lexer": "ipython3",
   "version": "3.11.6"
  }
 },
 "nbformat": 4,
 "nbformat_minor": 5
}
