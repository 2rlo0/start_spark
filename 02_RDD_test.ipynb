{
 "cells": [
  {
   "cell_type": "code",
   "execution_count": 1,
   "id": "8f9ac9f3-b148-4486-9910-86e7d16f4f74",
   "metadata": {},
   "outputs": [],
   "source": [
    "from pyspark.sql import SparkSession\n",
    "spark = SparkSession.builder.appName('pyspark example2').getOrCreate() # chaining"
   ]
  },
  {
   "cell_type": "markdown",
   "id": "f698dfa3-7161-464c-b948-45a9e1eaa36a",
   "metadata": {},
   "source": [
    "# RDD에서 다룰 수 있는 데이터 타입 TypeSafe\n",
    "1. 비정형 데이터 - .... json, txt, str\n",
    "2. 정형 데이터 - 리스트, csv, table"
   ]
  },
  {
   "cell_type": "code",
   "execution_count": 2,
   "id": "cc3a47a2-a78f-41ae-94ba-bb738eb42f24",
   "metadata": {},
   "outputs": [
    {
     "data": {
      "text/plain": [
       "learning_spark_data/log.txt MapPartitionsRDD[1] at textFile at NativeMethodAccessorImpl.java:0"
      ]
     },
     "execution_count": 2,
     "metadata": {},
     "output_type": "execute_result"
    }
   ],
   "source": [
    "#RDD[str]\n",
    "rdd1 = spark.sparkContext.textFile('learning_spark_data/log.txt')\n",
    "rdd1"
   ]
  },
  {
   "cell_type": "code",
   "execution_count": 3,
   "id": "59937c99-e51c-4a96-8b39-03d5d9368975",
   "metadata": {},
   "outputs": [
    {
     "data": {
      "text/plain": [
       "['2025-07-31 10:00:01 INFO User=kim ACTION=LOGIN RESULT=SUCCESS',\n",
       " '2025-07-31 10:05:43 WARN User=lee ACTION=DOWNLOAD RESULT=FAIL',\n",
       " '2025-07-31 10:08:22 INFO User=park ACTION=UPLOAD RESULT=SUCCESS']"
      ]
     },
     "execution_count": 3,
     "metadata": {},
     "output_type": "execute_result"
    }
   ],
   "source": [
    "rdd1.take(3)"
   ]
  },
  {
   "cell_type": "code",
   "execution_count": null,
   "id": "2c24fef7-4436-45c4-903e-75beeb53fb1b",
   "metadata": {},
   "outputs": [],
   "source": [
    "#RDD[dict] - data.json"
   ]
  },
  {
   "cell_type": "code",
   "execution_count": 4,
   "id": "162fb43a-a589-4b09-969e-12e8b5633d4d",
   "metadata": {},
   "outputs": [
    {
     "data": {
      "text/plain": [
       "PythonRDD[5] at RDD at PythonRDD.scala:53"
      ]
     },
     "execution_count": 4,
     "metadata": {},
     "output_type": "execute_result"
    }
   ],
   "source": [
    "import json\n",
    "rdd2 = spark.sparkContext.textFile('learning_spark_data/data.json').map(json.loads) # 변환할 때 map을 이용\n",
    "rdd2"
   ]
  },
  {
   "cell_type": "code",
   "execution_count": 5,
   "id": "c777e92c-1e17-4b1e-a6fd-f2444ee37d04",
   "metadata": {},
   "outputs": [
    {
     "data": {
      "text/plain": [
       "[{'user': 'kim',\n",
       "  'action': 'login',\n",
       "  'result': 'success',\n",
       "  'time': '2025-07-31 10:00:01'},\n",
       " {'user': 'lee',\n",
       "  'action': 'download',\n",
       "  'result': 'fail',\n",
       "  'time': '2025-07-31 10:05:43'},\n",
       " {'user': 'park',\n",
       "  'action': 'upload',\n",
       "  'result': 'success',\n",
       "  'time': '2025-07-31 10:08:22'}]"
      ]
     },
     "execution_count": 5,
     "metadata": {},
     "output_type": "execute_result"
    }
   ],
   "source": [
    "rdd2.take(3)"
   ]
  },
  {
   "cell_type": "code",
   "execution_count": 11,
   "id": "2a1bb04d-1473-42ba-ad67-e27d1cb7fcfa",
   "metadata": {},
   "outputs": [],
   "source": [
    "spark.stop()"
   ]
  },
  {
   "cell_type": "markdown",
   "id": "de402509-0d01-4cdf-a72a-02c93f704df3",
   "metadata": {},
   "source": [
    "# RDD의 데이터 읽기 패턴\n",
    "1. RDD 생성 - type 지정 x\n",
    "2. 형식 변환 - map()\n",
    "3. take(n)"
   ]
  },
  {
   "cell_type": "markdown",
   "id": "b291bba2-47d5-49ea-8777-5fdd0c2dc6a0",
   "metadata": {},
   "source": [
    "# 스파크컨텍스트 객체\n",
    "\n",
    "1. SparkSession.getOrCreate() -> 세션객체로부터 사전에 설정된 변수에 맞춰 컨텍스트 생성\n",
    "2. SparkConf + SparkContext -> 저수준 연산에 적합한 방식"
   ]
  },
  {
   "cell_type": "code",
   "execution_count": 6,
   "id": "65d8861b-7611-40e2-9fc3-965d74f05818",
   "metadata": {},
   "outputs": [
    {
     "data": {
      "text/plain": [
       "<pyspark.conf.SparkConf at 0x7f18071b2510>"
      ]
     },
     "execution_count": 6,
     "metadata": {},
     "output_type": "execute_result"
    }
   ],
   "source": [
    "from pyspark import SparkConf, SparkContext\n",
    "conf = SparkConf().setMaster('local').setAppName('coutry-student-counts2')\n",
    "conf"
   ]
  },
  {
   "cell_type": "code",
   "execution_count": 12,
   "id": "d492e31d-646f-49d6-acef-d24cb25fe0d9",
   "metadata": {},
   "outputs": [],
   "source": [
    "spark = SparkContext(conf = conf).getOrCreate()"
   ]
  },
  {
   "cell_type": "code",
   "execution_count": 13,
   "id": "6b3ae78e-fd05-47a5-8f8c-ca58ecdbd63c",
   "metadata": {},
   "outputs": [
    {
     "data": {
      "text/plain": [
       "[('spark.master', 'local'),\n",
       " ('spark.driver.host', '4630a2fe8a98'),\n",
       " ('spark.driver.port', '40483'),\n",
       " ('spark.app.name', 'coutry-student-counts2'),\n",
       " ('spark.app.submitTime', '1754024979199'),\n",
       " ('spark.executor.id', 'driver'),\n",
       " ('spark.driver.extraJavaOptions',\n",
       "  '-Djava.net.preferIPv6Addresses=false -XX:+IgnoreUnrecognizedVMOptions --add-opens=java.base/java.lang=ALL-UNNAMED --add-opens=java.base/java.lang.invoke=ALL-UNNAMED --add-opens=java.base/java.lang.reflect=ALL-UNNAMED --add-opens=java.base/java.io=ALL-UNNAMED --add-opens=java.base/java.net=ALL-UNNAMED --add-opens=java.base/java.nio=ALL-UNNAMED --add-opens=java.base/java.util=ALL-UNNAMED --add-opens=java.base/java.util.concurrent=ALL-UNNAMED --add-opens=java.base/java.util.concurrent.atomic=ALL-UNNAMED --add-opens=java.base/sun.nio.ch=ALL-UNNAMED --add-opens=java.base/sun.nio.cs=ALL-UNNAMED --add-opens=java.base/sun.security.action=ALL-UNNAMED --add-opens=java.base/sun.util.calendar=ALL-UNNAMED --add-opens=java.security.jgss/sun.security.krb5=ALL-UNNAMED -Djdk.reflect.useDirectMethodHandle=false'),\n",
       " ('spark.rdd.compress', 'True'),\n",
       " ('spark.app.startTime', '1754026364320'),\n",
       " ('spark.serializer.objectStreamReset', '100'),\n",
       " ('spark.submit.pyFiles', ''),\n",
       " ('spark.submit.deployMode', 'client'),\n",
       " ('spark.ui.showConsoleProgress', 'true'),\n",
       " ('spark.app.id', 'local-1754026364354'),\n",
       " ('spark.executor.extraJavaOptions',\n",
       "  '-Djava.net.preferIPv6Addresses=false -XX:+IgnoreUnrecognizedVMOptions --add-opens=java.base/java.lang=ALL-UNNAMED --add-opens=java.base/java.lang.invoke=ALL-UNNAMED --add-opens=java.base/java.lang.reflect=ALL-UNNAMED --add-opens=java.base/java.io=ALL-UNNAMED --add-opens=java.base/java.net=ALL-UNNAMED --add-opens=java.base/java.nio=ALL-UNNAMED --add-opens=java.base/java.util=ALL-UNNAMED --add-opens=java.base/java.util.concurrent=ALL-UNNAMED --add-opens=java.base/java.util.concurrent.atomic=ALL-UNNAMED --add-opens=java.base/sun.nio.ch=ALL-UNNAMED --add-opens=java.base/sun.nio.cs=ALL-UNNAMED --add-opens=java.base/sun.security.action=ALL-UNNAMED --add-opens=java.base/sun.util.calendar=ALL-UNNAMED --add-opens=java.security.jgss/sun.security.krb5=ALL-UNNAMED -Djdk.reflect.useDirectMethodHandle=false')]"
      ]
     },
     "execution_count": 13,
     "metadata": {},
     "output_type": "execute_result"
    }
   ],
   "source": [
    "spark.getConf().getAll()"
   ]
  },
  {
   "cell_type": "code",
   "execution_count": 14,
   "id": "ce7f591a-3afa-45dd-a391-a4d77487325e",
   "metadata": {},
   "outputs": [],
   "source": [
    "spark.stop()"
   ]
  },
  {
   "cell_type": "code",
   "execution_count": null,
   "id": "54b35f93-8efc-443a-9368-28d2c902a847",
   "metadata": {},
   "outputs": [],
   "source": []
  },
  {
   "cell_type": "code",
   "execution_count": 16,
   "id": "5ce930dc-77ec-4dad-acef-c9d96ba85e4d",
   "metadata": {},
   "outputs": [
    {
     "data": {
      "text/plain": [
       "'/home/jovyan/work'"
      ]
     },
     "execution_count": 16,
     "metadata": {},
     "output_type": "execute_result"
    }
   ],
   "source": [
    "import os\n",
    "os.getcwd() # 컨테이너 내부에 있는 실제 폴더 경로"
   ]
  },
  {
   "cell_type": "code",
   "execution_count": 17,
   "id": "0ddc9cce-6501-4a06-a970-53fce648b98f",
   "metadata": {},
   "outputs": [
    {
     "data": {
      "text/plain": [
       "'/home/jovyan/work/learning_spark_data'"
      ]
     },
     "execution_count": 17,
     "metadata": {},
     "output_type": "execute_result"
    }
   ],
   "source": [
    "dir = os.path.join(os.getcwd() , 'learning_spark_data')\n",
    "dir"
   ]
  },
  {
   "cell_type": "code",
   "execution_count": 18,
   "id": "65bdf416-69c5-42dc-8713-3dff1588f798",
   "metadata": {},
   "outputs": [
    {
     "data": {
      "text/plain": [
       "'/home/jovyan/work/learning_spark_data/xAPI-Edu-Data.csv'"
      ]
     },
     "execution_count": 18,
     "metadata": {},
     "output_type": "execute_result"
    }
   ],
   "source": [
    "filename = 'xAPI-Edu-Data.csv'\n",
    "filepath = os.path.join(dir, filename)\n",
    "filepath"
   ]
  },
  {
   "cell_type": "code",
   "execution_count": 22,
   "id": "0ec63ee9-2ca2-41ae-9bce-7b3b1dde49d0",
   "metadata": {},
   "outputs": [],
   "source": [
    "spark = SparkContext(conf = conf).getOrCreate()"
   ]
  },
  {
   "cell_type": "markdown",
   "id": "3a7454a2-63b4-43a0-8087-3227b25cad93",
   "metadata": {},
   "source": [
    "## 외부 저장소에서 데이터를 로드, RDD 생성"
   ]
  },
  {
   "cell_type": "code",
   "execution_count": 23,
   "id": "c4ec1f54-9e87-4a41-8ad8-2021c47aa843",
   "metadata": {},
   "outputs": [
    {
     "data": {
      "text/plain": [
       "file:////home/jovyan/work/learning_spark_data/xAPI-Edu-Data.csv MapPartitionsRDD[1] at textFile at NativeMethodAccessorImpl.java:0"
      ]
     },
     "execution_count": 23,
     "metadata": {},
     "output_type": "execute_result"
    }
   ],
   "source": [
    "lines = spark.textFile('file:///' + filepath.replace('\\\\','/'))\n",
    "lines"
   ]
  },
  {
   "cell_type": "code",
   "execution_count": 25,
   "id": "1553adac-dbaa-4b5a-a46f-d341b105e69f",
   "metadata": {},
   "outputs": [
    {
     "data": {
      "text/plain": [
       "['gender,NationalITy,PlaceofBirth,StageID,GradeID,SectionID,Topic,Semester,Relation,raisedhands,VisITedResources,AnnouncementsView,Discussion,ParentAnsweringSurvey,ParentschoolSatisfaction,StudentAbsenceDays,Class']"
      ]
     },
     "execution_count": 25,
     "metadata": {},
     "output_type": "execute_result"
    }
   ],
   "source": [
    "lines.take(1) # 헤더부터 읽어옴"
   ]
  },
  {
   "cell_type": "code",
   "execution_count": 27,
   "id": "1b91af52-788d-4c43-b183-ffbc51f3bb45",
   "metadata": {},
   "outputs": [
    {
     "data": {
      "text/plain": [
       "481"
      ]
     },
     "execution_count": 27,
     "metadata": {},
     "output_type": "execute_result"
    }
   ],
   "source": [
    "lines.count()  # 대용량일 경우 문제 -> take(n)"
   ]
  },
  {
   "cell_type": "markdown",
   "id": "91118cfa-ea56-4678-8b39-ce09a0e5c535",
   "metadata": {},
   "source": [
    "# 데이터의 처리"
   ]
  },
  {
   "cell_type": "code",
   "execution_count": 28,
   "id": "f2f6eacb-489a-4eea-b543-9414476dcdf3",
   "metadata": {},
   "outputs": [
    {
     "data": {
      "text/plain": [
       "'gender,NationalITy,PlaceofBirth,StageID,GradeID,SectionID,Topic,Semester,Relation,raisedhands,VisITedResources,AnnouncementsView,Discussion,ParentAnsweringSurvey,ParentschoolSatisfaction,StudentAbsenceDays,Class'"
      ]
     },
     "execution_count": 28,
     "metadata": {},
     "output_type": "execute_result"
    }
   ],
   "source": [
    "header = lines.first()\n",
    "header"
   ]
  },
  {
   "cell_type": "code",
   "execution_count": 29,
   "id": "027143b8-fd33-4c4b-a3de-45b6e0559ec0",
   "metadata": {},
   "outputs": [
    {
     "data": {
      "text/plain": [
       "['M,KW,KuwaIT,lowerlevel,G-04,A,IT,F,Father,15,16,2,20,Yes,Good,Under-7,M',\n",
       " 'M,KW,KuwaIT,lowerlevel,G-04,A,IT,F,Father,20,20,3,25,Yes,Good,Under-7,M',\n",
       " 'M,KW,KuwaIT,lowerlevel,G-04,A,IT,F,Father,10,7,0,30,No,Bad,Above-7,L']"
      ]
     },
     "execution_count": 29,
     "metadata": {},
     "output_type": "execute_result"
    }
   ],
   "source": [
    "datas = lines.filter(lambda row : row != header) # 헤더 아닌 값만 rdd로 따로 생성\n",
    "datas.take(3)"
   ]
  },
  {
   "cell_type": "code",
   "execution_count": 30,
   "id": "32cd11a4-d11d-4453-904d-7f9035480220",
   "metadata": {},
   "outputs": [
    {
     "data": {
      "text/plain": [
       "PythonRDD[8] at RDD at PythonRDD.scala:53"
      ]
     },
     "execution_count": 30,
     "metadata": {},
     "output_type": "execute_result"
    }
   ],
   "source": [
    "countries = datas.map(lambda row : row.split(',')[2])\n",
    "countries"
   ]
  },
  {
   "cell_type": "code",
   "execution_count": 32,
   "id": "530078e3-0cde-4f72-86ae-b9d9803e1561",
   "metadata": {},
   "outputs": [
    {
     "data": {
      "text/plain": [
       "['KuwaIT', 'KuwaIT', 'KuwaIT']"
      ]
     },
     "execution_count": 32,
     "metadata": {},
     "output_type": "execute_result"
    }
   ],
   "source": [
    "countries.take(3)"
   ]
  },
  {
   "cell_type": "code",
   "execution_count": 34,
   "id": "95349062-f670-42cb-b281-259facd30244",
   "metadata": {},
   "outputs": [
    {
     "data": {
      "text/plain": [
       "defaultdict(int,\n",
       "            {'KuwaIT': 180,\n",
       "             'lebanon': 19,\n",
       "             'Egypt': 9,\n",
       "             'SaudiArabia': 16,\n",
       "             'USA': 16,\n",
       "             'Jordan': 176,\n",
       "             'venzuela': 1,\n",
       "             'Iran': 6,\n",
       "             'Tunis': 9,\n",
       "             'Morocco': 4,\n",
       "             'Syria': 6,\n",
       "             'Iraq': 22,\n",
       "             'Palestine': 10,\n",
       "             'Lybia': 6})"
      ]
     },
     "execution_count": 34,
     "metadata": {},
     "output_type": "execute_result"
    }
   ],
   "source": [
    "result = countries.countByValue()\n",
    "result"
   ]
  },
  {
   "cell_type": "code",
   "execution_count": 36,
   "id": "6f2425ab-4e7e-4fea-9961-419285602e33",
   "metadata": {},
   "outputs": [
    {
     "data": {
      "text/plain": [
       "dict_items([('KuwaIT', 180), ('lebanon', 19), ('Egypt', 9), ('SaudiArabia', 16), ('USA', 16), ('Jordan', 176), ('venzuela', 1), ('Iran', 6), ('Tunis', 9), ('Morocco', 4), ('Syria', 6), ('Iraq', 22), ('Palestine', 10), ('Lybia', 6)])"
      ]
     },
     "execution_count": 36,
     "metadata": {},
     "output_type": "execute_result"
    }
   ],
   "source": [
    "result.items() # 값만 꺼내기"
   ]
  },
  {
   "cell_type": "code",
   "execution_count": 37,
   "id": "d176fecb-c502-4f42-9944-8c8a64280719",
   "metadata": {},
   "outputs": [
    {
     "data": {
      "text/plain": [
       "[('KuwaIT', 180),\n",
       " ('Jordan', 176),\n",
       " ('Iraq', 22),\n",
       " ('lebanon', 19),\n",
       " ('SaudiArabia', 16),\n",
       " ('USA', 16),\n",
       " ('Palestine', 10),\n",
       " ('Egypt', 9),\n",
       " ('Tunis', 9),\n",
       " ('Iran', 6),\n",
       " ('Syria', 6),\n",
       " ('Lybia', 6),\n",
       " ('Morocco', 4),\n",
       " ('venzuela', 1)]"
      ]
     },
     "execution_count": 37,
     "metadata": {},
     "output_type": "execute_result"
    }
   ],
   "source": [
    "sorted(result.items(), key = lambda x : x[1], reverse=True) # 파이썬 방법"
   ]
  },
  {
   "cell_type": "code",
   "execution_count": 46,
   "id": "db9374c4-9ecd-4834-b1e4-9a460b1f294d",
   "metadata": {},
   "outputs": [
    {
     "data": {
      "text/plain": [
       "[('KuwaIT', 180), ('Jordan', 176), ('Iraq', 22)]"
      ]
     },
     "execution_count": 46,
     "metadata": {},
     "output_type": "execute_result"
    }
   ],
   "source": [
    "sorted(result.items(), key = lambda x : x[1], reverse=True)[:3] # 내림차순 후 top 3 출력"
   ]
  },
  {
   "cell_type": "code",
   "execution_count": 52,
   "id": "139998b1-4bc8-41c5-b20d-92cee815b4c4",
   "metadata": {},
   "outputs": [
    {
     "data": {
      "text/plain": [
       "480"
      ]
     },
     "execution_count": 52,
     "metadata": {},
     "output_type": "execute_result"
    }
   ],
   "source": [
    "total_su = sum(result.values()) # 480명이다.\n",
    "total_su"
   ]
  },
  {
   "cell_type": "code",
   "execution_count": 53,
   "id": "ac9bc290-976b-473c-ba9b-194e26c32aa0",
   "metadata": {},
   "outputs": [
    {
     "data": {
      "text/plain": [
       "{'KuwaIT': 37.5,\n",
       " 'lebanon': 3.96,\n",
       " 'Egypt': 1.88,\n",
       " 'SaudiArabia': 3.33,\n",
       " 'USA': 3.33,\n",
       " 'Jordan': 36.67,\n",
       " 'venzuela': 0.21,\n",
       " 'Iran': 1.25,\n",
       " 'Tunis': 1.88,\n",
       " 'Morocco': 0.83,\n",
       " 'Syria': 1.25,\n",
       " 'Iraq': 4.58,\n",
       " 'Palestine': 2.08,\n",
       " 'Lybia': 1.25}"
      ]
     },
     "execution_count": 53,
     "metadata": {},
     "output_type": "execute_result"
    }
   ],
   "source": [
    "# 비율 계산\n",
    "rations = { k : round(v / total_su *100, 2) for k,v in result.items() }\n",
    "rations"
   ]
  },
  {
   "cell_type": "code",
   "execution_count": 55,
   "id": "2321b8eb-bc52-4d4a-ae16-052e8d71edae",
   "metadata": {},
   "outputs": [
    {
     "data": {
      "text/plain": [
       "<BarContainer object of 14 artists>"
      ]
     },
     "execution_count": 55,
     "metadata": {},
     "output_type": "execute_result"
    },
    {
     "data": {
      "image/png": "[encoded data removed]",
      "text/plain": [
       "<Figure size 640x480 with 1 Axes>"
      ]
     },
     "metadata": {},
     "output_type": "display_data"
    }
   ],
   "source": [
    "# 시각화\n",
    "import matplotlib.pyplot as plt\n",
    "countries = list(result.keys())\n",
    "counts = list(result.values())\n",
    "plt.bar(countries, counts)"
   ]
  },
  {
   "cell_type": "code",
   "execution_count": null,
   "id": "b3fb16d1-56f0-458f-b15b-690e6145cc84",
   "metadata": {},
   "outputs": [],
   "source": []
  },
  {
   "cell_type": "code",
   "execution_count": 56,
   "id": "84941d98-a927-4c9f-a253-cfcb88cbd6e1",
   "metadata": {},
   "outputs": [],
   "source": [
    "# rdd 연습"
   ]
  },
  {
   "cell_type": "code",
   "execution_count": 75,
   "id": "96ead9ef-430c-4a0a-9ddc-eb446589d75c",
   "metadata": {},
   "outputs": [],
   "source": [
    "# 2. RDD 생성 - 기본 리스트\n",
    "data = [\"KuwaIT\", \"lebanon\", \"Jordan\", \"Jordan\", \"USA\", \"Egypt\", \n",
    "        \"Jordan\", \"USA\", \"Iran\", \"Iran\", \"KuwaIT\"]"
   ]
  },
  {
   "cell_type": "code",
   "execution_count": 76,
   "id": "b0b7f85c-d3e6-41e8-94cd-80ded2d96834",
   "metadata": {},
   "outputs": [],
   "source": [
    "countries = spark.parallelize(data)"
   ]
  },
  {
   "cell_type": "code",
   "execution_count": 85,
   "id": "e0e5c76b-b294-4e40-b4ca-c5af8aea2279",
   "metadata": {},
   "outputs": [
    {
     "data": {
      "text/plain": [
       "ParallelCollectionRDD[15] at readRDDFromFile at PythonRDD.scala:289"
      ]
     },
     "execution_count": 85,
     "metadata": {},
     "output_type": "execute_result"
    }
   ],
   "source": [
    "countries"
   ]
  },
  {
   "cell_type": "code",
   "execution_count": 77,
   "id": "27b96b5c-eb62-40a3-85cb-4fc61b58080e",
   "metadata": {},
   "outputs": [
    {
     "data": {
      "text/plain": [
       "['KuwaIT', 'lebanon', 'Jordan']"
      ]
     },
     "execution_count": 77,
     "metadata": {},
     "output_type": "execute_result"
    }
   ],
   "source": [
    "countries.take(3)"
   ]
  },
  {
   "cell_type": "code",
   "execution_count": 78,
   "id": "2e1377d2-7718-433b-bb25-f3319d61c659",
   "metadata": {},
   "outputs": [],
   "source": [
    "# 소문자로 변환 lower()\n",
    "countries_lower = countries.map(lambda x: x.lower())"
   ]
  },
  {
   "cell_type": "code",
   "execution_count": 83,
   "id": "851e0b2d-4a40-4137-96a3-b205ef626c95",
   "metadata": {},
   "outputs": [
    {
     "data": {
      "text/plain": [
       "['jordan', 'jordan', 'jordan']"
      ]
     },
     "execution_count": 83,
     "metadata": {},
     "output_type": "execute_result"
    }
   ],
   "source": [
    "# jordan만 추출\n",
    "jordan_country = countries_lower.filter(lambda x:x=='jordan')\n",
    "jordan_country.collect()"
   ]
  },
  {
   "cell_type": "code",
   "execution_count": 81,
   "id": "5f2a35fb-8377-45fe-9354-5f4d67eeefc5",
   "metadata": {},
   "outputs": [
    {
     "data": {
      "text/plain": [
       "6"
      ]
     },
     "execution_count": 81,
     "metadata": {},
     "output_type": "execute_result"
    }
   ],
   "source": [
    "# 몇개 국가인지 세어보기 : distinct() > count()\n",
    "dd = countries_lower.distinct()\n",
    "dd.count()"
   ]
  },
  {
   "cell_type": "code",
   "execution_count": null,
   "id": "49938ad6-48b2-4a2d-b47e-8f6c413f0808",
   "metadata": {},
   "outputs": [],
   "source": [
    "# 국가별 빈도수"
   ]
  },
  {
   "cell_type": "code",
   "execution_count": 86,
   "id": "68515655-3010-4a07-97b3-2a786c7ee544",
   "metadata": {},
   "outputs": [
    {
     "data": {
      "text/plain": [
       "['KuwaIT',\n",
       " 'lebanon',\n",
       " 'Jordan',\n",
       " 'Jordan',\n",
       " 'USA',\n",
       " 'Egypt',\n",
       " 'Jordan',\n",
       " 'USA',\n",
       " 'Iran',\n",
       " 'Iran',\n",
       " 'KuwaIT']"
      ]
     },
     "execution_count": 86,
     "metadata": {},
     "output_type": "execute_result"
    }
   ],
   "source": [
    "data"
   ]
  },
  {
   "cell_type": "code",
   "execution_count": 87,
   "id": "01674f40-cf27-40ad-8ab3-37d66a52394b",
   "metadata": {},
   "outputs": [
    {
     "data": {
      "text/plain": [
       "[('kuwait', 1)]"
      ]
     },
     "execution_count": 87,
     "metadata": {},
     "output_type": "execute_result"
    }
   ],
   "source": [
    "country_pairs = countries_lower.map(lambda x: (x,1))\n",
    "country_pairs.take(1)"
   ]
  },
  {
   "cell_type": "code",
   "execution_count": 90,
   "id": "65f96204-fe41-4e1c-af20-33691f8b6643",
   "metadata": {},
   "outputs": [
    {
     "data": {
      "text/plain": [
       "[('kuwait', 2), ('lebanon', 1)]"
      ]
     },
     "execution_count": 90,
     "metadata": {},
     "output_type": "execute_result"
    }
   ],
   "source": [
    "country_counts = country_pairs.reduceByKey(lambda a,b : a+b)\n",
    "country_counts.take(2)"
   ]
  },
  {
   "cell_type": "code",
   "execution_count": 91,
   "id": "34268368-0260-46e0-a362-3e0712e4f21c",
   "metadata": {},
   "outputs": [
    {
     "data": {
      "text/plain": [
       "[('kuwait', 2),\n",
       " ('lebanon', 1),\n",
       " ('jordan', 3),\n",
       " ('usa', 2),\n",
       " ('egypt', 1),\n",
       " ('iran', 2)]"
      ]
     },
     "execution_count": 91,
     "metadata": {},
     "output_type": "execute_result"
    }
   ],
   "source": [
    "country_counts.take(6)"
   ]
  },
  {
   "cell_type": "code",
   "execution_count": 92,
   "id": "0ffad3c7-481d-4de9-8cc3-917d7bae898a",
   "metadata": {},
   "outputs": [
    {
     "data": {
      "text/plain": [
       "[('kuwait', 2),\n",
       " ('lebanon', 1),\n",
       " ('jordan', 3),\n",
       " ('usa', 2),\n",
       " ('egypt', 1),\n",
       " ('iran', 2)]"
      ]
     },
     "execution_count": 92,
     "metadata": {},
     "output_type": "execute_result"
    }
   ],
   "source": [
    "country_counts.collect()"
   ]
  },
  {
   "cell_type": "code",
   "execution_count": 93,
   "id": "08adf3c3-ce7e-4c6e-8757-310aca9be579",
   "metadata": {},
   "outputs": [
    {
     "data": {
      "text/plain": [
       "[('egypt', 1),\n",
       " ('iran', 2),\n",
       " ('jordan', 3),\n",
       " ('kuwait', 2),\n",
       " ('lebanon', 1),\n",
       " ('usa', 2)]"
      ]
     },
     "execution_count": 93,
     "metadata": {},
     "output_type": "execute_result"
    }
   ],
   "source": [
    "country_counts.sortByKey().collect()"
   ]
  },
  {
   "cell_type": "code",
   "execution_count": 94,
   "id": "54cc2787-b024-412b-8963-6deabe63bf46",
   "metadata": {},
   "outputs": [
    {
     "data": {
      "text/plain": [
       "[('jordan', 3),\n",
       " ('kuwait', 2),\n",
       " ('usa', 2),\n",
       " ('iran', 2),\n",
       " ('lebanon', 1),\n",
       " ('egypt', 1)]"
      ]
     },
     "execution_count": 94,
     "metadata": {},
     "output_type": "execute_result"
    }
   ],
   "source": [
    "country_counts.sortBy( lambda x:x[1], ascending=False ).collect()"
   ]
  },
  {
   "cell_type": "code",
   "execution_count": 95,
   "id": "3a7e5e29-5232-4afd-917d-1f8cb513e629",
   "metadata": {},
   "outputs": [
    {
     "data": {
      "text/plain": [
       "'KuwaIT,lebanon,Jordan,Jordan,USA,Egypt,Jordan,USA,Iran,Iran,KuwaIT'"
      ]
     },
     "execution_count": 95,
     "metadata": {},
     "output_type": "execute_result"
    }
   ],
   "source": [
    "countries.reduce(lambda a,b : a+','+b) # 변환"
   ]
  },
  {
   "cell_type": "code",
   "execution_count": null,
   "id": "0c0ec941-80ee-4989-b9bf-702226e7cf33",
   "metadata": {},
   "outputs": [],
   "source": []
  },
  {
   "cell_type": "code",
   "execution_count": null,
   "id": "233c4b1b-1489-472a-9df3-7c67510295b4",
   "metadata": {},
   "outputs": [],
   "source": [
    "# 저장소에 저장하기"
   ]
  },
  {
   "cell_type": "code",
   "execution_count": 96,
   "id": "9c839261-cb5c-4733-937d-21ab1784aa9d",
   "metadata": {},
   "outputs": [],
   "source": [
    "output_path = 'output/countries_result'"
   ]
  },
  {
   "cell_type": "code",
   "execution_count": 98,
   "id": "ec63fb1a-bd4c-4017-a4d3-ebc3b5eced8b",
   "metadata": {},
   "outputs": [],
   "source": [
    "import shutil"
   ]
  },
  {
   "cell_type": "code",
   "execution_count": 101,
   "id": "1c9d4384-d339-4533-9281-f1e5a5845fb6",
   "metadata": {},
   "outputs": [],
   "source": [
    "if os.path.exists(output_path): # 저장소가 있으면 지우기\n",
    "    shutil.rmtree(output_path)\n",
    "    \n",
    "countries.saveAsTextFile(output_path) # 저장소 경로"
   ]
  },
  {
   "cell_type": "code",
   "execution_count": 23,
   "id": "d6e2a7d0-237e-45ff-a024-58c9e5328367",
   "metadata": {},
   "outputs": [],
   "source": [
    "spark.stop()"
   ]
  },
  {
   "cell_type": "code",
   "execution_count": null,
   "id": "181e19eb-0b3f-40e0-959d-d70f4b47fbd9",
   "metadata": {},
   "outputs": [],
   "source": []
  },
  {
   "cell_type": "markdown",
   "id": "e802852f-0fd9-4de5-8a29-e99fa0369bf6",
   "metadata": {},
   "source": [
    "# mnm_dataset.csv 를 읽어서 주별 총 사탕수 구하기"
   ]
  },
  {
   "cell_type": "code",
   "execution_count": null,
   "id": "5a258b04-03ed-4029-b48a-c08c196b24e5",
   "metadata": {},
   "outputs": [],
   "source": [
    "# 주별, 색상별 개수"
   ]
  },
  {
   "cell_type": "code",
   "execution_count": 24,
   "id": "d9ebdacb-5666-4f08-b1bf-7f8aaf1e216f",
   "metadata": {},
   "outputs": [],
   "source": [
    "from pyspark.sql import SparkSession\n",
    "spark = SparkSession.builder.appName('mnms count example').getOrCreate()"
   ]
  },
  {
   "cell_type": "code",
   "execution_count": 32,
   "id": "1a1cbfee-61ab-4f74-9f9c-c14f72cc9228",
   "metadata": {},
   "outputs": [
    {
     "data": {
      "text/html": [
       "\n",
       "            <div>\n",
       "                <p><b>SparkSession - in-memory</b></p>\n",
       "                \n",
       "        <div>\n",
       "            <p><b>SparkContext</b></p>\n",
       "\n",
       "            <p><a href=\"http://5a5b2d76aca0:4040\">Spark UI</a></p>\n",
       "\n",
       "            <dl>\n",
       "              <dt>Version</dt>\n",
       "                <dd><code>v3.5.0</code></dd>\n",
       "              <dt>Master</dt>\n",
       "                <dd><code>local[*]</code></dd>\n",
       "              <dt>AppName</dt>\n",
       "                <dd><code>mnms count example</code></dd>\n",
       "            </dl>\n",
       "        </div>\n",
       "        \n",
       "            </div>\n",
       "        "
      ],
      "text/plain": [
       "<pyspark.sql.session.SparkSession at 0x7fb29c32f550>"
      ]
     },
     "execution_count": 32,
     "metadata": {},
     "output_type": "execute_result"
    }
   ],
   "source": [
    "spark"
   ]
  },
  {
   "cell_type": "code",
   "execution_count": 25,
   "id": "8e5ad83a-c3ca-42d9-b3fa-77f5ddcb9722",
   "metadata": {},
   "outputs": [],
   "source": [
    "rdd = spark.sparkContext.textFile('learning_spark_data/mnm_dataset.csv')"
   ]
  },
  {
   "cell_type": "code",
   "execution_count": 26,
   "id": "fea09ba8-c148-4b5e-90b5-0a5649f76d1f",
   "metadata": {},
   "outputs": [],
   "source": [
    "header = rdd.first()\n",
    "data = rdd.filter(lambda line: line!=header)\\\n",
    "                .map(lambda line: line.split(','))"
   ]
  },
  {
   "cell_type": "code",
   "execution_count": 27,
   "id": "23e27897-bdfb-4104-91df-074cedefc004",
   "metadata": {},
   "outputs": [
    {
     "data": {
      "text/plain": [
       "[['TX', 'Red', '20'], ['NV', 'Blue', '66'], ['CO', 'Blue', '79']]"
      ]
     },
     "execution_count": 27,
     "metadata": {},
     "output_type": "execute_result"
    }
   ],
   "source": [
    "data.take(3)"
   ]
  },
  {
   "cell_type": "code",
   "execution_count": 28,
   "id": "7d38ce0a-e3eb-4f38-9453-28959d9adf42",
   "metadata": {},
   "outputs": [
    {
     "data": {
      "text/plain": [
       "[('TX', 20), ('NV', 66), ('CO', 79)]"
      ]
     },
     "execution_count": 28,
     "metadata": {},
     "output_type": "execute_result"
    }
   ],
   "source": [
    "rdd1 = data.map(lambda x: (x[0], int(x[2])))\n",
    "rdd1.take(3)"
   ]
  },
  {
   "cell_type": "code",
   "execution_count": 29,
   "id": "2a331790-5b53-4ee4-a7c9-612d979375a0",
   "metadata": {},
   "outputs": [
    {
     "data": {
      "text/plain": [
       "[('NV', 548477), ('CO', 556302), ('OR', 542169)]"
      ]
     },
     "execution_count": 29,
     "metadata": {},
     "output_type": "execute_result"
    }
   ],
   "source": [
    "rdd2 = rdd1.reduceByKey(lambda a,b: a+b) # 키 값을 기준으로 value합치기\n",
    "rdd2.take(3)"
   ]
  },
  {
   "cell_type": "code",
   "execution_count": 30,
   "id": "b5e8f318-5152-43c0-84b5-0adebfeebee5",
   "metadata": {},
   "outputs": [
    {
     "data": {
      "text/plain": [
       "[(('NV', 'Blue'), 90003), (('CO', 'Blue'), 93412), (('OR', 'Blue'), 90526)]"
      ]
     },
     "execution_count": 30,
     "metadata": {},
     "output_type": "execute_result"
    }
   ],
   "source": [
    "# state, color count\n",
    "rdd3 = data.map(lambda x: ((x[0], x[1]), int(x[2]))) \\\n",
    "        .reduceByKey(lambda a,b: a+b)\n",
    "rdd3.take(3)"
   ]
  },
  {
   "cell_type": "code",
   "execution_count": 31,
   "id": "fb81d003-bcc0-4fe7-bcb3-7cbb76813fd9",
   "metadata": {},
   "outputs": [
    {
     "data": {
      "text/plain": [
       "[(('NV', 'Blue'), 90003),\n",
       " (('CO', 'Blue'), 93412),\n",
       " (('OR', 'Blue'), 90526),\n",
       " (('WA', 'Yellow'), 92920),\n",
       " (('OR', 'Green'), 89578),\n",
       " (('NV', 'Green'), 91331),\n",
       " (('AZ', 'Blue'), 89971),\n",
       " (('NV', 'Red'), 89346),\n",
       " (('TX', 'Brown'), 90736),\n",
       " (('CO', 'Red'), 89465),\n",
       " (('AZ', 'Green'), 91882),\n",
       " (('NM', 'Yellow'), 92747),\n",
       " (('WY', 'Yellow'), 87800),\n",
       " (('CO', 'Orange'), 90971),\n",
       " (('NV', 'Orange'), 93929),\n",
       " (('CA', 'Green'), 93505),\n",
       " (('UT', 'Red'), 90995),\n",
       " (('CA', 'Red'), 91527),\n",
       " (('TX', 'Yellow'), 93819),\n",
       " (('AZ', 'Orange'), 91684),\n",
       " (('AZ', 'Red'), 90042),\n",
       " (('CA', 'Blue'), 89123),\n",
       " (('UT', 'Green'), 88392),\n",
       " (('WA', 'Brown'), 93082),\n",
       " (('OR', 'Red'), 90286),\n",
       " (('UT', 'Blue'), 89977),\n",
       " (('NM', 'Brown'), 93447),\n",
       " (('WY', 'Brown'), 86110),\n",
       " (('CA', 'Orange'), 90311),\n",
       " (('OR', 'Orange'), 94514),\n",
       " (('CO', 'Green'), 93724),\n",
       " (('UT', 'Orange'), 91341),\n",
       " (('TX', 'Red'), 95404),\n",
       " (('WY', 'Blue'), 91002),\n",
       " (('CA', 'Yellow'), 100956),\n",
       " (('WA', 'Green'), 96486),\n",
       " (('TX', 'Green'), 95753),\n",
       " (('AZ', 'Brown'), 92287),\n",
       " (('OR', 'Brown'), 89136),\n",
       " (('WY', 'Orange'), 87956),\n",
       " (('WA', 'Red'), 93332),\n",
       " (('WY', 'Red'), 91768),\n",
       " (('TX', 'Orange'), 92315),\n",
       " (('WY', 'Green'), 94339),\n",
       " (('WA', 'Orange'), 91521),\n",
       " (('CO', 'Brown'), 93692),\n",
       " (('NM', 'Green'), 91160),\n",
       " (('NV', 'Yellow'), 91390),\n",
       " (('TX', 'Blue'), 88466),\n",
       " (('UT', 'Yellow'), 89264),\n",
       " (('UT', 'Brown'), 88973),\n",
       " (('WA', 'Blue'), 89886),\n",
       " (('AZ', 'Yellow'), 90946),\n",
       " (('CA', 'Brown'), 95762),\n",
       " (('NM', 'Blue'), 90150),\n",
       " (('NV', 'Brown'), 92478),\n",
       " (('NM', 'Orange'), 91251),\n",
       " (('OR', 'Yellow'), 88129),\n",
       " (('NM', 'Red'), 94699),\n",
       " (('CO', 'Yellow'), 95038)]"
      ]
     },
     "execution_count": 31,
     "metadata": {},
     "output_type": "execute_result"
    }
   ],
   "source": [
    "# 전체 목록 보기 > 모두 메모리에 올린다.\n",
    "rdd3.collect()"
   ]
  },
  {
   "cell_type": "code",
   "execution_count": null,
   "id": "76ba0348-f923-45d0-a74c-506219734d00",
   "metadata": {},
   "outputs": [],
   "source": []
  },
  {
   "cell_type": "code",
   "execution_count": null,
   "id": "7bc72b85-96e2-4fe8-ade8-119acac1fb5f",
   "metadata": {},
   "outputs": [],
   "source": [
    "# output 으로 내보내기"
   ]
  },
  {
   "cell_type": "code",
   "execution_count": 36,
   "id": "f2d88d47-108a-49e4-9b04-a6480f484885",
   "metadata": {},
   "outputs": [],
   "source": [
    "output_path = 'output/mnms_result'"
   ]
  },
  {
   "cell_type": "code",
   "execution_count": 37,
   "id": "e756eb2e-53e0-424d-8142-9fdc25d9324d",
   "metadata": {},
   "outputs": [],
   "source": [
    "import shutil"
   ]
  },
  {
   "cell_type": "code",
   "execution_count": 39,
   "id": "81c44f41-c578-45e3-84ce-7a1bc8039aec",
   "metadata": {},
   "outputs": [],
   "source": [
    "if os.path.exists(output_path):\n",
    "    shutil.rmtree(output_path)\n",
    "rdd3.saveAsTextFile(output_path)"
   ]
  },
  {
   "cell_type": "code",
   "execution_count": null,
   "id": "a1acdfa9-a153-409b-a328-4b1ab4c9dd3a",
   "metadata": {},
   "outputs": [],
   "source": []
  },
  {
   "cell_type": "code",
   "execution_count": 42,
   "id": "51559bf4-e3b5-4610-b128-4b720384dfd3",
   "metadata": {},
   "outputs": [
    {
     "name": "stdout",
     "output_type": "stream",
     "text": [
      "Setting default log level to \"WARN\".\n",
      "To adjust logging level use sc.setLogLevel(newLevel). For SparkR, use setLogLevel(newLevel).\n",
      "25/08/04 01:50:52 WARN NativeCodeLoader: Unable to load native-hadoop library for your platform... using builtin-java classes where applicable\n",
      "25/08/04 01:50:53 WARN Utils: Service 'SparkUI' could not bind on port 4040. Attempting port 4041.\n",
      "결과 미리보기-----\n",
      "(('NV', 'Blue'), 90003)                                                         \n",
      "(('CO', 'Blue'), 93412)\n",
      "(('OR', 'Blue'), 90526)\n",
      "(('WA', 'Yellow'), 92920)\n",
      "(('OR', 'Green'), 89578)\n",
      "총 데이터 라인 수: 60\n"
     ]
    }
   ],
   "source": [
    "!python 02_mnms_result_load.py"
   ]
  },
  {
   "cell_type": "code",
   "execution_count": null,
   "id": "992a2728-96c6-47e3-9044-8e6e043b8cc9",
   "metadata": {},
   "outputs": [],
   "source": []
  },
  {
   "cell_type": "code",
   "execution_count": null,
   "id": "6943d07a-690e-4521-adab-6fe6e5ec6199",
   "metadata": {},
   "outputs": [],
   "source": []
  },
  {
   "cell_type": "code",
   "execution_count": null,
   "id": "88d62f2f-4c03-46ee-87d3-ed89a4cdacf2",
   "metadata": {},
   "outputs": [],
   "source": []
  },
  {
   "cell_type": "code",
   "execution_count": 43,
   "id": "cf252086-67f6-40fa-993c-d14dae8d4456",
   "metadata": {},
   "outputs": [],
   "source": [
    "spark.stop()"
   ]
  }
 ],
 "metadata": {
  "kernelspec": {
   "display_name": "Python 3 (ipykernel)",
   "language": "python",
   "name": "python3"
  },
  "language_info": {
   "codemirror_mode": {
    "name": "ipython",
    "version": 3
   },
   "file_extension": ".py",
   "mimetype": "text/x-python",
   "name": "python",
   "nbconvert_exporter": "python",
   "pygments_lexer": "ipython3",
   "version": "3.11.6"
  }
 },
 "nbformat": 4,
 "nbformat_minor": 5
}
