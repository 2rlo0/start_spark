{
 "cells": [
  {
   "cell_type": "markdown",
   "id": "afff1bec-3c91-4d17-a52f-7880fb5a323d",
   "metadata": {},
   "source": [
    "# IBM HR Analytics Employee Attrition & Performance\n",
    "- 직원의 이직 여부 예측 분류 모델\n",
    "- https://www.kaggle.com/datasets/pavansubhasht/ibm-hr-analytics-attrition-dataset"
   ]
  },
  {
   "cell_type": "code",
   "execution_count": 46,
   "id": "5d595435-16b3-4113-91c5-11f6ee6cd236",
   "metadata": {},
   "outputs": [
    {
     "name": "stdout",
     "output_type": "stream",
     "text": [
      "root\n",
      " |-- Age: integer (nullable = true)\n",
      " |-- Attrition: string (nullable = true)\n",
      " |-- BusinessTravel: string (nullable = true)\n",
      " |-- DailyRate: integer (nullable = true)\n",
      " |-- Department: string (nullable = true)\n",
      " |-- DistanceFromHome: integer (nullable = true)\n",
      " |-- Education: integer (nullable = true)\n",
      " |-- EducationField: string (nullable = true)\n",
      " |-- EmployeeCount: integer (nullable = true)\n",
      " |-- EmployeeNumber: integer (nullable = true)\n",
      " |-- EnvironmentSatisfaction: integer (nullable = true)\n",
      " |-- Gender: string (nullable = true)\n",
      " |-- HourlyRate: integer (nullable = true)\n",
      " |-- JobInvolvement: integer (nullable = true)\n",
      " |-- JobLevel: integer (nullable = true)\n",
      " |-- JobRole: string (nullable = true)\n",
      " |-- JobSatisfaction: integer (nullable = true)\n",
      " |-- MaritalStatus: string (nullable = true)\n",
      " |-- MonthlyIncome: integer (nullable = true)\n",
      " |-- MonthlyRate: integer (nullable = true)\n",
      " |-- NumCompaniesWorked: integer (nullable = true)\n",
      " |-- Over18: string (nullable = true)\n",
      " |-- OverTime: string (nullable = true)\n",
      " |-- PercentSalaryHike: integer (nullable = true)\n",
      " |-- PerformanceRating: integer (nullable = true)\n",
      " |-- RelationshipSatisfaction: integer (nullable = true)\n",
      " |-- StandardHours: integer (nullable = true)\n",
      " |-- StockOptionLevel: integer (nullable = true)\n",
      " |-- TotalWorkingYears: integer (nullable = true)\n",
      " |-- TrainingTimesLastYear: integer (nullable = true)\n",
      " |-- WorkLifeBalance: integer (nullable = true)\n",
      " |-- YearsAtCompany: integer (nullable = true)\n",
      " |-- YearsInCurrentRole: integer (nullable = true)\n",
      " |-- YearsSinceLastPromotion: integer (nullable = true)\n",
      " |-- YearsWithCurrManager: integer (nullable = true)\n",
      "\n"
     ]
    }
   ],
   "source": [
    "from pyspark.sql import SparkSession\n",
    "spark = SparkSession.builder.appName(\"employee-attrition\").getOrCreate()\n",
    "\n",
    "# csv 파일 로드\n",
    "df = spark.read.csv('./learning_spark_data/WA_Fn-UseC_-HR-Employee-Attrition.csv', header=True, inferSchema=True)\n",
    "df.printSchema()"
   ]
  },
  {
   "cell_type": "code",
   "execution_count": 47,
   "id": "97d780a9-f64e-4214-afa6-0b0e4a38da6c",
   "metadata": {},
   "outputs": [
    {
     "name": "stdout",
     "output_type": "stream",
     "text": [
      "+--------------+\n",
      "|EmployeeNumber|\n",
      "+--------------+\n",
      "|             1|\n",
      "|             2|\n",
      "|             4|\n",
      "|             5|\n",
      "|             7|\n",
      "+--------------+\n",
      "only showing top 5 rows\n",
      "\n",
      "+-------------+\n",
      "|EmployeeCount|\n",
      "+-------------+\n",
      "|            1|\n",
      "|            1|\n",
      "|            1|\n",
      "|            1|\n",
      "|            1|\n",
      "+-------------+\n",
      "only showing top 5 rows\n",
      "\n"
     ]
    }
   ],
   "source": [
    "df.select('EmployeeNumber').show(5)\n",
    "df.select('EmployeeCount').show(5)"
   ]
  },
  {
   "cell_type": "code",
   "execution_count": 48,
   "id": "1770ee53-6aa3-412a-8196-ff17227cb6ad",
   "metadata": {},
   "outputs": [],
   "source": [
    "# 불필요한 컬럼 제거: 'EmployeeNumber', 'EmployeeCount', 'Over18', 'StandardHours'\n",
    "# - 'EmployeeCount', 'StandardHours': 모든 값이 동일하므로 모델 학습에 도움이 되지 않음\n",
    "# - 'Over18': 모든 값이 'Y'로 동일 → 정보 없음\n",
    "# - 'EmployeeNumber': 고유 식별자 역할 → 예측에 영향을 주지 않음\n",
    "\n",
    "drop_cols = ['EmployeeNumber', 'EmployeeCount', 'Over18', 'StandardHours']\n",
    "hr_df = df.drop(*drop_cols)"
   ]
  },
  {
   "cell_type": "code",
   "execution_count": 49,
   "id": "6c0332ec-5720-4027-9b6e-6147a3f0bb4b",
   "metadata": {},
   "outputs": [
    {
     "name": "stdout",
     "output_type": "stream",
     "text": [
      "root\n",
      " |-- Age: integer (nullable = true)\n",
      " |-- Attrition: string (nullable = true)\n",
      " |-- BusinessTravel: string (nullable = true)\n",
      " |-- DailyRate: integer (nullable = true)\n",
      " |-- Department: string (nullable = true)\n",
      " |-- DistanceFromHome: integer (nullable = true)\n",
      " |-- Education: integer (nullable = true)\n",
      " |-- EducationField: string (nullable = true)\n",
      " |-- EnvironmentSatisfaction: integer (nullable = true)\n",
      " |-- Gender: string (nullable = true)\n",
      " |-- HourlyRate: integer (nullable = true)\n",
      " |-- JobInvolvement: integer (nullable = true)\n",
      " |-- JobLevel: integer (nullable = true)\n",
      " |-- JobRole: string (nullable = true)\n",
      " |-- JobSatisfaction: integer (nullable = true)\n",
      " |-- MaritalStatus: string (nullable = true)\n",
      " |-- MonthlyIncome: integer (nullable = true)\n",
      " |-- MonthlyRate: integer (nullable = true)\n",
      " |-- NumCompaniesWorked: integer (nullable = true)\n",
      " |-- OverTime: string (nullable = true)\n",
      " |-- PercentSalaryHike: integer (nullable = true)\n",
      " |-- PerformanceRating: integer (nullable = true)\n",
      " |-- RelationshipSatisfaction: integer (nullable = true)\n",
      " |-- StockOptionLevel: integer (nullable = true)\n",
      " |-- TotalWorkingYears: integer (nullable = true)\n",
      " |-- TrainingTimesLastYear: integer (nullable = true)\n",
      " |-- WorkLifeBalance: integer (nullable = true)\n",
      " |-- YearsAtCompany: integer (nullable = true)\n",
      " |-- YearsInCurrentRole: integer (nullable = true)\n",
      " |-- YearsSinceLastPromotion: integer (nullable = true)\n",
      " |-- YearsWithCurrManager: integer (nullable = true)\n",
      "\n"
     ]
    }
   ],
   "source": [
    "hr_df.printSchema()"
   ]
  },
  {
   "cell_type": "code",
   "execution_count": 50,
   "id": "4baaf247-f36b-447f-bf91-c96fc5ae7878",
   "metadata": {},
   "outputs": [
    {
     "name": "stdout",
     "output_type": "stream",
     "text": [
      "+---+---------+--------------+---------+----------+----------------+---------+--------------+-----------------------+------+----------+--------------+--------+-------+---------------+-------------+-------------+-----------+------------------+--------+-----------------+-----------------+------------------------+----------------+-----------------+---------------------+---------------+--------------+------------------+-----------------------+--------------------+\n",
      "|Age|Attrition|BusinessTravel|DailyRate|Department|DistanceFromHome|Education|EducationField|EnvironmentSatisfaction|Gender|HourlyRate|JobInvolvement|JobLevel|JobRole|JobSatisfaction|MaritalStatus|MonthlyIncome|MonthlyRate|NumCompaniesWorked|OverTime|PercentSalaryHike|PerformanceRating|RelationshipSatisfaction|StockOptionLevel|TotalWorkingYears|TrainingTimesLastYear|WorkLifeBalance|YearsAtCompany|YearsInCurrentRole|YearsSinceLastPromotion|YearsWithCurrManager|\n",
      "+---+---------+--------------+---------+----------+----------------+---------+--------------+-----------------------+------+----------+--------------+--------+-------+---------------+-------------+-------------+-----------+------------------+--------+-----------------+-----------------+------------------------+----------------+-----------------+---------------------+---------------+--------------+------------------+-----------------------+--------------------+\n",
      "|  0|        0|             0|        0|         0|               0|        0|             0|                      0|     0|         0|             0|       0|      0|              0|            0|            0|          0|                 0|       0|                0|                0|                       0|               0|                0|                    0|              0|             0|                 0|                      0|                   0|\n",
      "+---+---------+--------------+---------+----------+----------------+---------+--------------+-----------------------+------+----------+--------------+--------+-------+---------------+-------------+-------------+-----------+------------------+--------+-----------------+-----------------+------------------------+----------------+-----------------+---------------------+---------------+--------------+------------------+-----------------------+--------------------+\n",
      "\n"
     ]
    }
   ],
   "source": [
    "# 결측치 확인\n",
    "from pyspark.sql.functions import col, sum\n",
    "hr_df.select([sum(col(c).isNull().cast(\"int\")).alias(c) for c in hr_df.columns]).show()"
   ]
  },
  {
   "cell_type": "code",
   "execution_count": 51,
   "id": "3d17d1a6-bd2f-4fa9-9386-7fda7089a4af",
   "metadata": {},
   "outputs": [],
   "source": [
    "# 각 컬럼별 결측치 개수 확인 -> 모든 컬럼 결측치 없음 확인"
   ]
  },
  {
   "cell_type": "code",
   "execution_count": 52,
   "id": "306132cc-3b73-4d14-82b6-42902c0021f6",
   "metadata": {},
   "outputs": [
    {
     "name": "stdout",
     "output_type": "stream",
     "text": [
      "+---------+-----+\n",
      "|Attrition|count|\n",
      "+---------+-----+\n",
      "|       No| 1233|\n",
      "|      Yes|  237|\n",
      "+---------+-----+\n",
      "\n"
     ]
    }
   ],
   "source": [
    "hr_df.groupBy('Attrition').count().show()"
   ]
  },
  {
   "cell_type": "code",
   "execution_count": 53,
   "id": "dcea0744-0897-4275-bdd4-8c2b8d5f531b",
   "metadata": {},
   "outputs": [],
   "source": [
    "# 타겟 변수 'Attrition' Yes/No → 이진 분류를 위한 숫자형 레이블로 변환\n",
    "# Yes → 1, No → 0\n",
    "from pyspark.ml.feature import StringIndexer\n",
    "label_indexer = StringIndexer(inputCol='Attrition', outputCol='label')"
   ]
  },
  {
   "cell_type": "code",
   "execution_count": 54,
   "id": "dd0dd4cb-6488-4909-a3f6-bc5e203fe2b4",
   "metadata": {},
   "outputs": [],
   "source": [
    "# 범주형 변수 처리 (StringIndexer + OneHotEncoder)\n",
    "from pyspark.ml.feature import OneHotEncoder, StringIndexer\n",
    "from pyspark.ml import Pipeline\n",
    "cat_features = ['BusinessTravel', 'Department', 'EducationField', 'Gender', 'JobRole', 'MaritalStatus', 'OverTime']\n",
    "cat_stages = []\n",
    "\n",
    "for col in cat_features:\n",
    "    indexer = StringIndexer(inputCol=col, outputCol=col+'_idx').setHandleInvalid('keep')\n",
    "    encoder = OneHotEncoder(inputCols=[col+'_idx'], outputCols=[col+'_onehot'])\n",
    "    cat_stages += [indexer, encoder]"
   ]
  },
  {
   "cell_type": "code",
   "execution_count": 55,
   "id": "93bb76b7-0ed7-4cce-bc7c-82e2f4c01003",
   "metadata": {},
   "outputs": [],
   "source": [
    "# 수치형 변수 정규화 (StandardScaler)\n",
    "from pyspark.ml.feature import StandardScaler, VectorAssembler\n",
    "num_features = [\n",
    "    'Age', 'DailyRate', 'DistanceFromHome', 'Education', 'EnvironmentSatisfaction',\n",
    "    'HourlyRate', 'JobInvolvement', 'JobLevel', 'JobSatisfaction',\n",
    "    'MonthlyIncome', 'MonthlyRate', 'NumCompaniesWorked', 'PercentSalaryHike',\n",
    "    'PerformanceRating', 'RelationshipSatisfaction', 'StockOptionLevel',\n",
    "    'TotalWorkingYears', 'TrainingTimesLastYear', 'WorkLifeBalance',\n",
    "    'YearsAtCompany', 'YearsInCurrentRole', 'YearsSinceLastPromotion', 'YearsWithCurrManager'\n",
    "]\n",
    "\n",
    "num_vector_stages = []\n",
    "for col in num_features:\n",
    "    assembler = VectorAssembler(inputCols=[col], outputCol=col+'_vec')\n",
    "    scaler = StandardScaler(inputCol=col+'_vec', outputCol=col+'_scaled')\n",
    "    num_vector_stages += [assembler, scaler]"
   ]
  },
  {
   "cell_type": "code",
   "execution_count": 56,
   "id": "53beec27-bade-4f6d-bf43-30ac06d8ef9a",
   "metadata": {},
   "outputs": [],
   "source": [
    "# feature 벡터: One-hot + scaled 숫자 합치기\n",
    "assembler_input = [f\"{col}_onehot\" for col in cat_features] + [f\"{col}_scaled\" for col in num_features]\n",
    "assembler = VectorAssembler(inputCols=assembler_input, outputCol='features')"
   ]
  },
  {
   "cell_type": "code",
   "execution_count": 57,
   "id": "f20f744b-4529-413b-978d-56abbbf5c45d",
   "metadata": {},
   "outputs": [],
   "source": [
    "# 파이프라인 생성\n",
    "from pyspark.ml import Pipeline\n",
    "stages = [label_indexer] + cat_stages + num_vector_stages + [assembler]\n",
    "pipeline = Pipeline(stages=stages)"
   ]
  },
  {
   "cell_type": "code",
   "execution_count": 58,
   "id": "b12280c0-c53b-4c1a-a9f0-6089fb45da7f",
   "metadata": {},
   "outputs": [],
   "source": [
    "# train/test 데이터 분할 + 변환\n",
    "train_df, test_df = df.randomSplit([0.8, 0.2], seed=42)\n",
    "fitted_pipeline = pipeline.fit(train_df)\n",
    "\n",
    "vtrain_df = fitted_pipeline.transform(train_df)\n",
    "vtest_df = fitted_pipeline.transform(test_df)"
   ]
  },
  {
   "cell_type": "code",
   "execution_count": 59,
   "id": "0470e060-086c-4147-9b02-0ed88080637b",
   "metadata": {},
   "outputs": [],
   "source": [
    "# 로지스틱 모델 학습\n",
    "from pyspark.ml.classification import LogisticRegression\n",
    "\n",
    "lr = LogisticRegression(featuresCol='features', labelCol='label')\n",
    "model = lr.fit(vtrain_df)"
   ]
  },
  {
   "cell_type": "code",
   "execution_count": 64,
   "id": "52f7c98e-410a-4ae7-a5be-274d2c45c2f1",
   "metadata": {},
   "outputs": [
    {
     "name": "stdout",
     "output_type": "stream",
     "text": [
      "+-----+----------+--------------------+\n",
      "|label|prediction|         probability|\n",
      "+-----+----------+--------------------+\n",
      "|  0.0|       0.0|[0.94870661941285...|\n",
      "|  1.0|       1.0|[0.04299373762790...|\n",
      "|  0.0|       0.0|[0.62934194403841...|\n",
      "|  1.0|       0.0|[0.68632874187752...|\n",
      "|  0.0|       1.0|[0.34984687439081...|\n",
      "+-----+----------+--------------------+\n",
      "only showing top 5 rows\n",
      "\n"
     ]
    }
   ],
   "source": [
    "# 예측\n",
    "pred = model.transform(vtest_df)\n",
    "pred.select('label', 'prediction', 'probability').show(5)"
   ]
  },
  {
   "cell_type": "code",
   "execution_count": 63,
   "id": "98698e51-f1df-4940-974a-b190f613f7eb",
   "metadata": {},
   "outputs": [
    {
     "data": {
      "text/plain": [
       "0.8059542796384893"
      ]
     },
     "execution_count": 63,
     "metadata": {},
     "output_type": "execute_result"
    }
   ],
   "source": [
    "# 평가\n",
    "from pyspark.ml.evaluation import BinaryClassificationEvaluator\n",
    "evaluator = BinaryClassificationEvaluator()\n",
    "evaluator.evaluate(pred)"
   ]
  },
  {
   "cell_type": "code",
   "execution_count": null,
   "id": "546f4872-b6b9-4acb-a5d4-ed83354a2e7b",
   "metadata": {},
   "outputs": [],
   "source": []
  }
 ],
 "metadata": {
  "kernelspec": {
   "display_name": "Python 3 (ipykernel)",
   "language": "python",
   "name": "python3"
  },
  "language_info": {
   "codemirror_mode": {
    "name": "ipython",
    "version": 3
   },
   "file_extension": ".py",
   "mimetype": "text/x-python",
   "name": "python",
   "nbconvert_exporter": "python",
   "pygments_lexer": "ipython3",
   "version": "3.11.6"
  }
 },
 "nbformat": 4,
 "nbformat_minor": 5
}
