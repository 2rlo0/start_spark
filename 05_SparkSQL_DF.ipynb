{
 "cells": [
  {
   "cell_type": "code",
   "execution_count": 31,
   "id": "8608e8ab-6c9d-46bf-bd64-2ea20eb2a18d",
   "metadata": {},
   "outputs": [],
   "source": [
    "from pyspark import SparkConf, SparkContext\n",
    "conf = SparkConf().setMaster(\"local\").setAppName(\"spark_sql_basic2\")\n",
    "sc = SparkContext(conf=conf)"
   ]
  },
  {
   "cell_type": "code",
   "execution_count": 3,
   "id": "3fbafde1-5dcc-45c5-9338-2fb44d493e92",
   "metadata": {},
   "outputs": [],
   "source": [
    "# RDD만을 이용한 데이터 추출"
   ]
  },
  {
   "cell_type": "code",
   "execution_count": 35,
   "id": "4840f5af-c388-4aed-94dc-a64b339f8eae",
   "metadata": {},
   "outputs": [],
   "source": [
    "movies_rdd = sc.parallelize([\n",
    "    (1, (\"어벤져스\", \"마블\")),\n",
    "    (2, (\"슈퍼맨\", \"DC\")),\n",
    "    (3, (\"배트맨\", \"DC\")),\n",
    "    (4, (\"겨울왕국\", \"디즈니\")),\n",
    "    (5, (\"아이언맨\", \"마블\"))\n",
    "])\n",
    "\n",
    "\n",
    "attendances_rdd = sc.parallelize([\n",
    "    (1, (13934592, \"KR\")),\n",
    "    (2, (2182227,\"KR\")),\n",
    "    (3, (4226242, \"KR\")),\n",
    "    (4, (10303058, \"KR\")),\n",
    "    (5, (4300365, \"KR\"))\n",
    "])"
   ]
  },
  {
   "cell_type": "code",
   "execution_count": 36,
   "id": "051376a5-21ac-469a-bca3-ddacb242ff1a",
   "metadata": {},
   "outputs": [],
   "source": [
    "# 마블 영화 중 관객 수가 500만 이상인 영화를 가져오기"
   ]
  },
  {
   "cell_type": "code",
   "execution_count": 37,
   "id": "ff63b6a7-e6c7-4bd1-824a-c1cec1bb69a5",
   "metadata": {},
   "outputs": [
    {
     "data": {
      "text/plain": [
       "[(2, (('슈퍼맨', 'DC'), (2182227, 'KR'))),\n",
       " (4, (('겨울왕국', '디즈니'), (10303058, 'KR'))),\n",
       " (1, (('어벤져스', '마블'), (13934592, 'KR'))),\n",
       " (3, (('배트맨', 'DC'), (4226242, 'KR'))),\n",
       " (5, (('아이언맨', '마블'), (4300365, 'KR')))]"
      ]
     },
     "execution_count": 37,
     "metadata": {},
     "output_type": "execute_result"
    }
   ],
   "source": [
    "# CASE1. join 먼저, filter 나중에\n",
    "movie_att = movies_rdd.join(attendances_rdd)\n",
    "movie_att.take(5)"
   ]
  },
  {
   "cell_type": "code",
   "execution_count": 38,
   "id": "79448be8-24c9-4964-a2e9-02f038cb7fde",
   "metadata": {},
   "outputs": [
    {
     "data": {
      "text/plain": [
       "[(1, (('어벤져스', '마블'), (13934592, 'KR')))]"
      ]
     },
     "execution_count": 38,
     "metadata": {},
     "output_type": "execute_result"
    }
   ],
   "source": [
    "movie_att.filter(\n",
    "    lambda x : x[1][0][1] == \"마블\" and x[1][1][0] > 5000000\n",
    ").collect()"
   ]
  },
  {
   "cell_type": "code",
   "execution_count": 39,
   "id": "30457831-714f-41a3-b25b-8d78d9df9b60",
   "metadata": {},
   "outputs": [
    {
     "data": {
      "text/plain": [
       "[(1, (('어벤져스', '마블'), (13934592, 'KR')))]"
      ]
     },
     "execution_count": 39,
     "metadata": {},
     "output_type": "execute_result"
    }
   ],
   "source": [
    "# CASE 2. filter 먼저, join 나중에\n",
    "filtered_movies = movies_rdd.filter(lambda x : x[1][1] == '마블')\n",
    "filtered_att = attendances_rdd.filter(lambda x : x[1][0] > 5000000)\n",
    "\n",
    "filtered_movies.join(filtered_att).collect()"
   ]
  },
  {
   "cell_type": "code",
   "execution_count": 40,
   "id": "0cd176f2-ff20-47ba-8235-b444d1feb060",
   "metadata": {},
   "outputs": [],
   "source": [
    "sc.stop()"
   ]
  },
  {
   "cell_type": "code",
   "execution_count": null,
   "id": "5672b9d6-ccfc-40eb-82a8-ef914c996df7",
   "metadata": {},
   "outputs": [],
   "source": []
  },
  {
   "cell_type": "code",
   "execution_count": 41,
   "id": "4d22e444-5acb-4a44-8bd6-ea17b353f300",
   "metadata": {},
   "outputs": [],
   "source": [
    "# Spark SQL 사용해 보기"
   ]
  },
  {
   "cell_type": "code",
   "execution_count": 42,
   "id": "e076dd9d-ad5b-4bc8-bade-2cbb58ffe59c",
   "metadata": {},
   "outputs": [],
   "source": [
    "from pyspark.sql import SparkSession # sql 쓰려면 sparksession이 필요\n",
    "spark = SparkSession.builder.master(\"local\").appName(\"spark-sql\").getOrCreate()"
   ]
  },
  {
   "cell_type": "code",
   "execution_count": 43,
   "id": "54e29a8b-a040-46f8-9e75-ce77f3b558bd",
   "metadata": {},
   "outputs": [],
   "source": [
    "# 컬럼 추가\n",
    "movies = [\n",
    "    (1, \"어벤져스\", \"마블\", 2012, 4, 26),\n",
    "    (2, \"슈퍼맨\", \"DC\", 2013, 6, 13),\n",
    "    (3, \"배트맨\", \"DC\", 2008, 8, 6),\n",
    "    (4, \"겨울왕국\", \"디즈니\", 2014, 1, 16),\n",
    "    (5, \"아이언맨\", \"마블\", 2008, 4, 30)\n",
    "]"
   ]
  },
  {
   "cell_type": "code",
   "execution_count": 44,
   "id": "8aa90136-ec98-4510-a0ef-8824de08ec0b",
   "metadata": {},
   "outputs": [],
   "source": [
    "#스키마(헤더)를 알아야 한다.\n",
    "movie_schema = [\"id\", \"name\", \"company\", \"year\", \"month\", \"day\"]"
   ]
  },
  {
   "cell_type": "code",
   "execution_count": 45,
   "id": "60e6f70d-d1d6-468a-98fc-8166fc5da4c4",
   "metadata": {},
   "outputs": [],
   "source": [
    "# 2. 데이터 프레임 만들기"
   ]
  },
  {
   "cell_type": "code",
   "execution_count": 46,
   "id": "05574741-453b-443d-8924-fce49e049036",
   "metadata": {},
   "outputs": [],
   "source": [
    "df = spark.createDataFrame(data=movies, schema=movie_schema)"
   ]
  },
  {
   "cell_type": "code",
   "execution_count": 47,
   "id": "489e4a91-09fb-44f3-93a5-19c55c7db1ad",
   "metadata": {},
   "outputs": [
    {
     "data": {
      "text/plain": [
       "['id', 'name', 'company', 'year', 'month', 'day']"
      ]
     },
     "execution_count": 47,
     "metadata": {},
     "output_type": "execute_result"
    }
   ],
   "source": [
    "df.columns"
   ]
  },
  {
   "cell_type": "code",
   "execution_count": 48,
   "id": "0bc42ed5-5ac1-4c5b-9955-f1a9a619cae8",
   "metadata": {},
   "outputs": [
    {
     "data": {
      "text/plain": [
       "[('id', 'bigint'),\n",
       " ('name', 'string'),\n",
       " ('company', 'string'),\n",
       " ('year', 'bigint'),\n",
       " ('month', 'bigint'),\n",
       " ('day', 'bigint')]"
      ]
     },
     "execution_count": 48,
     "metadata": {},
     "output_type": "execute_result"
    }
   ],
   "source": [
    "df.dtypes"
   ]
  },
  {
   "cell_type": "code",
   "execution_count": 49,
   "id": "26a4cb2b-8d79-4b7f-b10a-613a75e77ef2",
   "metadata": {},
   "outputs": [
    {
     "name": "stdout",
     "output_type": "stream",
     "text": [
      "+---+--------+-------+----+-----+---+\n",
      "| id|    name|company|year|month|day|\n",
      "+---+--------+-------+----+-----+---+\n",
      "|  1|어벤져스|   마블|2012|    4| 26|\n",
      "|  2|  슈퍼맨|     DC|2013|    6| 13|\n",
      "|  3|  배트맨|     DC|2008|    8|  6|\n",
      "+---+--------+-------+----+-----+---+\n",
      "only showing top 3 rows\n",
      "\n"
     ]
    }
   ],
   "source": [
    "df.show(3)"
   ]
  },
  {
   "cell_type": "code",
   "execution_count": 50,
   "id": "bd6ac8fe-090e-4fc0-8129-094c788e58a3",
   "metadata": {},
   "outputs": [
    {
     "name": "stdout",
     "output_type": "stream",
     "text": [
      "+--------+\n",
      "|    name|\n",
      "+--------+\n",
      "|어벤져스|\n",
      "|  슈퍼맨|\n",
      "|  배트맨|\n",
      "|겨울왕국|\n",
      "|아이언맨|\n",
      "+--------+\n",
      "\n"
     ]
    }
   ],
   "source": [
    "df.select(\"name\").show()"
   ]
  },
  {
   "cell_type": "code",
   "execution_count": 51,
   "id": "a51c3e29-0a72-43fc-967a-ce539a76160c",
   "metadata": {},
   "outputs": [
    {
     "name": "stdout",
     "output_type": "stream",
     "text": [
      "+---+--------+-------+----+-----+---+\n",
      "| id|    name|company|year|month|day|\n",
      "+---+--------+-------+----+-----+---+\n",
      "|  1|어벤져스|   마블|2012|    4| 26|\n",
      "|  2|  슈퍼맨|     DC|2013|    6| 13|\n",
      "|  4|겨울왕국| 디즈니|2014|    1| 16|\n",
      "+---+--------+-------+----+-----+---+\n",
      "\n"
     ]
    }
   ],
   "source": [
    "df.filter(df.year >= 2010).show()"
   ]
  },
  {
   "cell_type": "code",
   "execution_count": 52,
   "id": "8183239a-0387-4f00-9dc9-432fe9e1d085",
   "metadata": {},
   "outputs": [
    {
     "name": "stdout",
     "output_type": "stream",
     "text": [
      "+---+\n",
      "|day|\n",
      "+---+\n",
      "| 26|\n",
      "| 13|\n",
      "|  6|\n",
      "| 16|\n",
      "| 30|\n",
      "+---+\n",
      "\n"
     ]
    }
   ],
   "source": [
    "df.select('day').show()"
   ]
  },
  {
   "cell_type": "code",
   "execution_count": 53,
   "id": "87cc6663-3086-419e-af89-232ed38950d4",
   "metadata": {},
   "outputs": [
    {
     "name": "stdout",
     "output_type": "stream",
     "text": [
      "+----+-----+---+\n",
      "|year|month|day|\n",
      "+----+-----+---+\n",
      "|2012|    4| 26|\n",
      "|2013|    6| 13|\n",
      "|2008|    8|  6|\n",
      "|2014|    1| 16|\n",
      "|2008|    4| 30|\n",
      "+----+-----+---+\n",
      "\n"
     ]
    }
   ],
   "source": [
    "df.select(['year','month','day']).show()  # 년, 월, 일"
   ]
  },
  {
   "cell_type": "code",
   "execution_count": 54,
   "id": "4a3bfcfa-33d3-4789-9535-d05f184664d1",
   "metadata": {},
   "outputs": [
    {
     "name": "stdout",
     "output_type": "stream",
     "text": [
      "+---+--------+-------+----+-----+---+\n",
      "| id|    name|company|year|month|day|\n",
      "+---+--------+-------+----+-----+---+\n",
      "|  4|겨울왕국| 디즈니|2014|    1| 16|\n",
      "+---+--------+-------+----+-----+---+\n",
      "\n"
     ]
    }
   ],
   "source": [
    "# 2013년 이후 영화\n",
    "df.filter(df.year > 2013).show()"
   ]
  },
  {
   "cell_type": "code",
   "execution_count": 55,
   "id": "55bb5f35-ce0b-4afe-9fcd-2bfd85a2d568",
   "metadata": {},
   "outputs": [
    {
     "name": "stdout",
     "output_type": "stream",
     "text": [
      "+---+--------+-------+----+-----+---+\n",
      "| id|    name|company|year|month|day|\n",
      "+---+--------+-------+----+-----+---+\n",
      "|  1|어벤져스|   마블|2012|    4| 26|\n",
      "|  2|  슈퍼맨|     DC|2013|    6| 13|\n",
      "|  3|  배트맨|     DC|2008|    8|  6|\n",
      "|  5|아이언맨|   마블|2008|    4| 30|\n",
      "+---+--------+-------+----+-----+---+\n",
      "\n"
     ]
    }
   ],
   "source": [
    "# 마블 영화, DC 같이 꺼내기\n",
    "df.filter(df.company.isin(['마블', 'DC'])).show()"
   ]
  },
  {
   "cell_type": "code",
   "execution_count": 56,
   "id": "7fcff961-8c1a-4839-8a6b-37fda4970d36",
   "metadata": {},
   "outputs": [],
   "source": [
    "df.createOrReplaceTempView(\"movies\") # 가상의 테이블 뷰 movies 생성"
   ]
  },
  {
   "cell_type": "code",
   "execution_count": 57,
   "id": "00535068-03e5-4f27-bd34-f450e5a305b8",
   "metadata": {},
   "outputs": [
    {
     "name": "stdout",
     "output_type": "stream",
     "text": [
      "+--------+\n",
      "|    name|\n",
      "+--------+\n",
      "|어벤져스|\n",
      "|  슈퍼맨|\n",
      "|  배트맨|\n",
      "|겨울왕국|\n",
      "|아이언맨|\n",
      "+--------+\n",
      "\n"
     ]
    }
   ],
   "source": [
    "# 영화 이름만 가져오기\n",
    "\n",
    "query = \"\"\"\n",
    "\n",
    "SELECT name\n",
    "  FROM movies\n",
    "\n",
    "\"\"\"\n",
    "spark.sql(query).show()"
   ]
  },
  {
   "cell_type": "code",
   "execution_count": 67,
   "id": "7685b8c4-84d9-4cdf-b8d8-0413169d025a",
   "metadata": {},
   "outputs": [
    {
     "name": "stdout",
     "output_type": "stream",
     "text": [
      "+--------+----+\n",
      "|    name|year|\n",
      "+--------+----+\n",
      "|어벤져스|2012|\n",
      "|  슈퍼맨|2013|\n",
      "|겨울왕국|2014|\n",
      "+--------+----+\n",
      "\n"
     ]
    }
   ],
   "source": [
    "# 2010년 이후에 개봉한 영화를 조회\n",
    "\n",
    "query = \"\"\"\n",
    "SELECT name, year\n",
    "    FROM movies\n",
    "WHERE year > 2010\n",
    "\n",
    "\"\"\"\n",
    "spark.sql(query).show()"
   ]
  },
  {
   "cell_type": "code",
   "execution_count": 68,
   "id": "3896b545-66de-424c-a6a3-dd5116772af6",
   "metadata": {},
   "outputs": [
    {
     "name": "stdout",
     "output_type": "stream",
     "text": [
      "+--------+-------+\n",
      "|    name|company|\n",
      "+--------+-------+\n",
      "|  배트맨|     DC|\n",
      "|아이언맨|   마블|\n",
      "+--------+-------+\n",
      "\n"
     ]
    }
   ],
   "source": [
    "# 2012년도 이전에 개봉한 영화의 이름과 회사를 출력\n",
    "query = \"\"\"\n",
    "\n",
    "SELECT name, company\n",
    "    FROM movies\n",
    "WHERE year < 2012\n",
    "\n",
    "\"\"\"\n",
    "spark.sql(query).show()"
   ]
  },
  {
   "cell_type": "code",
   "execution_count": null,
   "id": "7670ff0d-8da8-4e74-a035-93c64083bda0",
   "metadata": {},
   "outputs": [],
   "source": []
  },
  {
   "cell_type": "code",
   "execution_count": 63,
   "id": "eba92f64-f179-44db-b0ce-ee4ab68eed4e",
   "metadata": {},
   "outputs": [
    {
     "name": "stdout",
     "output_type": "stream",
     "text": [
      "+---+--------+-------+----+-----+---+\n",
      "| id|    name|company|year|month|day|\n",
      "+---+--------+-------+----+-----+---+\n",
      "|  2|  슈퍼맨|     DC|2013|    6| 13|\n",
      "|  3|  배트맨|     DC|2008|    8|  6|\n",
      "|  5|아이언맨|   마블|2008|    4| 30|\n",
      "+---+--------+-------+----+-----+---+\n",
      "\n"
     ]
    }
   ],
   "source": [
    "# like 문자열 데이터에서 특정 단어나 문장을 포함한 데이터를 찾을 때\n",
    "# % 기호를 사용해서 문장이 매칭되는지 확인 가능!\n",
    "# 제목이 ~~맨으로 끝나는 데이터의 모든 정보를 조회\n",
    "query = \"\"\"\n",
    "select *\n",
    "from movies\n",
    "where name LIKE '%맨'\n",
    "\n",
    "\"\"\"\n",
    "spark.sql(query).show()"
   ]
  },
  {
   "cell_type": "code",
   "execution_count": 23,
   "id": "9c3ca9ad-b72d-4d8c-b363-b8e9611857d6",
   "metadata": {},
   "outputs": [
    {
     "data": {
      "text/plain": [
       "DataFrame[id: bigint, name: string, company: string, year: bigint, month: bigint, day: bigint]"
      ]
     },
     "execution_count": 23,
     "metadata": {},
     "output_type": "execute_result"
    }
   ],
   "source": [
    "df"
   ]
  },
  {
   "cell_type": "code",
   "execution_count": 64,
   "id": "a984dd41-c93c-44ee-9a11-cbedc11a889a",
   "metadata": {},
   "outputs": [
    {
     "name": "stdout",
     "output_type": "stream",
     "text": [
      "+---+--------+-------+----+-----+---+\n",
      "| id|    name|company|year|month|day|\n",
      "+---+--------+-------+----+-----+---+\n",
      "|  1|어벤져스|   마블|2012|    4| 26|\n",
      "|  2|  슈퍼맨|     DC|2013|    6| 13|\n",
      "|  3|  배트맨|     DC|2008|    8|  6|\n",
      "|  5|아이언맨|   마블|2008|    4| 30|\n",
      "+---+--------+-------+----+-----+---+\n",
      "\n"
     ]
    }
   ],
   "source": [
    "# BETWEEN 특정 데이터와 데이터 사이를 조회\n",
    "# 개봉 월이 4 ~ 8월 사이. 4 <= 개봉월 <= 8\n",
    "query = \"\"\"\n",
    "select *\n",
    "from movies\n",
    "where month BETWEEN 4 AND 8\n",
    "\"\"\"\n",
    "spark.sql(query).show()"
   ]
  },
  {
   "cell_type": "code",
   "execution_count": null,
   "id": "c262dff1-325d-446e-90c1-f894c25c35fb",
   "metadata": {},
   "outputs": [],
   "source": []
  },
  {
   "cell_type": "code",
   "execution_count": null,
   "id": "9d5044aa-12cb-4af6-9c9f-059bcc1bcbda",
   "metadata": {},
   "outputs": [],
   "source": []
  },
  {
   "cell_type": "code",
   "execution_count": null,
   "id": "2a27a12c-3d14-4532-bbc4-b4591d6547b3",
   "metadata": {},
   "outputs": [],
   "source": [
    "# Join 구현하기"
   ]
  },
  {
   "cell_type": "code",
   "execution_count": 69,
   "id": "1be714ef-6cee-4644-84c7-1be18e346f03",
   "metadata": {},
   "outputs": [],
   "source": [
    "attendances = [\n",
    "    (1, 13934592., \"KR\"),\n",
    "    (2, 2182227.,\"KR\"),\n",
    "    (3, 4226242., \"KR\"),\n",
    "    (4, 10303058., \"KR\"),\n",
    "    (5, 4300365., \"KR\")\n",
    "]"
   ]
  },
  {
   "cell_type": "code",
   "execution_count": 70,
   "id": "899fe322-9d39-40f0-90e5-defe7b152696",
   "metadata": {},
   "outputs": [],
   "source": [
    "# 직접 스키마 지정해 보기\n",
    "from pyspark.sql.types import StringType, FloatType\\\n",
    "    , IntegerType\\\n",
    "    , StructType, StructField"
   ]
  },
  {
   "cell_type": "code",
   "execution_count": 71,
   "id": "e35850cc-6c6a-4a88-a12a-ba591fc10e36",
   "metadata": {},
   "outputs": [],
   "source": [
    "# StructType 구조체 만들기\n",
    "att_schema = StructType([ # 모든 컬럼의 타입을 통칭 - 컬럼 데이터의 집합\n",
    "    StructField(\"id\", IntegerType(), True), # StructField : 컬럼\n",
    "    StructField(\"att\", FloatType(), True),\n",
    "    StructField(\"theater_country\", StringType(), True)\n",
    "])"
   ]
  },
  {
   "cell_type": "code",
   "execution_count": 72,
   "id": "8b19ef48-575b-4c7c-8c85-a9a1ca8a672a",
   "metadata": {},
   "outputs": [
    {
     "data": {
      "text/plain": [
       "[('id', 'int'), ('att', 'float'), ('theater_country', 'string')]"
      ]
     },
     "execution_count": 72,
     "metadata": {},
     "output_type": "execute_result"
    }
   ],
   "source": [
    "att_df = spark.createDataFrame(\n",
    "    data=attendances,\n",
    "    schema=att_schema\n",
    ")\n",
    "\n",
    "att_df.dtypes"
   ]
  },
  {
   "cell_type": "code",
   "execution_count": 73,
   "id": "db5ade80-a518-4358-bdf4-f09c7d7c5276",
   "metadata": {},
   "outputs": [],
   "source": [
    "att_df.createOrReplaceTempView(\"att\")"
   ]
  },
  {
   "cell_type": "code",
   "execution_count": 74,
   "id": "09e0878c-99cc-4789-b9c5-a588240836db",
   "metadata": {},
   "outputs": [
    {
     "name": "stdout",
     "output_type": "stream",
     "text": [
      "+---+-----------+---------------+\n",
      "| id|        att|theater_country|\n",
      "+---+-----------+---------------+\n",
      "|  1|1.3934592E7|             KR|\n",
      "|  2|  2182227.0|             KR|\n",
      "|  3|  4226242.0|             KR|\n",
      "|  4|1.0303058E7|             KR|\n",
      "|  5|  4300365.0|             KR|\n",
      "+---+-----------+---------------+\n",
      "\n"
     ]
    }
   ],
   "source": [
    "att_df.select('*').show()"
   ]
  },
  {
   "cell_type": "code",
   "execution_count": 75,
   "id": "d948a432-e856-4674-a21d-eb2395c378fc",
   "metadata": {},
   "outputs": [
    {
     "name": "stdout",
     "output_type": "stream",
     "text": [
      "+---+--------+-------+-----------+\n",
      "| id|    name|company|        att|\n",
      "+---+--------+-------+-----------+\n",
      "|  1|어벤져스|   마블|1.3934592E7|\n",
      "|  2|  슈퍼맨|     DC|  2182227.0|\n",
      "|  3|  배트맨|     DC|  4226242.0|\n",
      "|  4|겨울왕국| 디즈니|1.0303058E7|\n",
      "|  5|아이언맨|   마블|  4300365.0|\n",
      "+---+--------+-------+-----------+\n",
      "\n"
     ]
    }
   ],
   "source": [
    "# df와 join\n",
    "query = '''\n",
    "select movies.id, movies.name, movies.company, att.att\n",
    "from movies\n",
    "join att ON movies.id = att.id\n",
    "'''\n",
    "spark.sql(query).show()"
   ]
  },
  {
   "cell_type": "code",
   "execution_count": null,
   "id": "0c0ab1d4-6d9e-4626-84fa-486e0558185d",
   "metadata": {},
   "outputs": [],
   "source": []
  },
  {
   "cell_type": "code",
   "execution_count": 76,
   "id": "e768716e-c373-4f55-a81f-3013a837ff4b",
   "metadata": {},
   "outputs": [],
   "source": [
    "# SQL_최적화"
   ]
  },
  {
   "cell_type": "code",
   "execution_count": 1,
   "id": "74f5e7bc-39b9-4bad-9436-8ac4b5c669d6",
   "metadata": {},
   "outputs": [],
   "source": [
    "from pyspark.sql import SparkSession\n",
    "\n",
    "spark = SparkSession.builder\\\n",
    "    .appName(\"trip_count_sql\")\\\n",
    "    .getOrCreate()"
   ]
  },
  {
   "cell_type": "code",
   "execution_count": 2,
   "id": "e409b157-9474-4ccf-bcc9-084634fe8092",
   "metadata": {},
   "outputs": [],
   "source": [
    "trip_file = \"learning_spark_data/fhvhv_tripdata_2020-03.csv\""
   ]
  },
  {
   "cell_type": "code",
   "execution_count": 3,
   "id": "892ec05c-ff0a-432b-9e13-5c01831a8591",
   "metadata": {},
   "outputs": [
    {
     "name": "stdout",
     "output_type": "stream",
     "text": [
      "+-----------------+--------------------+-------------------+-------------------+------------+------------+-------+\n",
      "|hvfhs_license_num|dispatching_base_num|    pickup_datetime|   dropoff_datetime|PULocationID|DOLocationID|SR_Flag|\n",
      "+-----------------+--------------------+-------------------+-------------------+------------+------------+-------+\n",
      "|           HV0005|              B02510|2020-03-01 00:03:40|2020-03-01 00:23:39|          81|         159|   NULL|\n",
      "|           HV0005|              B02510|2020-03-01 00:28:05|2020-03-01 00:38:57|         168|         119|   NULL|\n",
      "|           HV0003|              B02764|2020-03-01 00:03:07|2020-03-01 00:15:04|         137|         209|      1|\n",
      "+-----------------+--------------------+-------------------+-------------------+------------+------------+-------+\n",
      "only showing top 3 rows\n",
      "\n"
     ]
    }
   ],
   "source": [
    "# inferSchema : 자동으로 스키마 예측하게 하기\n",
    "data = spark.read.csv(trip_file, inferSchema=True, header=True)\n",
    "data.show(3)"
   ]
  },
  {
   "cell_type": "code",
   "execution_count": 4,
   "id": "677dc42a-dd5e-4567-b5a0-efef6e19faee",
   "metadata": {},
   "outputs": [],
   "source": [
    "data.createOrReplaceTempView(\"mobility_data\")"
   ]
  },
  {
   "cell_type": "code",
   "execution_count": 5,
   "id": "e18c16ab-3d8f-4c37-b4bf-ddb7a4c0ec86",
   "metadata": {},
   "outputs": [
    {
     "name": "stdout",
     "output_type": "stream",
     "text": [
      "+-----------------+--------------------+-------------------+-------------------+------------+------------+-------+\n",
      "|hvfhs_license_num|dispatching_base_num|    pickup_datetime|   dropoff_datetime|PULocationID|DOLocationID|SR_Flag|\n",
      "+-----------------+--------------------+-------------------+-------------------+------------+------------+-------+\n",
      "|           HV0005|              B02510|2020-03-01 00:03:40|2020-03-01 00:23:39|          81|         159|   NULL|\n",
      "|           HV0005|              B02510|2020-03-01 00:28:05|2020-03-01 00:38:57|         168|         119|   NULL|\n",
      "|           HV0003|              B02764|2020-03-01 00:03:07|2020-03-01 00:15:04|         137|         209|      1|\n",
      "|           HV0003|              B02764|2020-03-01 00:18:42|2020-03-01 00:38:42|         209|          80|   NULL|\n",
      "|           HV0003|              B02764|2020-03-01 00:44:24|2020-03-01 00:58:44|         256|         226|   NULL|\n",
      "+-----------------+--------------------+-------------------+-------------------+------------+------------+-------+\n",
      "\n"
     ]
    }
   ],
   "source": [
    "query = \"\"\"\n",
    "select *\n",
    "from mobility_data\n",
    "limit 5\n",
    "\"\"\"\n",
    "spark.sql(query).show()"
   ]
  },
  {
   "cell_type": "code",
   "execution_count": null,
   "id": "16b1daa3-f8bc-4b8f-83b0-996b61686403",
   "metadata": {},
   "outputs": [],
   "source": []
  },
  {
   "cell_type": "code",
   "execution_count": 6,
   "id": "19977a6b-1c88-44a3-baf2-90c564df142a",
   "metadata": {},
   "outputs": [],
   "source": [
    "# 스파크 SQL을 사용하는 이유"
   ]
  },
  {
   "cell_type": "code",
   "execution_count": 7,
   "id": "02031057-5260-4dbd-a3f3-5d20a0727e46",
   "metadata": {},
   "outputs": [
    {
     "name": "stdout",
     "output_type": "stream",
     "text": [
      "+-----------+------+\n",
      "|pickup_date| trips|\n",
      "+-----------+------+\n",
      "| 2020-03-03|697880|\n",
      "| 2020-03-02|648986|\n",
      "| 2020-03-01|784246|\n",
      "| 2020-03-06|872012|\n",
      "| 2020-03-05|731165|\n",
      "| 2020-03-04|707879|\n",
      "| 2020-03-09|628940|\n",
      "| 2020-03-08|731222|\n",
      "| 2020-03-07|886071|\n",
      "| 2020-03-10|626474|\n",
      "| 2020-03-12|643257|\n",
      "| 2020-03-11|628601|\n",
      "| 2020-03-16|391518|\n",
      "| 2020-03-13|660914|\n",
      "| 2020-03-15|448125|\n",
      "| 2020-03-14|569397|\n",
      "| 2020-03-26|141607|\n",
      "| 2020-03-25|141088|\n",
      "| 2020-03-20|261900|\n",
      "| 2020-03-24|141686|\n",
      "+-----------+------+\n",
      "only showing top 20 rows\n",
      "\n"
     ]
    }
   ],
   "source": [
    "query = \"\"\"\n",
    "\n",
    "select split(pickup_datetime, ' ')[0] as pickup_date, count(*) as trips\n",
    "from mobility_data\n",
    "\n",
    "group by pickup_date\n",
    "\"\"\"\n",
    "\n",
    "spark.sql(query).show()"
   ]
  },
  {
   "cell_type": "code",
   "execution_count": 8,
   "id": "14f0aa83-cccf-4f59-8f43-8d53ab37fa22",
   "metadata": {},
   "outputs": [
    {
     "name": "stdout",
     "output_type": "stream",
     "text": [
      "== Parsed Logical Plan ==\n",
      "'Aggregate ['pickup_date], ['split('pickup_datetime,  )[0] AS pickup_date#129, 'count(1) AS trips#130]\n",
      "+- 'UnresolvedRelation [mobility_data], [], false\n",
      "\n",
      "== Analyzed Logical Plan ==\n",
      "pickup_date: string, trips: bigint\n",
      "Aggregate [split(cast(pickup_datetime#19 as string),  , -1)[0]], [split(cast(pickup_datetime#19 as string),  , -1)[0] AS pickup_date#129, count(1) AS trips#130L]\n",
      "+- SubqueryAlias mobility_data\n",
      "   +- View (`mobility_data`, [hvfhs_license_num#17,dispatching_base_num#18,pickup_datetime#19,dropoff_datetime#20,PULocationID#21,DOLocationID#22,SR_Flag#23])\n",
      "      +- Relation [hvfhs_license_num#17,dispatching_base_num#18,pickup_datetime#19,dropoff_datetime#20,PULocationID#21,DOLocationID#22,SR_Flag#23] csv\n",
      "\n",
      "== Optimized Logical Plan ==\n",
      "Aggregate [_groupingexpression#134], [_groupingexpression#134 AS pickup_date#129, count(1) AS trips#130L]\n",
      "+- Project [split(cast(pickup_datetime#19 as string),  , -1)[0] AS _groupingexpression#134]\n",
      "   +- Relation [hvfhs_license_num#17,dispatching_base_num#18,pickup_datetime#19,dropoff_datetime#20,PULocationID#21,DOLocationID#22,SR_Flag#23] csv\n",
      "\n",
      "== Physical Plan ==\n",
      "AdaptiveSparkPlan isFinalPlan=false\n",
      "+- HashAggregate(keys=[_groupingexpression#134], functions=[count(1)], output=[pickup_date#129, trips#130L])\n",
      "   +- Exchange hashpartitioning(_groupingexpression#134, 200), ENSURE_REQUIREMENTS, [plan_id=111]\n",
      "      +- HashAggregate(keys=[_groupingexpression#134], functions=[partial_count(1)], output=[_groupingexpression#134, count#136L])\n",
      "         +- Project [split(cast(pickup_datetime#19 as string),  , -1)[0] AS _groupingexpression#134]\n",
      "            +- FileScan csv [pickup_datetime#19] Batched: false, DataFilters: [], Format: CSV, Location: InMemoryFileIndex(1 paths)[file:/home/jovyan/work/learning_spark_data/fhvhv_tripdata_2020-03.csv], PartitionFilters: [], PushedFilters: [], ReadSchema: struct<pickup_datetime:timestamp>\n",
      "\n"
     ]
    }
   ],
   "source": [
    "# 실행 계획 살펴보기\n",
    "spark.sql(query).explain(True)"
   ]
  },
  {
   "cell_type": "code",
   "execution_count": null,
   "id": "35083911-65f3-457e-a4ac-82971f3268ac",
   "metadata": {},
   "outputs": [],
   "source": []
  },
  {
   "cell_type": "code",
   "execution_count": 9,
   "id": "85c4c6bf-4a38-4e48-8efa-aa0d134c0ebe",
   "metadata": {},
   "outputs": [
    {
     "name": "stdout",
     "output_type": "stream",
     "text": [
      "== Parsed Logical Plan ==\n",
      "'Aggregate ['pickup_date], ['pickup_date, 'count(1) AS trips#138]\n",
      "+- 'SubqueryAlias __auto_generated_subquery_name\n",
      "   +- 'Project ['split('pickup_datetime,  )[0] AS pickup_date#137]\n",
      "      +- 'UnresolvedRelation [mobility_data], [], false\n",
      "\n",
      "== Analyzed Logical Plan ==\n",
      "pickup_date: string, trips: bigint\n",
      "Aggregate [pickup_date#137], [pickup_date#137, count(1) AS trips#138L]\n",
      "+- SubqueryAlias __auto_generated_subquery_name\n",
      "   +- Project [split(cast(pickup_datetime#19 as string),  , -1)[0] AS pickup_date#137]\n",
      "      +- SubqueryAlias mobility_data\n",
      "         +- View (`mobility_data`, [hvfhs_license_num#17,dispatching_base_num#18,pickup_datetime#19,dropoff_datetime#20,PULocationID#21,DOLocationID#22,SR_Flag#23])\n",
      "            +- Relation [hvfhs_license_num#17,dispatching_base_num#18,pickup_datetime#19,dropoff_datetime#20,PULocationID#21,DOLocationID#22,SR_Flag#23] csv\n",
      "\n",
      "== Optimized Logical Plan ==\n",
      "Aggregate [pickup_date#137], [pickup_date#137, count(1) AS trips#138L]\n",
      "+- Project [split(cast(pickup_datetime#19 as string),  , -1)[0] AS pickup_date#137]\n",
      "   +- Relation [hvfhs_license_num#17,dispatching_base_num#18,pickup_datetime#19,dropoff_datetime#20,PULocationID#21,DOLocationID#22,SR_Flag#23] csv\n",
      "\n",
      "== Physical Plan ==\n",
      "AdaptiveSparkPlan isFinalPlan=false\n",
      "+- HashAggregate(keys=[pickup_date#137], functions=[count(1)], output=[pickup_date#137, trips#138L])\n",
      "   +- Exchange hashpartitioning(pickup_date#137, 200), ENSURE_REQUIREMENTS, [plan_id=126]\n",
      "      +- HashAggregate(keys=[pickup_date#137], functions=[partial_count(1)], output=[pickup_date#137, count#143L])\n",
      "         +- Project [split(cast(pickup_datetime#19 as string),  , -1)[0] AS pickup_date#137]\n",
      "            +- FileScan csv [pickup_datetime#19] Batched: false, DataFilters: [], Format: CSV, Location: InMemoryFileIndex(1 paths)[file:/home/jovyan/work/learning_spark_data/fhvhv_tripdata_2020-03.csv], PartitionFilters: [], PushedFilters: [], ReadSchema: struct<pickup_datetime:timestamp>\n",
      "\n"
     ]
    }
   ],
   "source": [
    "# 두번째 쿼리\n",
    "spark.sql(\"\"\"select \n",
    "                pickup_date, \n",
    "                count(*) as trips\n",
    "             from ( select\n",
    "                          split(pickup_datetime, ' ')[0] as pickup_date\n",
    "                          from mobility_data )\n",
    "             group by pickup_date\"\"\").explain(True)"
   ]
  },
  {
   "cell_type": "code",
   "execution_count": 10,
   "id": "42a0798d-0294-46d6-beb9-d5b34022d7d4",
   "metadata": {},
   "outputs": [],
   "source": [
    "spark.stop()"
   ]
  },
  {
   "cell_type": "code",
   "execution_count": null,
   "id": "0f179ed9-3971-400e-af34-f6f783e68b2a",
   "metadata": {},
   "outputs": [],
   "source": []
  },
  {
   "cell_type": "code",
   "execution_count": 12,
   "id": "cc2308ae-b730-429d-9c11-ae92c10c657e",
   "metadata": {},
   "outputs": [],
   "source": [
    "from pyspark.sql import SparkSession\n",
    "\n",
    "spark = SparkSession.builder.appName(\"trip_count_sql\").getOrCreate()"
   ]
  },
  {
   "cell_type": "code",
   "execution_count": null,
   "id": "8dce1613-297d-4736-ba71-ca69252701f9",
   "metadata": {},
   "outputs": [],
   "source": [
    "trip_file = \"fhvhv_tripdata_2020-03.csv\"\n",
    "zone_file = \"taxi+_zone_lookup.csv\""
   ]
  },
  {
   "cell_type": "code",
   "execution_count": 16,
   "id": "72ba23a1-3466-47d1-af89-0ebe7bf7e6b9",
   "metadata": {},
   "outputs": [],
   "source": [
    "# 운행 데이터 프레임 생성, Zone 데이터 프레임 생성\n",
    "trip_data = spark.read.format(\"csv\")\\\n",
    "    .option('header','true')\\\n",
    "    .option('inferSchema', 'true')\\\n",
    "    .load('learning_spark_data/fhvhv_tripdata_2020-03.csv')\n",
    "\n",
    "zone_data = spark.read.format(\"csv\")\\\n",
    "    .option('header','true')\\\n",
    "    .option('inferSchema','true')\\\n",
    "    .load('learning_spark_data/taxi+_zone_lookup.csv')"
   ]
  },
  {
   "cell_type": "code",
   "execution_count": 23,
   "id": "049ec453-5af0-45cd-9903-0bad2f53593c",
   "metadata": {},
   "outputs": [
    {
     "name": "stdout",
     "output_type": "stream",
     "text": [
      "root\n",
      " |-- hvfhs_license_num: string (nullable = true)\n",
      " |-- dispatching_base_num: string (nullable = true)\n",
      " |-- pickup_datetime: timestamp (nullable = true)\n",
      " |-- dropoff_datetime: timestamp (nullable = true)\n",
      " |-- PULocationID: integer (nullable = true)\n",
      " |-- DOLocationID: integer (nullable = true)\n",
      " |-- SR_Flag: integer (nullable = true)\n",
      "\n"
     ]
    }
   ],
   "source": [
    "trip_data.printSchema()\n",
    "# 각 운행에 대한 상세 정보\n",
    "# 운송사업자 ID, 배차 지점 ID, 승차 시각, 하차 시각, 승차 지역 ID, 하차 지역 ID, 공유 운행 여부"
   ]
  },
  {
   "cell_type": "code",
   "execution_count": 24,
   "id": "29ef7bdf-69f5-4f28-9e13-53e69c18035b",
   "metadata": {},
   "outputs": [
    {
     "name": "stdout",
     "output_type": "stream",
     "text": [
      "root\n",
      " |-- LocationID: integer (nullable = true)\n",
      " |-- Borough: string (nullable = true)\n",
      " |-- Zone: string (nullable = true)\n",
      " |-- service_zone: string (nullable = true)\n",
      "\n"
     ]
    }
   ],
   "source": [
    "zone_data.printSchema()\n",
    "# locationid에 대한 지리적 정보\n",
    "# 고유 지역, 자치구 이름, 세부적인 지역 이름, 서비스 구역"
   ]
  },
  {
   "cell_type": "code",
   "execution_count": 19,
   "id": "a98beb18-222f-4780-a787-68c9d065b871",
   "metadata": {},
   "outputs": [
    {
     "name": "stdout",
     "output_type": "stream",
     "text": [
      "+----------+-------+--------------------+------------+\n",
      "|LocationID|Borough|                Zone|service_zone|\n",
      "+----------+-------+--------------------+------------+\n",
      "|         1|    EWR|      Newark Airport|         EWR|\n",
      "|         2| Queens|         Jamaica Bay|   Boro Zone|\n",
      "|         3|  Bronx|Allerton/Pelham G...|   Boro Zone|\n",
      "+----------+-------+--------------------+------------+\n",
      "only showing top 3 rows\n",
      "\n"
     ]
    }
   ],
   "source": [
    "zone_data.show(3)"
   ]
  },
  {
   "cell_type": "code",
   "execution_count": 22,
   "id": "0ca2178d-af05-4aaa-98ca-6798cc1ff4c2",
   "metadata": {},
   "outputs": [
    {
     "name": "stdout",
     "output_type": "stream",
     "text": [
      "+-----------------+--------------------+-------------------+-------------------+------------+------------+-------+\n",
      "|hvfhs_license_num|dispatching_base_num|    pickup_datetime|   dropoff_datetime|PULocationID|DOLocationID|SR_Flag|\n",
      "+-----------------+--------------------+-------------------+-------------------+------------+------------+-------+\n",
      "|           HV0005|              B02510|2020-03-01 00:03:40|2020-03-01 00:23:39|          81|         159|   NULL|\n",
      "|           HV0005|              B02510|2020-03-01 00:28:05|2020-03-01 00:38:57|         168|         119|   NULL|\n",
      "|           HV0003|              B02764|2020-03-01 00:03:07|2020-03-01 00:15:04|         137|         209|      1|\n",
      "+-----------------+--------------------+-------------------+-------------------+------------+------------+-------+\n",
      "only showing top 3 rows\n",
      "\n"
     ]
    }
   ],
   "source": [
    "trip_data.show(3)"
   ]
  },
  {
   "cell_type": "code",
   "execution_count": null,
   "id": "e4bc068b-4e80-4081-96fb-48cb8a5f32d1",
   "metadata": {},
   "outputs": [],
   "source": [
    "## 승차 Location(PULocationID)별 개수 세기\n",
    "# 하차 Location(DOLocationID)별 개수 세기\n",
    "#HV0003 운송사업자의 승차 지역별 트립 건수를 집계하고, \n",
    "#가장 많은 운송사업자순으로 정렬하는 분석 쿼리  hvfhs_license_num\n",
    "#운송사별 운행 건수 비교\n",
    "#승차 위치 Borough별 운행 건수\n",
    "#서비스 존별 승차/하차 건수"
   ]
  },
  {
   "cell_type": "code",
   "execution_count": 26,
   "id": "ac386add-ffd4-4dc4-87e2-5459b68f708f",
   "metadata": {},
   "outputs": [
    {
     "name": "stdout",
     "output_type": "stream",
     "text": [
      "+------------+------+\n",
      "|PULocationID| count|\n",
      "+------------+------+\n",
      "|         148|116205|\n",
      "|         243| 87431|\n",
      "|          31|  5285|\n",
      "|         137| 85552|\n",
      "|          85| 46120|\n",
      "|         251|  9080|\n",
      "|          65| 66622|\n",
      "|         255|113947|\n",
      "|          53| 17571|\n",
      "|         133| 27200|\n",
      "|          78| 76155|\n",
      "|         108| 20378|\n",
      "|         155| 39527|\n",
      "|         211| 61075|\n",
      "|         193| 20111|\n",
      "|          34| 11823|\n",
      "|         115| 10806|\n",
      "|         126| 52833|\n",
      "|         101|  8983|\n",
      "|          81| 41425|\n",
      "+------------+------+\n",
      "only showing top 20 rows\n",
      "\n"
     ]
    }
   ],
   "source": [
    "## 승차 Location(PULocationID)별 개수 세기\n",
    "trip_data.groupBy('PULocationID').count().show()"
   ]
  },
  {
   "cell_type": "code",
   "execution_count": 27,
   "id": "f3bd84ec-b9eb-443f-80d1-dd188f5cc37a",
   "metadata": {},
   "outputs": [
    {
     "name": "stdout",
     "output_type": "stream",
     "text": [
      "+------------+------+\n",
      "|DOLocationID| count|\n",
      "+------------+------+\n",
      "|         148| 91601|\n",
      "|         243| 86795|\n",
      "|          31|  5526|\n",
      "|          85| 44509|\n",
      "|         137| 80098|\n",
      "|         251|  8525|\n",
      "|          65| 58888|\n",
      "|         255|105051|\n",
      "|          53| 19013|\n",
      "|         133| 27760|\n",
      "|          78| 74447|\n",
      "|         155| 42239|\n",
      "|         108| 21354|\n",
      "|         211| 54176|\n",
      "|         193| 19104|\n",
      "|          34| 12392|\n",
      "|         115|  9809|\n",
      "|         101|  7218|\n",
      "|         126| 59027|\n",
      "|          81| 38445|\n",
      "+------------+------+\n",
      "only showing top 20 rows\n",
      "\n"
     ]
    }
   ],
   "source": [
    "# 하차 Location(DOLocationID)별 개수 세기\n",
    "trip_data.groupBy('DOLocationID').count().show()"
   ]
  },
  {
   "cell_type": "code",
   "execution_count": 36,
   "id": "1cdc167b-8cb4-4e21-80b1-e5b06551c408",
   "metadata": {},
   "outputs": [],
   "source": [
    "#HV0003 운송사업자의 승차 지역별 트립 건수를 집계\n",
    "hv0003_trips = trip_data.filter(trip_data.hvfhs_license_num == \"HV0003\") # hvfhs_license_num = HB0003 필터링\n",
    "hv0003_pu_count = hv0003_trips.groupBy(\"PULocationID\").count() # pulocaionid 별 trip count\n",
    "hv0003_pu_with_zone = hv0003_pu_count.join(\n",
    "    zone_data,\n",
    "    hv0003_pu_count.PULocationID == zone_data.LocationID,\n",
    "    how=\"left\"\n",
    ").select(\"PULocationID\", \"count\",\"Borough\", \"Zone\")"
   ]
  },
  {
   "cell_type": "code",
   "execution_count": 37,
   "id": "1b7a698e-1be1-47b7-84ff-d7d47ce6a2be",
   "metadata": {},
   "outputs": [
    {
     "name": "stdout",
     "output_type": "stream",
     "text": [
      "+------------+------+---------+--------------------+\n",
      "|PULocationID| count|  Borough|                Zone|\n",
      "+------------+------+---------+--------------------+\n",
      "|          61|163091| Brooklyn| Crown Heights North|\n",
      "|          76|134198| Brooklyn|       East New York|\n",
      "|         132|114179|   Queens|         JFK Airport|\n",
      "|          79|112017|Manhattan|        East Village|\n",
      "|          37|110150| Brooklyn|      Bushwick South|\n",
      "|          42|108070|Manhattan|Central Harlem North|\n",
      "|         138|104119|   Queens|   LaGuardia Airport|\n",
      "|         244| 97324|Manhattan|Washington Height...|\n",
      "|          89| 95724| Brooklyn|Flatbush/Ditmas Park|\n",
      "|          39| 94484| Brooklyn|            Canarsie|\n",
      "|         231| 94155|Manhattan|TriBeCa/Civic Center|\n",
      "|           7| 92676|   Queens|             Astoria|\n",
      "|          17| 90352| Brooklyn|             Bedford|\n",
      "|         161| 90261|Manhattan|      Midtown Center|\n",
      "|         225| 88749| Brooklyn|  Stuyvesant Heights|\n",
      "|         234| 88372|Manhattan|            Union Sq|\n",
      "|         230| 86870|Manhattan|Times Sq/Theatre ...|\n",
      "|         188| 84347| Brooklyn|Prospect-Lefferts...|\n",
      "|          35| 82764| Brooklyn|         Brownsville|\n",
      "|         168| 82396|    Bronx|Mott Haven/Port M...|\n",
      "+------------+------+---------+--------------------+\n",
      "only showing top 20 rows\n",
      "\n"
     ]
    }
   ],
   "source": [
    "hv0003_pu_with_zone.orderBy(\"count\",ascending=False).show()"
   ]
  },
  {
   "cell_type": "code",
   "execution_count": 38,
   "id": "ca16f6b0-e782-4415-b8d8-db8caf29a4f0",
   "metadata": {},
   "outputs": [
    {
     "name": "stdout",
     "output_type": "stream",
     "text": [
      "+-----------------+-------+\n",
      "|hvfhs_license_num|  count|\n",
      "+-----------------+-------+\n",
      "|           HV0003|9836763|\n",
      "|           HV0005|3219535|\n",
      "|           HV0004| 336606|\n",
      "+-----------------+-------+\n",
      "\n"
     ]
    }
   ],
   "source": [
    "#가장 많은 운송사업자순으로 정렬하는 분석 쿼리  hvfhs_license_num\n",
    "trip_data.groupBy('hvfhs_license_num').count().orderBy('count',ascending=False).show()"
   ]
  },
  {
   "cell_type": "code",
   "execution_count": 42,
   "id": "94561d7c-a90c-4dbf-a915-88e6e46f1295",
   "metadata": {},
   "outputs": [
    {
     "name": "stdout",
     "output_type": "stream",
     "text": [
      "+-----------------+-------+\n",
      "|hvfhs_license_num|  count|\n",
      "+-----------------+-------+\n",
      "|           HV0004| 336606|\n",
      "|           HV0005|3219535|\n",
      "|           HV0003|9836763|\n",
      "+-----------------+-------+\n",
      "\n"
     ]
    }
   ],
   "source": [
    "#운송사별 운행 건수 비교\n",
    "trip_data.groupBy('hvfhs_license_num').count().show()"
   ]
  },
  {
   "cell_type": "code",
   "execution_count": 48,
   "id": "9134cd66-75cc-4b34-81de-c862e81c4015",
   "metadata": {},
   "outputs": [],
   "source": [
    "#승차 위치 Borough별 운행 건수\n",
    "trip_with_zone = trip_data.join(\n",
    "    zone_data,\n",
    "    trip_data.PULocationID == zone_data.LocationID,\n",
    "    how='left'\n",
    ")"
   ]
  },
  {
   "cell_type": "code",
   "execution_count": 49,
   "id": "ca7cb492-8369-4ca4-996f-c0c54dec0bc1",
   "metadata": {},
   "outputs": [
    {
     "name": "stdout",
     "output_type": "stream",
     "text": [
      "+-------------+-------+\n",
      "|      Borough|  count|\n",
      "+-------------+-------+\n",
      "|    Manhattan|4953140|\n",
      "|     Brooklyn|3735764|\n",
      "|       Queens|2437383|\n",
      "|        Bronx|2086592|\n",
      "|Staten Island| 178818|\n",
      "|      Unknown|    845|\n",
      "|          EWR|    362|\n",
      "+-------------+-------+\n",
      "\n"
     ]
    }
   ],
   "source": [
    "borough_trip_counts = trip_with_zone.groupBy('Borough').count().orderBy('count',ascending=False)\n",
    "borough_trip_counts.show()"
   ]
  },
  {
   "cell_type": "code",
   "execution_count": 59,
   "id": "8092892c-3f03-49c8-a922-7aa3a377a1c0",
   "metadata": {},
   "outputs": [
    {
     "name": "stdout",
     "output_type": "stream",
     "text": [
      "+------------+------------+\n",
      "|service_zone|pickup_count|\n",
      "+------------+------------+\n",
      "|   Boro Zone|     9046897|\n",
      "| Yellow Zone|     4025190|\n",
      "|    Airports|      319610|\n",
      "|         N/A|         845|\n",
      "|         EWR|         362|\n",
      "+------------+------------+\n",
      "\n"
     ]
    }
   ],
   "source": [
    "#서비스 존별 승차/하차 건수\n",
    "\n",
    "# 서비스 존별 승차 건수\n",
    "from pyspark.sql.functions import col\n",
    "# 승차 위치 기준 조인\n",
    "pickup_join = trip_data.join(\n",
    "    zone_data,\n",
    "    trip_data.PULocationID == zone_data.LocationID,\n",
    "    how='left'\n",
    ")\n",
    "\n",
    "# 서비스 존별 승차 건수 집계\n",
    "pickup_service_zone = pickup_join.groupBy('service_zone') \\\n",
    "    .count() \\\n",
    "    .withColumnRenamed('count','pickup_count') \\\n",
    "    .orderBy(col('pickup_count').desc())\n",
    "\n",
    "pickup_service_zone.show()"
   ]
  },
  {
   "cell_type": "code",
   "execution_count": 62,
   "id": "6f33f77e-8aa1-415a-b899-6fee3e871acd",
   "metadata": {},
   "outputs": [
    {
     "name": "stdout",
     "output_type": "stream",
     "text": [
      "+------------+-------------+\n",
      "|service_zone|dropoff_count|\n",
      "+------------+-------------+\n",
      "|   Boro Zone|      8885136|\n",
      "| Yellow Zone|      3643787|\n",
      "|    Airports|       411156|\n",
      "|         N/A|       387759|\n",
      "|         EWR|        65066|\n",
      "+------------+-------------+\n",
      "\n"
     ]
    }
   ],
   "source": [
    "# 서비스 존별 하차 건수\n",
    "# 하차 위치 기준 조인\n",
    "dropff_join = trip_data.join(\n",
    "    zone_data,\n",
    "    trip_data.DOLocationID == zone_data.LocationID,\n",
    "    how='left'\n",
    ")\n",
    "\n",
    "# 서비스 존별 하차 건수 집계 \n",
    "dropoff_service_zone = dropff_join.groupBy('service_zone')\\\n",
    "    .count()\\\n",
    "    .withColumnRenamed('count','dropoff_count')\\\n",
    "    .orderBy(col('dropoff_count').desc())\n",
    "\n",
    "dropoff_service_zone.show()"
   ]
  },
  {
   "cell_type": "code",
   "execution_count": null,
   "id": "7f082fb1-8495-4333-b39e-443602fd0e0d",
   "metadata": {},
   "outputs": [],
   "source": []
  },
  {
   "cell_type": "code",
   "execution_count": null,
   "id": "b39ac02c-c31f-46a7-9487-f9071524af59",
   "metadata": {},
   "outputs": [],
   "source": []
  }
 ],
 "metadata": {
  "kernelspec": {
   "display_name": "Python 3 (ipykernel)",
   "language": "python",
   "name": "python3"
  },
  "language_info": {
   "codemirror_mode": {
    "name": "ipython",
    "version": 3
   },
   "file_extension": ".py",
   "mimetype": "text/x-python",
   "name": "python",
   "nbconvert_exporter": "python",
   "pygments_lexer": "ipython3",
   "version": "3.11.6"
  }
 },
 "nbformat": 4,
 "nbformat_minor": 5
}
